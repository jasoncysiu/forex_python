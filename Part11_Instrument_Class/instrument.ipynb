{
 "metadata": {
  "language_info": {
   "codemirror_mode": {
    "name": "ipython",
    "version": 3
   },
   "file_extension": ".py",
   "mimetype": "text/x-python",
   "name": "python",
   "nbconvert_exporter": "python",
   "pygments_lexer": "ipython3",
   "version": "3.8.6-final"
  },
  "orig_nbformat": 2,
  "kernelspec": {
   "name": "python3",
   "display_name": "Python 3",
   "language": "python"
  }
 },
 "nbformat": 4,
 "nbformat_minor": 2,
 "cells": [
  {
   "cell_type": "code",
   "execution_count": 24,
   "metadata": {},
   "outputs": [],
   "source": [
    "import requests\n",
    "import defs\n",
    "import pandas as pd"
   ]
  },
  {
   "cell_type": "code",
   "execution_count": 2,
   "metadata": {},
   "outputs": [],
   "source": [
    "session = requests.Session()"
   ]
  },
  {
   "cell_type": "code",
   "execution_count": 3,
   "metadata": {},
   "outputs": [],
   "source": [
    "url = f\"{defs.OANDA_URL}/accounts/{defs.ACCOUNT_ID}/instruments\""
   ]
  },
  {
   "cell_type": "code",
   "execution_count": 4,
   "metadata": {},
   "outputs": [
    {
     "output_type": "execute_result",
     "data": {
      "text/plain": [
       "'https://api-fxpractice.oanda.com/v3/accounts/101-012-17790649-001/instruments'"
      ]
     },
     "metadata": {},
     "execution_count": 4
    }
   ],
   "source": [
    "url"
   ]
  },
  {
   "cell_type": "code",
   "execution_count": 5,
   "metadata": {},
   "outputs": [],
   "source": [
    "response = session.get(url, params=None, headers=defs.SECURE_HEADER)"
   ]
  },
  {
   "cell_type": "code",
   "execution_count": 6,
   "metadata": {},
   "outputs": [
    {
     "output_type": "execute_result",
     "data": {
      "text/plain": [
       "200"
      ]
     },
     "metadata": {},
     "execution_count": 6
    }
   ],
   "source": [
    "response.status_code"
   ]
  },
  {
   "cell_type": "code",
   "execution_count": 8,
   "metadata": {},
   "outputs": [],
   "source": [
    "data = response.json()"
   ]
  },
  {
   "cell_type": "code",
   "execution_count": 9,
   "metadata": {},
   "outputs": [
    {
     "output_type": "execute_result",
     "data": {
      "text/plain": [
       "dict_keys(['instruments', 'lastTransactionID'])"
      ]
     },
     "metadata": {},
     "execution_count": 9
    }
   ],
   "source": [
    "data.keys()"
   ]
  },
  {
   "cell_type": "code",
   "execution_count": 10,
   "metadata": {},
   "outputs": [],
   "source": [
    "instruments = data['instruments']"
   ]
  },
  {
   "cell_type": "code",
   "execution_count": 16,
   "metadata": {},
   "outputs": [
    {
     "output_type": "execute_result",
     "data": {
      "text/plain": [
       "dict_keys(['name', 'type', 'displayName', 'pipLocation', 'displayPrecision', 'tradeUnitsPrecision', 'minimumTradeSize', 'maximumTrailingStopDistance', 'minimumTrailingStopDistance', 'maximumPositionSize', 'maximumOrderUnits', 'marginRate', 'guaranteedStopLossOrderMode', 'tags', 'financing'])"
      ]
     },
     "metadata": {},
     "execution_count": 16
    }
   ],
   "source": [
    "instruments[0].keys()"
   ]
  },
  {
   "cell_type": "code",
   "execution_count": 18,
   "metadata": {},
   "outputs": [],
   "source": [
    "instrument_data = []\n",
    "for item in instruments:\n",
    "    new_ob = dict(\n",
    "        name = item['name'],\n",
    "        type = item['type'],\n",
    "        displayName = item['displayName'],\n",
    "        pipLocation = item['pipLocation'],\n",
    "        marginRate = item['marginRate']\n",
    "    )\n",
    "    instrument_data.append(new_ob)"
   ]
  },
  {
   "cell_type": "code",
   "execution_count": 21,
   "metadata": {},
   "outputs": [
    {
     "output_type": "stream",
     "name": "stdout",
     "text": [
      "{'name': 'XAG_EUR', 'type': 'METAL', 'displayName': 'Silver/EUR', 'pipLocation': -4, 'marginRate': '0.1'}\n{'name': 'CAD_SGD', 'type': 'CURRENCY', 'displayName': 'CAD/SGD', 'pipLocation': -4, 'marginRate': '0.05'}\n{'name': 'XAG_USD', 'type': 'METAL', 'displayName': 'Silver', 'pipLocation': -4, 'marginRate': '0.1'}\n"
     ]
    }
   ],
   "source": [
    "for item in instrument_data[:3]:\n",
    "    print(item)"
   ]
  },
  {
   "cell_type": "code",
   "execution_count": 25,
   "metadata": {},
   "outputs": [],
   "source": [
    "instrument_df = pd.DataFrame.from_dict(instrument_data)"
   ]
  },
  {
   "cell_type": "code",
   "execution_count": 26,
   "metadata": {},
   "outputs": [
    {
     "output_type": "execute_result",
     "data": {
      "text/plain": [
       "          name      type displayName  pipLocation marginRate\n",
       "0      XAG_EUR     METAL  Silver/EUR           -4        0.1\n",
       "1      CAD_SGD  CURRENCY     CAD/SGD           -4       0.05\n",
       "2      XAG_USD     METAL      Silver           -4        0.1\n",
       "3    UK100_GBP       CFD      UK 100            0       0.05\n",
       "4      GBP_NZD  CURRENCY     GBP/NZD           -4       0.05\n",
       "..         ...       ...         ...          ...        ...\n",
       "119  JP225_USD       CFD   Japan 225            0       0.05\n",
       "120    XAG_SGD     METAL  Silver/SGD           -4        0.1\n",
       "121    EUR_GBP  CURRENCY     EUR/GBP           -4     0.0333\n",
       "122    XAG_HKD     METAL  Silver/HKD           -4        0.1\n",
       "123    CAD_CHF  CURRENCY     CAD/CHF           -4       0.04\n",
       "\n",
       "[124 rows x 5 columns]"
      ],
      "text/html": "<div>\n<style scoped>\n    .dataframe tbody tr th:only-of-type {\n        vertical-align: middle;\n    }\n\n    .dataframe tbody tr th {\n        vertical-align: top;\n    }\n\n    .dataframe thead th {\n        text-align: right;\n    }\n</style>\n<table border=\"1\" class=\"dataframe\">\n  <thead>\n    <tr style=\"text-align: right;\">\n      <th></th>\n      <th>name</th>\n      <th>type</th>\n      <th>displayName</th>\n      <th>pipLocation</th>\n      <th>marginRate</th>\n    </tr>\n  </thead>\n  <tbody>\n    <tr>\n      <th>0</th>\n      <td>XAG_EUR</td>\n      <td>METAL</td>\n      <td>Silver/EUR</td>\n      <td>-4</td>\n      <td>0.1</td>\n    </tr>\n    <tr>\n      <th>1</th>\n      <td>CAD_SGD</td>\n      <td>CURRENCY</td>\n      <td>CAD/SGD</td>\n      <td>-4</td>\n      <td>0.05</td>\n    </tr>\n    <tr>\n      <th>2</th>\n      <td>XAG_USD</td>\n      <td>METAL</td>\n      <td>Silver</td>\n      <td>-4</td>\n      <td>0.1</td>\n    </tr>\n    <tr>\n      <th>3</th>\n      <td>UK100_GBP</td>\n      <td>CFD</td>\n      <td>UK 100</td>\n      <td>0</td>\n      <td>0.05</td>\n    </tr>\n    <tr>\n      <th>4</th>\n      <td>GBP_NZD</td>\n      <td>CURRENCY</td>\n      <td>GBP/NZD</td>\n      <td>-4</td>\n      <td>0.05</td>\n    </tr>\n    <tr>\n      <th>...</th>\n      <td>...</td>\n      <td>...</td>\n      <td>...</td>\n      <td>...</td>\n      <td>...</td>\n    </tr>\n    <tr>\n      <th>119</th>\n      <td>JP225_USD</td>\n      <td>CFD</td>\n      <td>Japan 225</td>\n      <td>0</td>\n      <td>0.05</td>\n    </tr>\n    <tr>\n      <th>120</th>\n      <td>XAG_SGD</td>\n      <td>METAL</td>\n      <td>Silver/SGD</td>\n      <td>-4</td>\n      <td>0.1</td>\n    </tr>\n    <tr>\n      <th>121</th>\n      <td>EUR_GBP</td>\n      <td>CURRENCY</td>\n      <td>EUR/GBP</td>\n      <td>-4</td>\n      <td>0.0333</td>\n    </tr>\n    <tr>\n      <th>122</th>\n      <td>XAG_HKD</td>\n      <td>METAL</td>\n      <td>Silver/HKD</td>\n      <td>-4</td>\n      <td>0.1</td>\n    </tr>\n    <tr>\n      <th>123</th>\n      <td>CAD_CHF</td>\n      <td>CURRENCY</td>\n      <td>CAD/CHF</td>\n      <td>-4</td>\n      <td>0.04</td>\n    </tr>\n  </tbody>\n</table>\n<p>124 rows × 5 columns</p>\n</div>"
     },
     "metadata": {},
     "execution_count": 26
    }
   ],
   "source": [
    "instrument_df"
   ]
  },
  {
   "cell_type": "code",
   "execution_count": 27,
   "metadata": {},
   "outputs": [],
   "source": [
    "instrument_df.to_pickle(\"instruments.pkl\")"
   ]
  },
  {
   "cell_type": "code",
   "execution_count": 28,
   "metadata": {},
   "outputs": [],
   "source": [
    "new_table = pd.read_pickle(\"instruments.pkl\")"
   ]
  },
  {
   "cell_type": "code",
   "execution_count": 29,
   "metadata": {},
   "outputs": [
    {
     "output_type": "execute_result",
     "data": {
      "text/plain": [
       "          name      type displayName  pipLocation marginRate\n",
       "0      XAG_EUR     METAL  Silver/EUR           -4        0.1\n",
       "1      CAD_SGD  CURRENCY     CAD/SGD           -4       0.05\n",
       "2      XAG_USD     METAL      Silver           -4        0.1\n",
       "3    UK100_GBP       CFD      UK 100            0       0.05\n",
       "4      GBP_NZD  CURRENCY     GBP/NZD           -4       0.05\n",
       "..         ...       ...         ...          ...        ...\n",
       "119  JP225_USD       CFD   Japan 225            0       0.05\n",
       "120    XAG_SGD     METAL  Silver/SGD           -4        0.1\n",
       "121    EUR_GBP  CURRENCY     EUR/GBP           -4     0.0333\n",
       "122    XAG_HKD     METAL  Silver/HKD           -4        0.1\n",
       "123    CAD_CHF  CURRENCY     CAD/CHF           -4       0.04\n",
       "\n",
       "[124 rows x 5 columns]"
      ],
      "text/html": "<div>\n<style scoped>\n    .dataframe tbody tr th:only-of-type {\n        vertical-align: middle;\n    }\n\n    .dataframe tbody tr th {\n        vertical-align: top;\n    }\n\n    .dataframe thead th {\n        text-align: right;\n    }\n</style>\n<table border=\"1\" class=\"dataframe\">\n  <thead>\n    <tr style=\"text-align: right;\">\n      <th></th>\n      <th>name</th>\n      <th>type</th>\n      <th>displayName</th>\n      <th>pipLocation</th>\n      <th>marginRate</th>\n    </tr>\n  </thead>\n  <tbody>\n    <tr>\n      <th>0</th>\n      <td>XAG_EUR</td>\n      <td>METAL</td>\n      <td>Silver/EUR</td>\n      <td>-4</td>\n      <td>0.1</td>\n    </tr>\n    <tr>\n      <th>1</th>\n      <td>CAD_SGD</td>\n      <td>CURRENCY</td>\n      <td>CAD/SGD</td>\n      <td>-4</td>\n      <td>0.05</td>\n    </tr>\n    <tr>\n      <th>2</th>\n      <td>XAG_USD</td>\n      <td>METAL</td>\n      <td>Silver</td>\n      <td>-4</td>\n      <td>0.1</td>\n    </tr>\n    <tr>\n      <th>3</th>\n      <td>UK100_GBP</td>\n      <td>CFD</td>\n      <td>UK 100</td>\n      <td>0</td>\n      <td>0.05</td>\n    </tr>\n    <tr>\n      <th>4</th>\n      <td>GBP_NZD</td>\n      <td>CURRENCY</td>\n      <td>GBP/NZD</td>\n      <td>-4</td>\n      <td>0.05</td>\n    </tr>\n    <tr>\n      <th>...</th>\n      <td>...</td>\n      <td>...</td>\n      <td>...</td>\n      <td>...</td>\n      <td>...</td>\n    </tr>\n    <tr>\n      <th>119</th>\n      <td>JP225_USD</td>\n      <td>CFD</td>\n      <td>Japan 225</td>\n      <td>0</td>\n      <td>0.05</td>\n    </tr>\n    <tr>\n      <th>120</th>\n      <td>XAG_SGD</td>\n      <td>METAL</td>\n      <td>Silver/SGD</td>\n      <td>-4</td>\n      <td>0.1</td>\n    </tr>\n    <tr>\n      <th>121</th>\n      <td>EUR_GBP</td>\n      <td>CURRENCY</td>\n      <td>EUR/GBP</td>\n      <td>-4</td>\n      <td>0.0333</td>\n    </tr>\n    <tr>\n      <th>122</th>\n      <td>XAG_HKD</td>\n      <td>METAL</td>\n      <td>Silver/HKD</td>\n      <td>-4</td>\n      <td>0.1</td>\n    </tr>\n    <tr>\n      <th>123</th>\n      <td>CAD_CHF</td>\n      <td>CURRENCY</td>\n      <td>CAD/CHF</td>\n      <td>-4</td>\n      <td>0.04</td>\n    </tr>\n  </tbody>\n</table>\n<p>124 rows × 5 columns</p>\n</div>"
     },
     "metadata": {},
     "execution_count": 29
    }
   ],
   "source": [
    "new_table"
   ]
  },
  {
   "cell_type": "code",
   "execution_count": null,
   "metadata": {},
   "outputs": [],
   "source": []
  }
 ]
}