{
 "metadata": {
  "language_info": {
   "codemirror_mode": {
    "name": "ipython",
    "version": 3
   },
   "file_extension": ".py",
   "mimetype": "text/x-python",
   "name": "python",
   "nbconvert_exporter": "python",
   "pygments_lexer": "ipython3",
   "version": "3.8.6-final"
  },
  "orig_nbformat": 2,
  "kernelspec": {
   "name": "python3",
   "display_name": "Python 3.8.6 64-bit ('venv')",
   "metadata": {
    "interpreter": {
     "hash": "be5e91b1e492455655c24714dfd4b9d98fd4b60ac770d810fbdc4ba1d818ed6d"
    }
   }
  }
 },
 "nbformat": 4,
 "nbformat_minor": 2,
 "cells": [
  {
   "cell_type": "code",
   "execution_count": 21,
   "metadata": {},
   "outputs": [],
   "source": [
    "import pandas as pd\n",
    "import utils\n",
    "import datetime as dt\n",
    "from dateutil.parser import *"
   ]
  },
  {
   "cell_type": "code",
   "execution_count": 35,
   "metadata": {},
   "outputs": [],
   "source": [
    "df_trades = pd.read_pickle(\"USD_JPY_H4_trades.pkl\")"
   ]
  },
  {
   "cell_type": "code",
   "execution_count": 36,
   "metadata": {},
   "outputs": [
    {
     "output_type": "execute_result",
     "data": {
      "text/plain": [
       "                              time    mid_o    mid_h    mid_l    mid_c  \\\n",
       "0   2018-01-02T02:00:00.000000000Z  112.720  112.751  112.666  112.688   \n",
       "12  2018-01-04T02:00:00.000000000Z  112.731  112.731  112.618  112.661   \n",
       "17  2018-01-04T22:00:00.000000000Z  112.750  112.806  112.730  112.774   \n",
       "21  2018-01-05T14:00:00.000000000Z  113.213  113.276  113.082  113.160   \n",
       "27  2018-01-08T14:00:00.000000000Z  112.928  113.125  112.904  113.082   \n",
       "\n",
       "      bid_c    ask_c  RANGE  mid_h_prev  mid_l_prev  RANGE_prev  DIRECTION  \\\n",
       "0   112.683  112.694  0.085     112.793     112.582       0.211         -1   \n",
       "12  112.654  112.668  0.113     112.778     112.480       0.298         -1   \n",
       "17  112.767  112.780  0.076     112.838     112.713       0.125          1   \n",
       "21  113.153  113.166  0.194     113.312     113.021       0.291         -1   \n",
       "27  113.076  113.088  0.221     113.167     112.884       0.283          1   \n",
       "\n",
       "    DIRECTION_prev  SIGNAL     ENTRY  STOPLOSS  TAKEPROFIT  \n",
       "0                1       1  112.8141  112.7297    112.9829  \n",
       "12               1       1  112.8078  112.6886    113.0462  \n",
       "17              -1      -1  112.7005  112.7505    112.6005  \n",
       "21              -1      -1  112.9919  113.1083    112.7591  \n",
       "27              -1      -1  112.8557  112.9689    112.6293  "
      ],
      "text/html": "<div>\n<style scoped>\n    .dataframe tbody tr th:only-of-type {\n        vertical-align: middle;\n    }\n\n    .dataframe tbody tr th {\n        vertical-align: top;\n    }\n\n    .dataframe thead th {\n        text-align: right;\n    }\n</style>\n<table border=\"1\" class=\"dataframe\">\n  <thead>\n    <tr style=\"text-align: right;\">\n      <th></th>\n      <th>time</th>\n      <th>mid_o</th>\n      <th>mid_h</th>\n      <th>mid_l</th>\n      <th>mid_c</th>\n      <th>bid_c</th>\n      <th>ask_c</th>\n      <th>RANGE</th>\n      <th>mid_h_prev</th>\n      <th>mid_l_prev</th>\n      <th>RANGE_prev</th>\n      <th>DIRECTION</th>\n      <th>DIRECTION_prev</th>\n      <th>SIGNAL</th>\n      <th>ENTRY</th>\n      <th>STOPLOSS</th>\n      <th>TAKEPROFIT</th>\n    </tr>\n  </thead>\n  <tbody>\n    <tr>\n      <th>0</th>\n      <td>2018-01-02T02:00:00.000000000Z</td>\n      <td>112.720</td>\n      <td>112.751</td>\n      <td>112.666</td>\n      <td>112.688</td>\n      <td>112.683</td>\n      <td>112.694</td>\n      <td>0.085</td>\n      <td>112.793</td>\n      <td>112.582</td>\n      <td>0.211</td>\n      <td>-1</td>\n      <td>1</td>\n      <td>1</td>\n      <td>112.8141</td>\n      <td>112.7297</td>\n      <td>112.9829</td>\n    </tr>\n    <tr>\n      <th>12</th>\n      <td>2018-01-04T02:00:00.000000000Z</td>\n      <td>112.731</td>\n      <td>112.731</td>\n      <td>112.618</td>\n      <td>112.661</td>\n      <td>112.654</td>\n      <td>112.668</td>\n      <td>0.113</td>\n      <td>112.778</td>\n      <td>112.480</td>\n      <td>0.298</td>\n      <td>-1</td>\n      <td>1</td>\n      <td>1</td>\n      <td>112.8078</td>\n      <td>112.6886</td>\n      <td>113.0462</td>\n    </tr>\n    <tr>\n      <th>17</th>\n      <td>2018-01-04T22:00:00.000000000Z</td>\n      <td>112.750</td>\n      <td>112.806</td>\n      <td>112.730</td>\n      <td>112.774</td>\n      <td>112.767</td>\n      <td>112.780</td>\n      <td>0.076</td>\n      <td>112.838</td>\n      <td>112.713</td>\n      <td>0.125</td>\n      <td>1</td>\n      <td>-1</td>\n      <td>-1</td>\n      <td>112.7005</td>\n      <td>112.7505</td>\n      <td>112.6005</td>\n    </tr>\n    <tr>\n      <th>21</th>\n      <td>2018-01-05T14:00:00.000000000Z</td>\n      <td>113.213</td>\n      <td>113.276</td>\n      <td>113.082</td>\n      <td>113.160</td>\n      <td>113.153</td>\n      <td>113.166</td>\n      <td>0.194</td>\n      <td>113.312</td>\n      <td>113.021</td>\n      <td>0.291</td>\n      <td>-1</td>\n      <td>-1</td>\n      <td>-1</td>\n      <td>112.9919</td>\n      <td>113.1083</td>\n      <td>112.7591</td>\n    </tr>\n    <tr>\n      <th>27</th>\n      <td>2018-01-08T14:00:00.000000000Z</td>\n      <td>112.928</td>\n      <td>113.125</td>\n      <td>112.904</td>\n      <td>113.082</td>\n      <td>113.076</td>\n      <td>113.088</td>\n      <td>0.221</td>\n      <td>113.167</td>\n      <td>112.884</td>\n      <td>0.283</td>\n      <td>1</td>\n      <td>-1</td>\n      <td>-1</td>\n      <td>112.8557</td>\n      <td>112.9689</td>\n      <td>112.6293</td>\n    </tr>\n  </tbody>\n</table>\n</div>"
     },
     "metadata": {},
     "execution_count": 36
    }
   ],
   "source": [
    "df_trades.head()"
   ]
  },
  {
   "cell_type": "code",
   "execution_count": 37,
   "metadata": {},
   "outputs": [],
   "source": [
    "pair = \"USD_JPY\""
   ]
  },
  {
   "cell_type": "code",
   "execution_count": 38,
   "metadata": {},
   "outputs": [],
   "source": [
    "df_raw = pd.read_pickle(utils.get_his_data_filename(pair, \"M5\"))"
   ]
  },
  {
   "cell_type": "code",
   "execution_count": 39,
   "metadata": {},
   "outputs": [],
   "source": [
    "non_cols = ['time', 'volume']\n",
    "mod_cols = [x for x in df_raw.columns if x not in non_cols]\n",
    "df_raw[mod_cols] = df_raw[mod_cols].apply(pd.to_numeric)"
   ]
  },
  {
   "cell_type": "code",
   "execution_count": 40,
   "metadata": {},
   "outputs": [],
   "source": [
    "df_trades[\"time\"] = [parse(x) for x in df_trades.time] \n",
    "df_raw[\"time\"] = [parse(x) for x in df_raw.time] "
   ]
  },
  {
   "cell_type": "code",
   "execution_count": 41,
   "metadata": {},
   "outputs": [],
   "source": [
    "df_trades[\"next\"] = df_trades[\"time\"].shift(-1)"
   ]
  },
  {
   "cell_type": "code",
   "execution_count": 79,
   "metadata": {},
   "outputs": [],
   "source": [
    "df_trades['trade_end'] = df_trades.next + dt.timedelta(hours=3, minutes=55)\n",
    "df_trades['trade_start'] = df_trades.time + dt.timedelta(hours=4)"
   ]
  },
  {
   "cell_type": "code",
   "execution_count": 82,
   "metadata": {},
   "outputs": [
    {
     "output_type": "execute_result",
     "data": {
      "text/plain": [
       "                       time                      next  \\\n",
       "0 2018-01-02 02:00:00+00:00 2018-01-04 02:00:00+00:00   \n",
       "1 2018-01-04 02:00:00+00:00 2018-01-04 22:00:00+00:00   \n",
       "2 2018-01-04 22:00:00+00:00 2018-01-05 14:00:00+00:00   \n",
       "3 2018-01-05 14:00:00+00:00 2018-01-08 14:00:00+00:00   \n",
       "4 2018-01-08 14:00:00+00:00 2018-01-09 18:00:00+00:00   \n",
       "\n",
       "                  trade_end               trade_start  \n",
       "0 2018-01-04 05:55:00+00:00 2018-01-02 06:00:00+00:00  \n",
       "1 2018-01-05 01:55:00+00:00 2018-01-04 06:00:00+00:00  \n",
       "2 2018-01-05 17:55:00+00:00 2018-01-05 02:00:00+00:00  \n",
       "3 2018-01-08 17:55:00+00:00 2018-01-05 18:00:00+00:00  \n",
       "4 2018-01-09 21:55:00+00:00 2018-01-08 18:00:00+00:00  "
      ],
      "text/html": "<div>\n<style scoped>\n    .dataframe tbody tr th:only-of-type {\n        vertical-align: middle;\n    }\n\n    .dataframe tbody tr th {\n        vertical-align: top;\n    }\n\n    .dataframe thead th {\n        text-align: right;\n    }\n</style>\n<table border=\"1\" class=\"dataframe\">\n  <thead>\n    <tr style=\"text-align: right;\">\n      <th></th>\n      <th>time</th>\n      <th>next</th>\n      <th>trade_end</th>\n      <th>trade_start</th>\n    </tr>\n  </thead>\n  <tbody>\n    <tr>\n      <th>0</th>\n      <td>2018-01-02 02:00:00+00:00</td>\n      <td>2018-01-04 02:00:00+00:00</td>\n      <td>2018-01-04 05:55:00+00:00</td>\n      <td>2018-01-02 06:00:00+00:00</td>\n    </tr>\n    <tr>\n      <th>1</th>\n      <td>2018-01-04 02:00:00+00:00</td>\n      <td>2018-01-04 22:00:00+00:00</td>\n      <td>2018-01-05 01:55:00+00:00</td>\n      <td>2018-01-04 06:00:00+00:00</td>\n    </tr>\n    <tr>\n      <th>2</th>\n      <td>2018-01-04 22:00:00+00:00</td>\n      <td>2018-01-05 14:00:00+00:00</td>\n      <td>2018-01-05 17:55:00+00:00</td>\n      <td>2018-01-05 02:00:00+00:00</td>\n    </tr>\n    <tr>\n      <th>3</th>\n      <td>2018-01-05 14:00:00+00:00</td>\n      <td>2018-01-08 14:00:00+00:00</td>\n      <td>2018-01-08 17:55:00+00:00</td>\n      <td>2018-01-05 18:00:00+00:00</td>\n    </tr>\n    <tr>\n      <th>4</th>\n      <td>2018-01-08 14:00:00+00:00</td>\n      <td>2018-01-09 18:00:00+00:00</td>\n      <td>2018-01-09 21:55:00+00:00</td>\n      <td>2018-01-08 18:00:00+00:00</td>\n    </tr>\n  </tbody>\n</table>\n</div>"
     },
     "metadata": {},
     "execution_count": 82
    }
   ],
   "source": [
    "df_trades[['time', 'next', 'trade_end', 'trade_start']].head()"
   ]
  },
  {
   "cell_type": "code",
   "execution_count": 84,
   "metadata": {},
   "outputs": [],
   "source": [
    "df_trades.dropna(inplace=True)\n",
    "df_trades.reset_index(drop=True, inplace=True)"
   ]
  },
  {
   "cell_type": "code",
   "execution_count": 89,
   "metadata": {},
   "outputs": [],
   "source": [
    "def signal_text(signal):\n",
    "    if signal == 1:\n",
    "        return 'BUY'\n",
    "    elif signal == -1:\n",
    "        return 'SELL'\n",
    "    return 'NONE'\n",
    "\n",
    "def triggered(direction, current_price, signal_price):\n",
    "    if direction == 1 and current_price > signal_price:\n",
    "        return True\n",
    "    elif direction == -1 and current_price < signal_price:\n",
    "        return True\n",
    "    return False\n",
    "\n",
    "def process_buy(start_index, TP, SL, prices, start_price):\n",
    "    for price in prices[start_index:]:\n",
    "        if price >= TP:\n",
    "            return 2.0\n",
    "        elif price <= SL:\n",
    "            return -1.0\n",
    "    return 0.0\n",
    "\n",
    "def process_sell(start_index, TP, SL, prices, start_price):\n",
    "    for price in prices[start_index:]:\n",
    "        if price <= TP:\n",
    "            return 2.0\n",
    "        elif price >= SL:\n",
    "            return -1.0\n",
    "    return 0.0\n",
    "\n",
    "def process_trade(start_index, direction, TP, SL, prices, start_price):\n",
    "    if direction == 1:\n",
    "        return process_buy(start_index, TP, SL, prices, start_price)\n",
    "    else:\n",
    "        return process_sell(start_index, TP, SL, prices, start_price)\n",
    "\n",
    "\n",
    "def process_m5(m5_df, row):\n",
    "    result = 0.0\n",
    "    for index, price in enumerate(m5_df.mid_c.values):\n",
    "        if triggered(row.SIGNAL, price, row.ENTRY) == True:\n",
    "            #print(f\"Signal at {index} {price:.2f} {row.ENTRY:.2f} {row.SIGNAL:.2f}\")\n",
    "            result = process_trade(index, row.SIGNAL, row.TAKEPROFIT, row.STOPLOSS, m5_df.mid_c.values, row.ENTRY)\n",
    "            break\n",
    "    return result"
   ]
  },
  {
   "cell_type": "code",
   "execution_count": 90,
   "metadata": {
    "tags": []
   },
   "outputs": [
    {
     "output_type": "stream",
     "name": "stdout",
     "text": [
      "85.0\n"
     ]
    }
   ],
   "source": [
    "total = 0\n",
    "for index, row in df_trades.iterrows():\n",
    "    m5_data = df_raw[(df_raw.time >= row.trade_start) & (df_raw.time <= row.trade_end)]\n",
    "    #print(f\"{row.time} {signal_text(row.SIGNAL)} {row.ENTRY:.2f} {m5_data.shape}\")\n",
    "    total += process_m5(m5_data, row)\n",
    "    #if index > 10:\n",
    "    #    break\n",
    "print(total)"
   ]
  },
  {
   "cell_type": "code",
   "execution_count": null,
   "metadata": {},
   "outputs": [],
   "source": []
  },
  {
   "cell_type": "code",
   "execution_count": null,
   "metadata": {},
   "outputs": [],
   "source": []
  },
  {
   "cell_type": "code",
   "execution_count": null,
   "metadata": {},
   "outputs": [],
   "source": []
  },
  {
   "cell_type": "code",
   "execution_count": null,
   "metadata": {},
   "outputs": [],
   "source": []
  },
  {
   "cell_type": "code",
   "execution_count": null,
   "metadata": {},
   "outputs": [],
   "source": []
  }
 ]
}