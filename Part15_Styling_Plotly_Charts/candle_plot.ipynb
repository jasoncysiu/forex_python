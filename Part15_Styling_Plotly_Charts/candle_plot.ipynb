{
 "metadata": {
  "language_info": {
   "codemirror_mode": {
    "name": "ipython",
    "version": 3
   },
   "file_extension": ".py",
   "mimetype": "text/x-python",
   "name": "python",
   "nbconvert_exporter": "python",
   "pygments_lexer": "ipython3",
   "version": "3.8.6-final"
  },
  "orig_nbformat": 2,
  "kernelspec": {
   "name": "python3",
   "display_name": "Python 3",
   "language": "python"
  }
 },
 "nbformat": 4,
 "nbformat_minor": 2,
 "cells": [
  {
   "cell_type": "code",
   "execution_count": 1,
   "metadata": {},
   "outputs": [],
   "source": [
    "import pandas as pd\n",
    "import utils\n",
    "import plotly.graph_objects as go"
   ]
  },
  {
   "cell_type": "code",
   "execution_count": 2,
   "metadata": {},
   "outputs": [],
   "source": [
    "pair = \"EUR_USD\"\n",
    "granularity = \"H1\""
   ]
  },
  {
   "cell_type": "code",
   "execution_count": 3,
   "metadata": {},
   "outputs": [],
   "source": [
    "df = pd.read_pickle(utils.get_his_data_filename(pair, granularity))"
   ]
  },
  {
   "cell_type": "code",
   "execution_count": 4,
   "metadata": {},
   "outputs": [],
   "source": [
    "non_cols = ['time', 'volume']"
   ]
  },
  {
   "cell_type": "code",
   "execution_count": 5,
   "metadata": {},
   "outputs": [],
   "source": [
    "mod_cols = [x for x in df.columns if x not in non_cols]"
   ]
  },
  {
   "cell_type": "code",
   "execution_count": 6,
   "metadata": {},
   "outputs": [],
   "source": [
    "df[mod_cols] = df[mod_cols].apply(pd.to_numeric)"
   ]
  },
  {
   "cell_type": "code",
   "execution_count": 7,
   "metadata": {},
   "outputs": [],
   "source": [
    "df_plot = df.iloc[-100:].copy()"
   ]
  },
  {
   "cell_type": "code",
   "execution_count": 8,
   "metadata": {},
   "outputs": [
    {
     "output_type": "execute_result",
     "data": {
      "text/plain": [
       "(100, 14)"
      ]
     },
     "metadata": {},
     "execution_count": 8
    }
   ],
   "source": [
    "df_plot.shape"
   ]
  },
  {
   "cell_type": "code",
   "execution_count": 11,
   "metadata": {},
   "outputs": [
    {
     "output_type": "display_data",
     "data": {
      "application/vnd.plotly.v1+json": {
       "config": {
        "plotlyServerURL": "https://plot.ly"
       },
       "data": [
        {
         "close": [
          1.21797,
          1.21733,
          1.21476,
          1.21573,
          1.21568,
          1.21534,
          1.2147,
          1.21207,
          1.21302,
          1.21369,
          1.21445,
          1.2143,
          1.21388,
          1.21416,
          1.21416,
          1.21434,
          1.21428,
          1.21344,
          1.21456,
          1.21424,
          1.21398,
          1.21304,
          1.21311,
          1.21273,
          1.21114,
          1.21384,
          1.2129,
          1.2127,
          1.21376,
          1.21444,
          1.21566,
          1.21593,
          1.21678,
          1.21464,
          1.21574,
          1.21639,
          1.21647,
          1.21674,
          1.216,
          1.2162,
          1.21634,
          1.21625,
          1.2161,
          1.21592,
          1.21568,
          1.21574,
          1.21632,
          1.21631,
          1.21552,
          1.21482,
          1.21228,
          1.21312,
          1.21166,
          1.21079,
          1.21112,
          1.20684,
          1.20912,
          1.21004,
          1.21179,
          1.21204,
          1.21001,
          1.2105,
          1.2112,
          1.21088,
          1.2103,
          1.20881,
          1.21014,
          1.20944,
          1.20913,
          1.20937,
          1.21056,
          1.21035,
          1.2094,
          1.20909,
          1.21088,
          1.21089,
          1.21023,
          1.20992,
          1.21286,
          1.21296,
          1.21217,
          1.21216,
          1.21252,
          1.21348,
          1.21317,
          1.2126,
          1.21218,
          1.21216,
          1.2121,
          1.21074,
          1.21084,
          1.21044,
          1.20974,
          1.20998,
          1.20996,
          1.21056,
          1.21046,
          1.21172,
          1.21167,
          1.21344
         ],
         "decreasing": {
          "fillcolor": "#CC2E3C",
          "line": {
           "color": "#FF3A4C"
          }
         },
         "high": [
          1.21828,
          1.21802,
          1.21748,
          1.2159,
          1.21627,
          1.21596,
          1.21537,
          1.21524,
          1.21314,
          1.21382,
          1.21475,
          1.21467,
          1.21446,
          1.21418,
          1.21436,
          1.21449,
          1.21444,
          1.21427,
          1.21458,
          1.21463,
          1.21442,
          1.214,
          1.21319,
          1.21312,
          1.21314,
          1.21416,
          1.21388,
          1.2135,
          1.21427,
          1.21492,
          1.21619,
          1.21644,
          1.2176,
          1.2169,
          1.21584,
          1.21652,
          1.21683,
          1.21678,
          1.21686,
          1.21648,
          1.21638,
          1.21699,
          1.21672,
          1.21612,
          1.21594,
          1.21581,
          1.21652,
          1.2166,
          1.21632,
          1.21586,
          1.21489,
          1.2133,
          1.21312,
          1.21198,
          1.21171,
          1.21125,
          1.20984,
          1.21096,
          1.21194,
          1.21208,
          1.2129,
          1.21081,
          1.21142,
          1.2112,
          1.21112,
          1.2105,
          1.2106,
          1.21052,
          1.20943,
          1.2094,
          1.21056,
          1.21054,
          1.21034,
          1.21135,
          1.21113,
          1.21174,
          1.21116,
          1.21118,
          1.21309,
          1.21424,
          1.2142,
          1.21296,
          1.21305,
          1.21375,
          1.214,
          1.21378,
          1.2127,
          1.21292,
          1.21246,
          1.2122,
          1.21162,
          1.21092,
          1.21066,
          1.21021,
          1.21018,
          1.2107,
          1.21089,
          1.21198,
          1.21212,
          1.21344
         ],
         "increasing": {
          "fillcolor": "#24A06B",
          "line": {
           "color": "#2EC886"
          }
         },
         "line": {
          "width": 1
         },
         "low": [
          1.21716,
          1.21685,
          1.21441,
          1.21402,
          1.21543,
          1.21498,
          1.21435,
          1.21198,
          1.21161,
          1.21196,
          1.21362,
          1.21402,
          1.21369,
          1.21361,
          1.21385,
          1.21374,
          1.21417,
          1.21332,
          1.21334,
          1.21424,
          1.21378,
          1.21274,
          1.2127,
          1.21234,
          1.21078,
          1.21116,
          1.2121,
          1.21232,
          1.21251,
          1.21361,
          1.21406,
          1.2154,
          1.21575,
          1.21399,
          1.2146,
          1.21563,
          1.21596,
          1.2164,
          1.2159,
          1.2161,
          1.21604,
          1.21606,
          1.21584,
          1.21554,
          1.21548,
          1.21531,
          1.21562,
          1.21588,
          1.21518,
          1.21439,
          1.21194,
          1.21188,
          1.21135,
          1.21056,
          1.20981,
          1.20585,
          1.20678,
          1.20894,
          1.20971,
          1.21106,
          1.2098,
          1.20933,
          1.2102,
          1.21062,
          1.20945,
          1.20826,
          1.20862,
          1.20907,
          1.20877,
          1.2087,
          1.20916,
          1.20934,
          1.20808,
          1.2089,
          1.20906,
          1.21036,
          1.20959,
          1.20982,
          1.2088,
          1.2122,
          1.21216,
          1.21189,
          1.21212,
          1.2124,
          1.21315,
          1.2125,
          1.21186,
          1.21188,
          1.21186,
          1.21038,
          1.21064,
          1.21022,
          1.20974,
          1.20952,
          1.20945,
          1.2098,
          1.20996,
          1.20972,
          1.2106,
          1.2107
         ],
         "opacity": 1,
         "open": [
          1.21773,
          1.21796,
          1.21732,
          1.21474,
          1.21574,
          1.21566,
          1.21536,
          1.21472,
          1.21205,
          1.21301,
          1.21368,
          1.21446,
          1.21432,
          1.21389,
          1.21414,
          1.21416,
          1.21432,
          1.21427,
          1.21344,
          1.21455,
          1.21426,
          1.21396,
          1.21305,
          1.2131,
          1.21275,
          1.21116,
          1.21385,
          1.21292,
          1.21268,
          1.21378,
          1.21444,
          1.21568,
          1.21592,
          1.21679,
          1.21464,
          1.21573,
          1.21638,
          1.21648,
          1.21676,
          1.2162,
          1.21616,
          1.21633,
          1.21624,
          1.2161,
          1.2159,
          1.2157,
          1.21573,
          1.2163,
          1.21632,
          1.21554,
          1.2148,
          1.21226,
          1.21311,
          1.21164,
          1.21078,
          1.21113,
          1.20684,
          1.20914,
          1.21004,
          1.2118,
          1.21202,
          1.21002,
          1.21048,
          1.2112,
          1.21086,
          1.21028,
          1.20879,
          1.21013,
          1.20943,
          1.20914,
          1.20936,
          1.21054,
          1.21034,
          1.20942,
          1.20912,
          1.21086,
          1.21088,
          1.21024,
          1.2099,
          1.21287,
          1.21295,
          1.21216,
          1.21218,
          1.21253,
          1.21349,
          1.21315,
          1.21262,
          1.21229,
          1.21218,
          1.21209,
          1.21073,
          1.21086,
          1.21042,
          1.20973,
          1.20996,
          1.20995,
          1.21057,
          1.21044,
          1.21172,
          1.21166
         ],
         "type": "candlestick",
         "x": [
          "2021-01-25T07:00:00.000000000Z",
          "2021-01-25T08:00:00.000000000Z",
          "2021-01-25T09:00:00.000000000Z",
          "2021-01-25T10:00:00.000000000Z",
          "2021-01-25T11:00:00.000000000Z",
          "2021-01-25T12:00:00.000000000Z",
          "2021-01-25T13:00:00.000000000Z",
          "2021-01-25T14:00:00.000000000Z",
          "2021-01-25T15:00:00.000000000Z",
          "2021-01-25T16:00:00.000000000Z",
          "2021-01-25T17:00:00.000000000Z",
          "2021-01-25T18:00:00.000000000Z",
          "2021-01-25T19:00:00.000000000Z",
          "2021-01-25T20:00:00.000000000Z",
          "2021-01-25T21:00:00.000000000Z",
          "2021-01-25T22:00:00.000000000Z",
          "2021-01-25T23:00:00.000000000Z",
          "2021-01-26T00:00:00.000000000Z",
          "2021-01-26T01:00:00.000000000Z",
          "2021-01-26T02:00:00.000000000Z",
          "2021-01-26T03:00:00.000000000Z",
          "2021-01-26T04:00:00.000000000Z",
          "2021-01-26T05:00:00.000000000Z",
          "2021-01-26T06:00:00.000000000Z",
          "2021-01-26T07:00:00.000000000Z",
          "2021-01-26T08:00:00.000000000Z",
          "2021-01-26T09:00:00.000000000Z",
          "2021-01-26T10:00:00.000000000Z",
          "2021-01-26T11:00:00.000000000Z",
          "2021-01-26T12:00:00.000000000Z",
          "2021-01-26T13:00:00.000000000Z",
          "2021-01-26T14:00:00.000000000Z",
          "2021-01-26T15:00:00.000000000Z",
          "2021-01-26T16:00:00.000000000Z",
          "2021-01-26T17:00:00.000000000Z",
          "2021-01-26T18:00:00.000000000Z",
          "2021-01-26T19:00:00.000000000Z",
          "2021-01-26T20:00:00.000000000Z",
          "2021-01-26T21:00:00.000000000Z",
          "2021-01-26T22:00:00.000000000Z",
          "2021-01-26T23:00:00.000000000Z",
          "2021-01-27T00:00:00.000000000Z",
          "2021-01-27T01:00:00.000000000Z",
          "2021-01-27T02:00:00.000000000Z",
          "2021-01-27T03:00:00.000000000Z",
          "2021-01-27T04:00:00.000000000Z",
          "2021-01-27T05:00:00.000000000Z",
          "2021-01-27T06:00:00.000000000Z",
          "2021-01-27T07:00:00.000000000Z",
          "2021-01-27T08:00:00.000000000Z",
          "2021-01-27T09:00:00.000000000Z",
          "2021-01-27T10:00:00.000000000Z",
          "2021-01-27T11:00:00.000000000Z",
          "2021-01-27T12:00:00.000000000Z",
          "2021-01-27T13:00:00.000000000Z",
          "2021-01-27T14:00:00.000000000Z",
          "2021-01-27T15:00:00.000000000Z",
          "2021-01-27T16:00:00.000000000Z",
          "2021-01-27T17:00:00.000000000Z",
          "2021-01-27T18:00:00.000000000Z",
          "2021-01-27T19:00:00.000000000Z",
          "2021-01-27T20:00:00.000000000Z",
          "2021-01-27T21:00:00.000000000Z",
          "2021-01-27T22:00:00.000000000Z",
          "2021-01-27T23:00:00.000000000Z",
          "2021-01-28T00:00:00.000000000Z",
          "2021-01-28T01:00:00.000000000Z",
          "2021-01-28T02:00:00.000000000Z",
          "2021-01-28T03:00:00.000000000Z",
          "2021-01-28T04:00:00.000000000Z",
          "2021-01-28T05:00:00.000000000Z",
          "2021-01-28T06:00:00.000000000Z",
          "2021-01-28T07:00:00.000000000Z",
          "2021-01-28T08:00:00.000000000Z",
          "2021-01-28T09:00:00.000000000Z",
          "2021-01-28T10:00:00.000000000Z",
          "2021-01-28T11:00:00.000000000Z",
          "2021-01-28T12:00:00.000000000Z",
          "2021-01-28T13:00:00.000000000Z",
          "2021-01-28T14:00:00.000000000Z",
          "2021-01-28T15:00:00.000000000Z",
          "2021-01-28T16:00:00.000000000Z",
          "2021-01-28T17:00:00.000000000Z",
          "2021-01-28T18:00:00.000000000Z",
          "2021-01-28T19:00:00.000000000Z",
          "2021-01-28T20:00:00.000000000Z",
          "2021-01-28T21:00:00.000000000Z",
          "2021-01-28T22:00:00.000000000Z",
          "2021-01-28T23:00:00.000000000Z",
          "2021-01-29T00:00:00.000000000Z",
          "2021-01-29T01:00:00.000000000Z",
          "2021-01-29T02:00:00.000000000Z",
          "2021-01-29T03:00:00.000000000Z",
          "2021-01-29T04:00:00.000000000Z",
          "2021-01-29T05:00:00.000000000Z",
          "2021-01-29T06:00:00.000000000Z",
          "2021-01-29T07:00:00.000000000Z",
          "2021-01-29T08:00:00.000000000Z",
          "2021-01-29T09:00:00.000000000Z",
          "2021-01-29T10:00:00.000000000Z"
         ]
        }
       ],
       "layout": {
        "font": {
         "color": "#e1e1e1",
         "size": 10
        },
        "height": 600,
        "margin": {
         "b": 10,
         "l": 10,
         "r": 10,
         "t": 10
        },
        "paper_bgcolor": "#1e1e1e",
        "plot_bgcolor": "#1e1e1e",
        "template": {
         "data": {
          "bar": [
           {
            "error_x": {
             "color": "#2a3f5f"
            },
            "error_y": {
             "color": "#2a3f5f"
            },
            "marker": {
             "line": {
              "color": "#E5ECF6",
              "width": 0.5
             }
            },
            "type": "bar"
           }
          ],
          "barpolar": [
           {
            "marker": {
             "line": {
              "color": "#E5ECF6",
              "width": 0.5
             }
            },
            "type": "barpolar"
           }
          ],
          "carpet": [
           {
            "aaxis": {
             "endlinecolor": "#2a3f5f",
             "gridcolor": "white",
             "linecolor": "white",
             "minorgridcolor": "white",
             "startlinecolor": "#2a3f5f"
            },
            "baxis": {
             "endlinecolor": "#2a3f5f",
             "gridcolor": "white",
             "linecolor": "white",
             "minorgridcolor": "white",
             "startlinecolor": "#2a3f5f"
            },
            "type": "carpet"
           }
          ],
          "choropleth": [
           {
            "colorbar": {
             "outlinewidth": 0,
             "ticks": ""
            },
            "type": "choropleth"
           }
          ],
          "contour": [
           {
            "colorbar": {
             "outlinewidth": 0,
             "ticks": ""
            },
            "colorscale": [
             [
              0,
              "#0d0887"
             ],
             [
              0.1111111111111111,
              "#46039f"
             ],
             [
              0.2222222222222222,
              "#7201a8"
             ],
             [
              0.3333333333333333,
              "#9c179e"
             ],
             [
              0.4444444444444444,
              "#bd3786"
             ],
             [
              0.5555555555555556,
              "#d8576b"
             ],
             [
              0.6666666666666666,
              "#ed7953"
             ],
             [
              0.7777777777777778,
              "#fb9f3a"
             ],
             [
              0.8888888888888888,
              "#fdca26"
             ],
             [
              1,
              "#f0f921"
             ]
            ],
            "type": "contour"
           }
          ],
          "contourcarpet": [
           {
            "colorbar": {
             "outlinewidth": 0,
             "ticks": ""
            },
            "type": "contourcarpet"
           }
          ],
          "heatmap": [
           {
            "colorbar": {
             "outlinewidth": 0,
             "ticks": ""
            },
            "colorscale": [
             [
              0,
              "#0d0887"
             ],
             [
              0.1111111111111111,
              "#46039f"
             ],
             [
              0.2222222222222222,
              "#7201a8"
             ],
             [
              0.3333333333333333,
              "#9c179e"
             ],
             [
              0.4444444444444444,
              "#bd3786"
             ],
             [
              0.5555555555555556,
              "#d8576b"
             ],
             [
              0.6666666666666666,
              "#ed7953"
             ],
             [
              0.7777777777777778,
              "#fb9f3a"
             ],
             [
              0.8888888888888888,
              "#fdca26"
             ],
             [
              1,
              "#f0f921"
             ]
            ],
            "type": "heatmap"
           }
          ],
          "heatmapgl": [
           {
            "colorbar": {
             "outlinewidth": 0,
             "ticks": ""
            },
            "colorscale": [
             [
              0,
              "#0d0887"
             ],
             [
              0.1111111111111111,
              "#46039f"
             ],
             [
              0.2222222222222222,
              "#7201a8"
             ],
             [
              0.3333333333333333,
              "#9c179e"
             ],
             [
              0.4444444444444444,
              "#bd3786"
             ],
             [
              0.5555555555555556,
              "#d8576b"
             ],
             [
              0.6666666666666666,
              "#ed7953"
             ],
             [
              0.7777777777777778,
              "#fb9f3a"
             ],
             [
              0.8888888888888888,
              "#fdca26"
             ],
             [
              1,
              "#f0f921"
             ]
            ],
            "type": "heatmapgl"
           }
          ],
          "histogram": [
           {
            "marker": {
             "colorbar": {
              "outlinewidth": 0,
              "ticks": ""
             }
            },
            "type": "histogram"
           }
          ],
          "histogram2d": [
           {
            "colorbar": {
             "outlinewidth": 0,
             "ticks": ""
            },
            "colorscale": [
             [
              0,
              "#0d0887"
             ],
             [
              0.1111111111111111,
              "#46039f"
             ],
             [
              0.2222222222222222,
              "#7201a8"
             ],
             [
              0.3333333333333333,
              "#9c179e"
             ],
             [
              0.4444444444444444,
              "#bd3786"
             ],
             [
              0.5555555555555556,
              "#d8576b"
             ],
             [
              0.6666666666666666,
              "#ed7953"
             ],
             [
              0.7777777777777778,
              "#fb9f3a"
             ],
             [
              0.8888888888888888,
              "#fdca26"
             ],
             [
              1,
              "#f0f921"
             ]
            ],
            "type": "histogram2d"
           }
          ],
          "histogram2dcontour": [
           {
            "colorbar": {
             "outlinewidth": 0,
             "ticks": ""
            },
            "colorscale": [
             [
              0,
              "#0d0887"
             ],
             [
              0.1111111111111111,
              "#46039f"
             ],
             [
              0.2222222222222222,
              "#7201a8"
             ],
             [
              0.3333333333333333,
              "#9c179e"
             ],
             [
              0.4444444444444444,
              "#bd3786"
             ],
             [
              0.5555555555555556,
              "#d8576b"
             ],
             [
              0.6666666666666666,
              "#ed7953"
             ],
             [
              0.7777777777777778,
              "#fb9f3a"
             ],
             [
              0.8888888888888888,
              "#fdca26"
             ],
             [
              1,
              "#f0f921"
             ]
            ],
            "type": "histogram2dcontour"
           }
          ],
          "mesh3d": [
           {
            "colorbar": {
             "outlinewidth": 0,
             "ticks": ""
            },
            "type": "mesh3d"
           }
          ],
          "parcoords": [
           {
            "line": {
             "colorbar": {
              "outlinewidth": 0,
              "ticks": ""
             }
            },
            "type": "parcoords"
           }
          ],
          "pie": [
           {
            "automargin": true,
            "type": "pie"
           }
          ],
          "scatter": [
           {
            "marker": {
             "colorbar": {
              "outlinewidth": 0,
              "ticks": ""
             }
            },
            "type": "scatter"
           }
          ],
          "scatter3d": [
           {
            "line": {
             "colorbar": {
              "outlinewidth": 0,
              "ticks": ""
             }
            },
            "marker": {
             "colorbar": {
              "outlinewidth": 0,
              "ticks": ""
             }
            },
            "type": "scatter3d"
           }
          ],
          "scattercarpet": [
           {
            "marker": {
             "colorbar": {
              "outlinewidth": 0,
              "ticks": ""
             }
            },
            "type": "scattercarpet"
           }
          ],
          "scattergeo": [
           {
            "marker": {
             "colorbar": {
              "outlinewidth": 0,
              "ticks": ""
             }
            },
            "type": "scattergeo"
           }
          ],
          "scattergl": [
           {
            "marker": {
             "colorbar": {
              "outlinewidth": 0,
              "ticks": ""
             }
            },
            "type": "scattergl"
           }
          ],
          "scattermapbox": [
           {
            "marker": {
             "colorbar": {
              "outlinewidth": 0,
              "ticks": ""
             }
            },
            "type": "scattermapbox"
           }
          ],
          "scatterpolar": [
           {
            "marker": {
             "colorbar": {
              "outlinewidth": 0,
              "ticks": ""
             }
            },
            "type": "scatterpolar"
           }
          ],
          "scatterpolargl": [
           {
            "marker": {
             "colorbar": {
              "outlinewidth": 0,
              "ticks": ""
             }
            },
            "type": "scatterpolargl"
           }
          ],
          "scatterternary": [
           {
            "marker": {
             "colorbar": {
              "outlinewidth": 0,
              "ticks": ""
             }
            },
            "type": "scatterternary"
           }
          ],
          "surface": [
           {
            "colorbar": {
             "outlinewidth": 0,
             "ticks": ""
            },
            "colorscale": [
             [
              0,
              "#0d0887"
             ],
             [
              0.1111111111111111,
              "#46039f"
             ],
             [
              0.2222222222222222,
              "#7201a8"
             ],
             [
              0.3333333333333333,
              "#9c179e"
             ],
             [
              0.4444444444444444,
              "#bd3786"
             ],
             [
              0.5555555555555556,
              "#d8576b"
             ],
             [
              0.6666666666666666,
              "#ed7953"
             ],
             [
              0.7777777777777778,
              "#fb9f3a"
             ],
             [
              0.8888888888888888,
              "#fdca26"
             ],
             [
              1,
              "#f0f921"
             ]
            ],
            "type": "surface"
           }
          ],
          "table": [
           {
            "cells": {
             "fill": {
              "color": "#EBF0F8"
             },
             "line": {
              "color": "white"
             }
            },
            "header": {
             "fill": {
              "color": "#C8D4E3"
             },
             "line": {
              "color": "white"
             }
            },
            "type": "table"
           }
          ]
         },
         "layout": {
          "annotationdefaults": {
           "arrowcolor": "#2a3f5f",
           "arrowhead": 0,
           "arrowwidth": 1
          },
          "autotypenumbers": "strict",
          "coloraxis": {
           "colorbar": {
            "outlinewidth": 0,
            "ticks": ""
           }
          },
          "colorscale": {
           "diverging": [
            [
             0,
             "#8e0152"
            ],
            [
             0.1,
             "#c51b7d"
            ],
            [
             0.2,
             "#de77ae"
            ],
            [
             0.3,
             "#f1b6da"
            ],
            [
             0.4,
             "#fde0ef"
            ],
            [
             0.5,
             "#f7f7f7"
            ],
            [
             0.6,
             "#e6f5d0"
            ],
            [
             0.7,
             "#b8e186"
            ],
            [
             0.8,
             "#7fbc41"
            ],
            [
             0.9,
             "#4d9221"
            ],
            [
             1,
             "#276419"
            ]
           ],
           "sequential": [
            [
             0,
             "#0d0887"
            ],
            [
             0.1111111111111111,
             "#46039f"
            ],
            [
             0.2222222222222222,
             "#7201a8"
            ],
            [
             0.3333333333333333,
             "#9c179e"
            ],
            [
             0.4444444444444444,
             "#bd3786"
            ],
            [
             0.5555555555555556,
             "#d8576b"
            ],
            [
             0.6666666666666666,
             "#ed7953"
            ],
            [
             0.7777777777777778,
             "#fb9f3a"
            ],
            [
             0.8888888888888888,
             "#fdca26"
            ],
            [
             1,
             "#f0f921"
            ]
           ],
           "sequentialminus": [
            [
             0,
             "#0d0887"
            ],
            [
             0.1111111111111111,
             "#46039f"
            ],
            [
             0.2222222222222222,
             "#7201a8"
            ],
            [
             0.3333333333333333,
             "#9c179e"
            ],
            [
             0.4444444444444444,
             "#bd3786"
            ],
            [
             0.5555555555555556,
             "#d8576b"
            ],
            [
             0.6666666666666666,
             "#ed7953"
            ],
            [
             0.7777777777777778,
             "#fb9f3a"
            ],
            [
             0.8888888888888888,
             "#fdca26"
            ],
            [
             1,
             "#f0f921"
            ]
           ]
          },
          "colorway": [
           "#636efa",
           "#EF553B",
           "#00cc96",
           "#ab63fa",
           "#FFA15A",
           "#19d3f3",
           "#FF6692",
           "#B6E880",
           "#FF97FF",
           "#FECB52"
          ],
          "font": {
           "color": "#2a3f5f"
          },
          "geo": {
           "bgcolor": "white",
           "lakecolor": "white",
           "landcolor": "#E5ECF6",
           "showlakes": true,
           "showland": true,
           "subunitcolor": "white"
          },
          "hoverlabel": {
           "align": "left"
          },
          "hovermode": "closest",
          "mapbox": {
           "style": "light"
          },
          "paper_bgcolor": "white",
          "plot_bgcolor": "#E5ECF6",
          "polar": {
           "angularaxis": {
            "gridcolor": "white",
            "linecolor": "white",
            "ticks": ""
           },
           "bgcolor": "#E5ECF6",
           "radialaxis": {
            "gridcolor": "white",
            "linecolor": "white",
            "ticks": ""
           }
          },
          "scene": {
           "xaxis": {
            "backgroundcolor": "#E5ECF6",
            "gridcolor": "white",
            "gridwidth": 2,
            "linecolor": "white",
            "showbackground": true,
            "ticks": "",
            "zerolinecolor": "white"
           },
           "yaxis": {
            "backgroundcolor": "#E5ECF6",
            "gridcolor": "white",
            "gridwidth": 2,
            "linecolor": "white",
            "showbackground": true,
            "ticks": "",
            "zerolinecolor": "white"
           },
           "zaxis": {
            "backgroundcolor": "#E5ECF6",
            "gridcolor": "white",
            "gridwidth": 2,
            "linecolor": "white",
            "showbackground": true,
            "ticks": "",
            "zerolinecolor": "white"
           }
          },
          "shapedefaults": {
           "line": {
            "color": "#2a3f5f"
           }
          },
          "ternary": {
           "aaxis": {
            "gridcolor": "white",
            "linecolor": "white",
            "ticks": ""
           },
           "baxis": {
            "gridcolor": "white",
            "linecolor": "white",
            "ticks": ""
           },
           "bgcolor": "#E5ECF6",
           "caxis": {
            "gridcolor": "white",
            "linecolor": "white",
            "ticks": ""
           }
          },
          "title": {
           "x": 0.05
          },
          "xaxis": {
           "automargin": true,
           "gridcolor": "white",
           "linecolor": "white",
           "ticks": "",
           "title": {
            "standoff": 15
           },
           "zerolinecolor": "white",
           "zerolinewidth": 2
          },
          "yaxis": {
           "automargin": true,
           "gridcolor": "white",
           "linecolor": "white",
           "ticks": "",
           "title": {
            "standoff": 15
           },
           "zerolinecolor": "white",
           "zerolinewidth": 2
          }
         }
        },
        "width": 1000,
        "xaxis": {
         "fixedrange": true,
         "gridcolor": "#1f292f",
         "rangeslider": {
          "visible": false
         },
         "showgrid": true
        },
        "yaxis": {
         "gridcolor": "#1f292f",
         "showgrid": true
        }
       }
      }
     },
     "metadata": {}
    }
   ],
   "source": [
    "fig = go.Figure()\n",
    "fig.add_trace(go.Candlestick(\n",
    "    x=df_plot.time, open=df_plot.mid_o, high=df_plot.mid_h, low=df_plot.mid_l, close=df_plot.mid_c,\n",
    "    line=dict(width=1), opacity=1,\n",
    "    increasing_fillcolor='#24A06B',\n",
    "    decreasing_fillcolor=\"#CC2E3C\",\n",
    "    increasing_line_color='#2EC886',  \n",
    "    decreasing_line_color='#FF3A4C'\n",
    "))\n",
    "fig.update_layout(width=1000,height=600,\n",
    "    margin=dict(l=10,r=10,b=10,t=10),\n",
    "    font=dict(size=10,color=\"#e1e1e1\"),\n",
    "    paper_bgcolor=\"#1e1e1e\",\n",
    "    plot_bgcolor=\"#1e1e1e\")\n",
    "fig.update_xaxes(\n",
    "    gridcolor=\"#1f292f\",\n",
    "    showgrid=True,fixedrange=True,rangeslider=dict(visible=False)\n",
    ")\n",
    "fig.update_yaxes(\n",
    "    gridcolor=\"#1f292f\",\n",
    "    showgrid=True\n",
    ")\n",
    "fig.show()\n",
    "#fig.write_image(\"chart.png\")"
   ]
  },
  {
   "cell_type": "code",
   "execution_count": null,
   "metadata": {},
   "outputs": [],
   "source": []
  }
 ]
}