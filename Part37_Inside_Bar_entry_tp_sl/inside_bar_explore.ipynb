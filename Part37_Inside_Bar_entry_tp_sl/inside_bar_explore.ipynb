{
 "metadata": {
  "language_info": {
   "codemirror_mode": {
    "name": "ipython",
    "version": 3
   },
   "file_extension": ".py",
   "mimetype": "text/x-python",
   "name": "python",
   "nbconvert_exporter": "python",
   "pygments_lexer": "ipython3",
   "version": "3.8.6-final"
  },
  "orig_nbformat": 2,
  "kernelspec": {
   "name": "python3",
   "display_name": "Python 3",
   "language": "python"
  }
 },
 "nbformat": 4,
 "nbformat_minor": 2,
 "cells": [
  {
   "cell_type": "code",
   "execution_count": 17,
   "metadata": {},
   "outputs": [],
   "source": [
    "import pandas as pd\n",
    "import plotly.graph_objects as go\n",
    "import utils"
   ]
  },
  {
   "cell_type": "code",
   "execution_count": 18,
   "metadata": {},
   "outputs": [],
   "source": [
    "pair = \"USD_JPY\"\n",
    "granularity = \"H4\"\n",
    "df_raw = pd.read_pickle(utils.get_his_data_filename(pair, granularity))"
   ]
  },
  {
   "cell_type": "code",
   "execution_count": 19,
   "metadata": {},
   "outputs": [],
   "source": [
    "non_cols = ['time', 'volume']\n",
    "mod_cols = [x for x in df_raw.columns if x not in non_cols]\n",
    "df_raw[mod_cols] = df_raw[mod_cols].apply(pd.to_numeric)"
   ]
  },
  {
   "cell_type": "code",
   "execution_count": 20,
   "metadata": {},
   "outputs": [
    {
     "output_type": "execute_result",
     "data": {
      "text/plain": [
       "                             time  volume    mid_o    mid_h    mid_l    mid_c  \\\n",
       "0  2018-01-01T22:00:00.000000000Z    2968  112.666  112.793  112.582  112.723   \n",
       "1  2018-01-02T02:00:00.000000000Z    1009  112.720  112.751  112.666  112.688   \n",
       "2  2018-01-02T06:00:00.000000000Z    2226  112.691  112.700  112.249  112.252   \n",
       "3  2018-01-02T10:00:00.000000000Z    2056  112.254  112.282  112.086  112.124   \n",
       "4  2018-01-02T14:00:00.000000000Z    3781  112.122  112.304  112.058  112.285   \n",
       "\n",
       "     bid_o    bid_h    bid_l    bid_c    ask_o    ask_h    ask_l    ask_c  \n",
       "0  112.626  112.786  112.559  112.716  112.706  112.800  112.601  112.730  \n",
       "1  112.712  112.744  112.657  112.683  112.728  112.758  112.674  112.694  \n",
       "2  112.684  112.694  112.242  112.245  112.698  112.705  112.256  112.258  \n",
       "3  112.247  112.275  112.079  112.119  112.260  112.288  112.092  112.130  \n",
       "4  112.114  112.297  112.051  112.278  112.129  112.311  112.065  112.292  "
      ],
      "text/html": "<div>\n<style scoped>\n    .dataframe tbody tr th:only-of-type {\n        vertical-align: middle;\n    }\n\n    .dataframe tbody tr th {\n        vertical-align: top;\n    }\n\n    .dataframe thead th {\n        text-align: right;\n    }\n</style>\n<table border=\"1\" class=\"dataframe\">\n  <thead>\n    <tr style=\"text-align: right;\">\n      <th></th>\n      <th>time</th>\n      <th>volume</th>\n      <th>mid_o</th>\n      <th>mid_h</th>\n      <th>mid_l</th>\n      <th>mid_c</th>\n      <th>bid_o</th>\n      <th>bid_h</th>\n      <th>bid_l</th>\n      <th>bid_c</th>\n      <th>ask_o</th>\n      <th>ask_h</th>\n      <th>ask_l</th>\n      <th>ask_c</th>\n    </tr>\n  </thead>\n  <tbody>\n    <tr>\n      <th>0</th>\n      <td>2018-01-01T22:00:00.000000000Z</td>\n      <td>2968</td>\n      <td>112.666</td>\n      <td>112.793</td>\n      <td>112.582</td>\n      <td>112.723</td>\n      <td>112.626</td>\n      <td>112.786</td>\n      <td>112.559</td>\n      <td>112.716</td>\n      <td>112.706</td>\n      <td>112.800</td>\n      <td>112.601</td>\n      <td>112.730</td>\n    </tr>\n    <tr>\n      <th>1</th>\n      <td>2018-01-02T02:00:00.000000000Z</td>\n      <td>1009</td>\n      <td>112.720</td>\n      <td>112.751</td>\n      <td>112.666</td>\n      <td>112.688</td>\n      <td>112.712</td>\n      <td>112.744</td>\n      <td>112.657</td>\n      <td>112.683</td>\n      <td>112.728</td>\n      <td>112.758</td>\n      <td>112.674</td>\n      <td>112.694</td>\n    </tr>\n    <tr>\n      <th>2</th>\n      <td>2018-01-02T06:00:00.000000000Z</td>\n      <td>2226</td>\n      <td>112.691</td>\n      <td>112.700</td>\n      <td>112.249</td>\n      <td>112.252</td>\n      <td>112.684</td>\n      <td>112.694</td>\n      <td>112.242</td>\n      <td>112.245</td>\n      <td>112.698</td>\n      <td>112.705</td>\n      <td>112.256</td>\n      <td>112.258</td>\n    </tr>\n    <tr>\n      <th>3</th>\n      <td>2018-01-02T10:00:00.000000000Z</td>\n      <td>2056</td>\n      <td>112.254</td>\n      <td>112.282</td>\n      <td>112.086</td>\n      <td>112.124</td>\n      <td>112.247</td>\n      <td>112.275</td>\n      <td>112.079</td>\n      <td>112.119</td>\n      <td>112.260</td>\n      <td>112.288</td>\n      <td>112.092</td>\n      <td>112.130</td>\n    </tr>\n    <tr>\n      <th>4</th>\n      <td>2018-01-02T14:00:00.000000000Z</td>\n      <td>3781</td>\n      <td>112.122</td>\n      <td>112.304</td>\n      <td>112.058</td>\n      <td>112.285</td>\n      <td>112.114</td>\n      <td>112.297</td>\n      <td>112.051</td>\n      <td>112.278</td>\n      <td>112.129</td>\n      <td>112.311</td>\n      <td>112.065</td>\n      <td>112.292</td>\n    </tr>\n  </tbody>\n</table>\n</div>"
     },
     "metadata": {},
     "execution_count": 20
    }
   ],
   "source": [
    "df_raw.head()"
   ]
  },
  {
   "cell_type": "code",
   "execution_count": 21,
   "metadata": {},
   "outputs": [],
   "source": [
    "SLOSS = 0.4\n",
    "TPROFIT = 0.8\n",
    "ENTRY_PRC = 0.1\n",
    "\n",
    "def direction(row):\n",
    "    if row.mid_c > row.mid_o:\n",
    "        return 1\n",
    "    return -1\n",
    "\n",
    "def get_signal(row):\n",
    "    if row.mid_h_prev > row.mid_h and row.mid_l_prev < row.mid_l:\n",
    "        return row.DIRECTION_prev\n",
    "    return 0\n",
    "\n",
    "def get_entry_stop(row):\n",
    "    if row.SIGNAL == 1:\n",
    "        return (row.RANGE_prev * ENTRY_PRC) + row.mid_h_prev\n",
    "    elif row.SIGNAL == -1:\n",
    "        return row.mid_l_prev - (row.RANGE_prev * ENTRY_PRC)\n",
    "    else:\n",
    "        return 0\n",
    "\n",
    "def get_stop_loss(row):\n",
    "    if row.SIGNAL == 1:\n",
    "        return row.mid_h_prev - (row.RANGE_prev * SLOSS)\n",
    "    elif row.SIGNAL == -1:\n",
    "        return row.mid_l_prev + (row.RANGE_prev * SLOSS)\n",
    "    else:\n",
    "        return 0\n",
    "\n",
    "\n",
    "def get_take_profit(row):\n",
    "    if row.SIGNAL == 1:\n",
    "        return row.mid_h_prev + (row.RANGE_prev * TPROFIT)\n",
    "    elif row.SIGNAL == -1:\n",
    "        return row.mid_l_prev - (row.RANGE_prev * TPROFIT)\n",
    "    else:\n",
    "        return 0"
   ]
  },
  {
   "cell_type": "code",
   "execution_count": 22,
   "metadata": {},
   "outputs": [],
   "source": [
    "df = df_raw[['time','mid_o', 'mid_h', 'mid_l', 'mid_c', 'bid_c', 'ask_c']].copy()\n",
    "df['RANGE'] = df.mid_h - df.mid_l\n",
    "df['mid_h_prev'] = df.mid_h.shift(1)\n",
    "df['mid_l_prev'] = df.mid_l.shift(1)\n",
    "df['RANGE_prev'] = df.RANGE.shift(1)\n",
    "df['DIRECTION'] = df.apply(direction, axis=1)\n",
    "df['DIRECTION_prev'] = df.DIRECTION.shift(1).fillna(0).astype(int)\n",
    "df.dropna(inplace=True)\n",
    "df['SIGNAL'] = df.apply(get_signal, axis=1)\n",
    "df.reset_index(drop=True, inplace=True)"
   ]
  },
  {
   "cell_type": "code",
   "execution_count": 24,
   "metadata": {},
   "outputs": [],
   "source": [
    "df['ENTRY'] = df.apply(get_entry_stop, axis=1)\n",
    "df['STOPLOSS'] = df.apply(get_stop_loss, axis=1)\n",
    "df['TAKEPROFIT'] = df.apply(get_take_profit, axis=1)"
   ]
  },
  {
   "cell_type": "code",
   "execution_count": 26,
   "metadata": {},
   "outputs": [
    {
     "output_type": "execute_result",
     "data": {
      "text/plain": [
       "                              time    mid_o    mid_h    mid_l    mid_c  \\\n",
       "0   2018-01-02T02:00:00.000000000Z  112.720  112.751  112.666  112.688   \n",
       "12  2018-01-04T02:00:00.000000000Z  112.731  112.731  112.618  112.661   \n",
       "17  2018-01-04T22:00:00.000000000Z  112.750  112.806  112.730  112.774   \n",
       "21  2018-01-05T14:00:00.000000000Z  113.213  113.276  113.082  113.160   \n",
       "27  2018-01-08T14:00:00.000000000Z  112.928  113.125  112.904  113.082   \n",
       "\n",
       "      bid_c    ask_c  RANGE  mid_h_prev  mid_l_prev  RANGE_prev  DIRECTION  \\\n",
       "0   112.683  112.694  0.085     112.793     112.582       0.211         -1   \n",
       "12  112.654  112.668  0.113     112.778     112.480       0.298         -1   \n",
       "17  112.767  112.780  0.076     112.838     112.713       0.125          1   \n",
       "21  113.153  113.166  0.194     113.312     113.021       0.291         -1   \n",
       "27  113.076  113.088  0.221     113.167     112.884       0.283          1   \n",
       "\n",
       "    DIRECTION_prev  SIGNAL     ENTRY  STOPLOSS  TAKEPROFIT  \n",
       "0                1       1  112.8141  112.7086    112.9618  \n",
       "12               1       1  112.8078  112.6588    113.0164  \n",
       "17              -1      -1  112.7005  112.7630    112.6130  \n",
       "21              -1      -1  112.9919  113.1374    112.7882  \n",
       "27              -1      -1  112.8557  112.9972    112.6576  "
      ],
      "text/html": "<div>\n<style scoped>\n    .dataframe tbody tr th:only-of-type {\n        vertical-align: middle;\n    }\n\n    .dataframe tbody tr th {\n        vertical-align: top;\n    }\n\n    .dataframe thead th {\n        text-align: right;\n    }\n</style>\n<table border=\"1\" class=\"dataframe\">\n  <thead>\n    <tr style=\"text-align: right;\">\n      <th></th>\n      <th>time</th>\n      <th>mid_o</th>\n      <th>mid_h</th>\n      <th>mid_l</th>\n      <th>mid_c</th>\n      <th>bid_c</th>\n      <th>ask_c</th>\n      <th>RANGE</th>\n      <th>mid_h_prev</th>\n      <th>mid_l_prev</th>\n      <th>RANGE_prev</th>\n      <th>DIRECTION</th>\n      <th>DIRECTION_prev</th>\n      <th>SIGNAL</th>\n      <th>ENTRY</th>\n      <th>STOPLOSS</th>\n      <th>TAKEPROFIT</th>\n    </tr>\n  </thead>\n  <tbody>\n    <tr>\n      <th>0</th>\n      <td>2018-01-02T02:00:00.000000000Z</td>\n      <td>112.720</td>\n      <td>112.751</td>\n      <td>112.666</td>\n      <td>112.688</td>\n      <td>112.683</td>\n      <td>112.694</td>\n      <td>0.085</td>\n      <td>112.793</td>\n      <td>112.582</td>\n      <td>0.211</td>\n      <td>-1</td>\n      <td>1</td>\n      <td>1</td>\n      <td>112.8141</td>\n      <td>112.7086</td>\n      <td>112.9618</td>\n    </tr>\n    <tr>\n      <th>12</th>\n      <td>2018-01-04T02:00:00.000000000Z</td>\n      <td>112.731</td>\n      <td>112.731</td>\n      <td>112.618</td>\n      <td>112.661</td>\n      <td>112.654</td>\n      <td>112.668</td>\n      <td>0.113</td>\n      <td>112.778</td>\n      <td>112.480</td>\n      <td>0.298</td>\n      <td>-1</td>\n      <td>1</td>\n      <td>1</td>\n      <td>112.8078</td>\n      <td>112.6588</td>\n      <td>113.0164</td>\n    </tr>\n    <tr>\n      <th>17</th>\n      <td>2018-01-04T22:00:00.000000000Z</td>\n      <td>112.750</td>\n      <td>112.806</td>\n      <td>112.730</td>\n      <td>112.774</td>\n      <td>112.767</td>\n      <td>112.780</td>\n      <td>0.076</td>\n      <td>112.838</td>\n      <td>112.713</td>\n      <td>0.125</td>\n      <td>1</td>\n      <td>-1</td>\n      <td>-1</td>\n      <td>112.7005</td>\n      <td>112.7630</td>\n      <td>112.6130</td>\n    </tr>\n    <tr>\n      <th>21</th>\n      <td>2018-01-05T14:00:00.000000000Z</td>\n      <td>113.213</td>\n      <td>113.276</td>\n      <td>113.082</td>\n      <td>113.160</td>\n      <td>113.153</td>\n      <td>113.166</td>\n      <td>0.194</td>\n      <td>113.312</td>\n      <td>113.021</td>\n      <td>0.291</td>\n      <td>-1</td>\n      <td>-1</td>\n      <td>-1</td>\n      <td>112.9919</td>\n      <td>113.1374</td>\n      <td>112.7882</td>\n    </tr>\n    <tr>\n      <th>27</th>\n      <td>2018-01-08T14:00:00.000000000Z</td>\n      <td>112.928</td>\n      <td>113.125</td>\n      <td>112.904</td>\n      <td>113.082</td>\n      <td>113.076</td>\n      <td>113.088</td>\n      <td>0.221</td>\n      <td>113.167</td>\n      <td>112.884</td>\n      <td>0.283</td>\n      <td>1</td>\n      <td>-1</td>\n      <td>-1</td>\n      <td>112.8557</td>\n      <td>112.9972</td>\n      <td>112.6576</td>\n    </tr>\n  </tbody>\n</table>\n</div>"
     },
     "metadata": {},
     "execution_count": 26
    }
   ],
   "source": [
    "df[df.SIGNAL!=0].head()"
   ]
  },
  {
   "cell_type": "code",
   "execution_count": null,
   "metadata": {},
   "outputs": [],
   "source": []
  },
  {
   "cell_type": "code",
   "execution_count": null,
   "metadata": {},
   "outputs": [],
   "source": []
  },
  {
   "cell_type": "code",
   "execution_count": null,
   "metadata": {},
   "outputs": [],
   "source": []
  },
  {
   "cell_type": "code",
   "execution_count": null,
   "metadata": {},
   "outputs": [],
   "source": []
  },
  {
   "cell_type": "code",
   "execution_count": 39,
   "metadata": {},
   "outputs": [],
   "source": [
    "df_plot = df.iloc[200:300]\n",
    "df_buys = df_plot[df_plot.SIGNAL == 1]\n",
    "df_sells = df_plot[df_plot.SIGNAL == -1]"
   ]
  },
  {
   "cell_type": "code",
   "execution_count": 40,
   "metadata": {},
   "outputs": [
    {
     "output_type": "display_data",
     "data": {
      "application/vnd.plotly.v1+json": {
       "config": {
        "plotlyServerURL": "https://plot.ly"
       },
       "data": [
        {
         "close": [
          106.154,
          106.06,
          106.294,
          106.109,
          106.5,
          106.615,
          106.718,
          106.562,
          106.594,
          106.706,
          106.839,
          107.183,
          107.322,
          107.266,
          107.33,
          107.624,
          107.811,
          107.491,
          107.482,
          107.649,
          107.774,
          107.26,
          107.471,
          107.319,
          106.878,
          106.806,
          106.753,
          106.803,
          106.966,
          106.903,
          106.784,
          106.563,
          106.876,
          106.668,
          106.523,
          106.598,
          106.857,
          107.002,
          106.938,
          107.022,
          106.874,
          107.038,
          107.102,
          107.384,
          107.328,
          107.138,
          107.067,
          107.08,
          107.056,
          106.734,
          106.671,
          106.648,
          106.832,
          106.762,
          106.923,
          106.809,
          106.241,
          106.016,
          105.797,
          105.76,
          105.418,
          105.581,
          105.743,
          105.48,
          105.572,
          105.579,
          105.666,
          106.168,
          106.202,
          106.334,
          106.226,
          105.864,
          106.046,
          106.218,
          106.118,
          105.821,
          105.643,
          105.615,
          105.833,
          105.918,
          106.069,
          106.137,
          105.972,
          106.089,
          106.078,
          106.134,
          106.223,
          106.868,
          106.642,
          106.78,
          106.871,
          106.815,
          106.816,
          106.924,
          106.4,
          106.547,
          106.602,
          106.548,
          106.414,
          106.32
         ],
         "decreasing": {
          "fillcolor": "#CC2E3C",
          "line": {
           "color": "#FF3A4C"
          }
         },
         "high": [
          106.347,
          106.379,
          106.398,
          106.374,
          106.512,
          106.656,
          106.726,
          106.721,
          106.606,
          106.788,
          106.865,
          107.204,
          107.377,
          107.333,
          107.355,
          107.667,
          107.904,
          107.872,
          107.619,
          107.724,
          107.903,
          107.778,
          107.471,
          107.608,
          107.383,
          107.073,
          106.854,
          106.996,
          107.033,
          107.136,
          106.934,
          106.902,
          106.938,
          107.21,
          106.697,
          106.679,
          106.864,
          107.064,
          107.041,
          107.1,
          107.06,
          107.108,
          107.23,
          107.678,
          107.444,
          107.528,
          107.364,
          107.24,
          107.168,
          107.126,
          106.788,
          106.765,
          106.868,
          106.898,
          106.986,
          107.204,
          106.812,
          106.298,
          106.154,
          105.978,
          105.758,
          105.68,
          105.748,
          105.68,
          105.618,
          105.628,
          105.693,
          106.184,
          106.24,
          106.388,
          106.462,
          106.288,
          106.437,
          106.265,
          106.251,
          106.188,
          105.854,
          105.804,
          105.989,
          106.223,
          106.169,
          106.207,
          106.148,
          106.134,
          106.202,
          106.263,
          106.316,
          106.943,
          106.887,
          106.786,
          107.052,
          107.039,
          106.9,
          106.972,
          106.972,
          106.732,
          106.649,
          106.609,
          106.568,
          106.472
         ],
         "increasing": {
          "fillcolor": "#24A06B",
          "line": {
           "color": "#2EC886"
          }
         },
         "line": {
          "width": 1
         },
         "low": [
          105.951,
          105.92,
          106.052,
          106.097,
          106.111,
          106.442,
          106.454,
          106.496,
          106.522,
          106.562,
          106.666,
          106.834,
          107.034,
          107.069,
          107.198,
          107.278,
          107.562,
          107.47,
          107.338,
          107.338,
          107.288,
          107.153,
          107.236,
          107.22,
          106.864,
          106.652,
          106.597,
          106.658,
          106.783,
          106.791,
          106.68,
          106.514,
          106.565,
          106.574,
          106.44,
          106.376,
          106.556,
          106.812,
          106.906,
          106.787,
          106.818,
          106.804,
          106.936,
          106.996,
          107.276,
          107.076,
          107.062,
          107.004,
          106.93,
          106.568,
          106.61,
          106.547,
          106.598,
          106.695,
          106.662,
          106.776,
          106.164,
          106.006,
          105.757,
          105.628,
          105.251,
          105.284,
          105.408,
          105.421,
          105.419,
          105.35,
          105.551,
          105.658,
          106.122,
          106.164,
          106.178,
          105.862,
          105.856,
          105.906,
          106.068,
          105.458,
          105.534,
          105.513,
          105.506,
          105.792,
          105.827,
          106.016,
          105.928,
          105.894,
          106.014,
          106.044,
          106.109,
          106.173,
          106.571,
          106.627,
          106.705,
          106.718,
          106.68,
          106.652,
          106.357,
          106.372,
          106.476,
          106.418,
          106.316,
          106.256
         ],
         "opacity": 1,
         "open": [
          106.025,
          106.152,
          106.062,
          106.334,
          106.112,
          106.502,
          106.613,
          106.721,
          106.565,
          106.594,
          106.704,
          106.842,
          107.185,
          107.32,
          107.264,
          107.33,
          107.621,
          107.809,
          107.494,
          107.48,
          107.651,
          107.77,
          107.258,
          107.468,
          107.316,
          106.876,
          106.803,
          106.753,
          106.8,
          106.968,
          106.9,
          106.786,
          106.565,
          107.21,
          106.666,
          106.52,
          106.596,
          106.855,
          107.004,
          106.932,
          107.026,
          106.871,
          107.041,
          107.1,
          107.382,
          107.344,
          107.136,
          107.07,
          107.082,
          107.054,
          106.732,
          106.675,
          106.646,
          106.834,
          106.76,
          106.92,
          106.807,
          106.232,
          106.014,
          105.794,
          105.758,
          105.42,
          105.578,
          105.452,
          105.478,
          105.574,
          105.582,
          105.664,
          106.17,
          106.202,
          106.332,
          106.224,
          105.862,
          106.049,
          106.216,
          106.144,
          105.819,
          105.646,
          105.613,
          105.83,
          105.916,
          106.084,
          106.139,
          105.974,
          106.091,
          106.081,
          106.137,
          106.202,
          106.865,
          106.644,
          106.782,
          106.869,
          106.817,
          106.652,
          106.926,
          106.402,
          106.55,
          106.604,
          106.551,
          106.42
         ],
         "type": "candlestick",
         "x": [
          "2018-02-16T10:00:00.000000000Z",
          "2018-02-16T14:00:00.000000000Z",
          "2018-02-16T18:00:00.000000000Z",
          "2018-02-18T22:00:00.000000000Z",
          "2018-02-19T02:00:00.000000000Z",
          "2018-02-19T06:00:00.000000000Z",
          "2018-02-19T10:00:00.000000000Z",
          "2018-02-19T14:00:00.000000000Z",
          "2018-02-19T18:00:00.000000000Z",
          "2018-02-19T22:00:00.000000000Z",
          "2018-02-20T02:00:00.000000000Z",
          "2018-02-20T06:00:00.000000000Z",
          "2018-02-20T10:00:00.000000000Z",
          "2018-02-20T14:00:00.000000000Z",
          "2018-02-20T18:00:00.000000000Z",
          "2018-02-20T22:00:00.000000000Z",
          "2018-02-21T02:00:00.000000000Z",
          "2018-02-21T06:00:00.000000000Z",
          "2018-02-21T10:00:00.000000000Z",
          "2018-02-21T14:00:00.000000000Z",
          "2018-02-21T18:00:00.000000000Z",
          "2018-02-21T22:00:00.000000000Z",
          "2018-02-22T02:00:00.000000000Z",
          "2018-02-22T06:00:00.000000000Z",
          "2018-02-22T10:00:00.000000000Z",
          "2018-02-22T14:00:00.000000000Z",
          "2018-02-22T18:00:00.000000000Z",
          "2018-02-22T22:00:00.000000000Z",
          "2018-02-23T02:00:00.000000000Z",
          "2018-02-23T06:00:00.000000000Z",
          "2018-02-23T10:00:00.000000000Z",
          "2018-02-23T14:00:00.000000000Z",
          "2018-02-23T18:00:00.000000000Z",
          "2018-02-25T22:00:00.000000000Z",
          "2018-02-26T02:00:00.000000000Z",
          "2018-02-26T06:00:00.000000000Z",
          "2018-02-26T10:00:00.000000000Z",
          "2018-02-26T14:00:00.000000000Z",
          "2018-02-26T18:00:00.000000000Z",
          "2018-02-26T22:00:00.000000000Z",
          "2018-02-27T02:00:00.000000000Z",
          "2018-02-27T06:00:00.000000000Z",
          "2018-02-27T10:00:00.000000000Z",
          "2018-02-27T14:00:00.000000000Z",
          "2018-02-27T18:00:00.000000000Z",
          "2018-02-27T22:00:00.000000000Z",
          "2018-02-28T02:00:00.000000000Z",
          "2018-02-28T06:00:00.000000000Z",
          "2018-02-28T10:00:00.000000000Z",
          "2018-02-28T14:00:00.000000000Z",
          "2018-02-28T18:00:00.000000000Z",
          "2018-02-28T22:00:00.000000000Z",
          "2018-03-01T02:00:00.000000000Z",
          "2018-03-01T06:00:00.000000000Z",
          "2018-03-01T10:00:00.000000000Z",
          "2018-03-01T14:00:00.000000000Z",
          "2018-03-01T18:00:00.000000000Z",
          "2018-03-01T22:00:00.000000000Z",
          "2018-03-02T02:00:00.000000000Z",
          "2018-03-02T06:00:00.000000000Z",
          "2018-03-02T10:00:00.000000000Z",
          "2018-03-02T14:00:00.000000000Z",
          "2018-03-02T18:00:00.000000000Z",
          "2018-03-04T22:00:00.000000000Z",
          "2018-03-05T02:00:00.000000000Z",
          "2018-03-05T06:00:00.000000000Z",
          "2018-03-05T10:00:00.000000000Z",
          "2018-03-05T14:00:00.000000000Z",
          "2018-03-05T18:00:00.000000000Z",
          "2018-03-05T22:00:00.000000000Z",
          "2018-03-06T02:00:00.000000000Z",
          "2018-03-06T06:00:00.000000000Z",
          "2018-03-06T10:00:00.000000000Z",
          "2018-03-06T14:00:00.000000000Z",
          "2018-03-06T18:00:00.000000000Z",
          "2018-03-06T22:00:00.000000000Z",
          "2018-03-07T02:00:00.000000000Z",
          "2018-03-07T06:00:00.000000000Z",
          "2018-03-07T10:00:00.000000000Z",
          "2018-03-07T14:00:00.000000000Z",
          "2018-03-07T18:00:00.000000000Z",
          "2018-03-07T22:00:00.000000000Z",
          "2018-03-08T02:00:00.000000000Z",
          "2018-03-08T06:00:00.000000000Z",
          "2018-03-08T10:00:00.000000000Z",
          "2018-03-08T14:00:00.000000000Z",
          "2018-03-08T18:00:00.000000000Z",
          "2018-03-08T22:00:00.000000000Z",
          "2018-03-09T02:00:00.000000000Z",
          "2018-03-09T06:00:00.000000000Z",
          "2018-03-09T10:00:00.000000000Z",
          "2018-03-09T14:00:00.000000000Z",
          "2018-03-09T18:00:00.000000000Z",
          "2018-03-11T21:00:00.000000000Z",
          "2018-03-12T01:00:00.000000000Z",
          "2018-03-12T05:00:00.000000000Z",
          "2018-03-12T09:00:00.000000000Z",
          "2018-03-12T13:00:00.000000000Z",
          "2018-03-12T17:00:00.000000000Z",
          "2018-03-12T21:00:00.000000000Z"
         ]
        },
        {
         "marker": {
          "color": "#0ec4ce",
          "size": 12
         },
         "mode": "markers",
         "type": "scatter",
         "x": [
          "2018-02-18T22:00:00.000000000Z",
          "2018-02-19T14:00:00.000000000Z",
          "2018-02-20T14:00:00.000000000Z",
          "2018-02-26T18:00:00.000000000Z",
          "2018-02-27T02:00:00.000000000Z",
          "2018-02-27T18:00:00.000000000Z",
          "2018-03-04T22:00:00.000000000Z",
          "2018-03-06T14:00:00.000000000Z",
          "2018-03-06T18:00:00.000000000Z",
          "2018-03-07T18:00:00.000000000Z",
          "2018-03-09T02:00:00.000000000Z",
          "2018-03-09T14:00:00.000000000Z",
          "2018-03-12T09:00:00.000000000Z"
         ],
         "y": [
          106.109,
          106.562,
          107.266,
          106.938,
          106.874,
          107.328,
          105.48,
          106.218,
          106.118,
          106.069,
          106.642,
          106.815,
          106.602
         ]
        },
        {
         "marker": {
          "color": "#043ef9",
          "size": 12
         },
         "mode": "markers",
         "type": "scatter",
         "x": [
          "2018-02-19T18:00:00.000000000Z",
          "2018-02-22T02:00:00.000000000Z",
          "2018-02-28T18:00:00.000000000Z",
          "2018-03-02T14:00:00.000000000Z",
          "2018-03-07T02:00:00.000000000Z",
          "2018-03-09T06:00:00.000000000Z",
          "2018-03-12T05:00:00.000000000Z"
         ],
         "y": [
          106.594,
          107.471,
          106.671,
          105.581,
          105.643,
          106.78,
          106.547
         ]
        }
       ],
       "layout": {
        "font": {
         "color": "#e1e1e1",
         "size": 10
        },
        "height": 400,
        "margin": {
         "b": 10,
         "l": 10,
         "r": 10,
         "t": 10
        },
        "paper_bgcolor": "#1e1e1e",
        "plot_bgcolor": "#1e1e1e",
        "template": {
         "data": {
          "bar": [
           {
            "error_x": {
             "color": "#2a3f5f"
            },
            "error_y": {
             "color": "#2a3f5f"
            },
            "marker": {
             "line": {
              "color": "#E5ECF6",
              "width": 0.5
             }
            },
            "type": "bar"
           }
          ],
          "barpolar": [
           {
            "marker": {
             "line": {
              "color": "#E5ECF6",
              "width": 0.5
             }
            },
            "type": "barpolar"
           }
          ],
          "carpet": [
           {
            "aaxis": {
             "endlinecolor": "#2a3f5f",
             "gridcolor": "white",
             "linecolor": "white",
             "minorgridcolor": "white",
             "startlinecolor": "#2a3f5f"
            },
            "baxis": {
             "endlinecolor": "#2a3f5f",
             "gridcolor": "white",
             "linecolor": "white",
             "minorgridcolor": "white",
             "startlinecolor": "#2a3f5f"
            },
            "type": "carpet"
           }
          ],
          "choropleth": [
           {
            "colorbar": {
             "outlinewidth": 0,
             "ticks": ""
            },
            "type": "choropleth"
           }
          ],
          "contour": [
           {
            "colorbar": {
             "outlinewidth": 0,
             "ticks": ""
            },
            "colorscale": [
             [
              0,
              "#0d0887"
             ],
             [
              0.1111111111111111,
              "#46039f"
             ],
             [
              0.2222222222222222,
              "#7201a8"
             ],
             [
              0.3333333333333333,
              "#9c179e"
             ],
             [
              0.4444444444444444,
              "#bd3786"
             ],
             [
              0.5555555555555556,
              "#d8576b"
             ],
             [
              0.6666666666666666,
              "#ed7953"
             ],
             [
              0.7777777777777778,
              "#fb9f3a"
             ],
             [
              0.8888888888888888,
              "#fdca26"
             ],
             [
              1,
              "#f0f921"
             ]
            ],
            "type": "contour"
           }
          ],
          "contourcarpet": [
           {
            "colorbar": {
             "outlinewidth": 0,
             "ticks": ""
            },
            "type": "contourcarpet"
           }
          ],
          "heatmap": [
           {
            "colorbar": {
             "outlinewidth": 0,
             "ticks": ""
            },
            "colorscale": [
             [
              0,
              "#0d0887"
             ],
             [
              0.1111111111111111,
              "#46039f"
             ],
             [
              0.2222222222222222,
              "#7201a8"
             ],
             [
              0.3333333333333333,
              "#9c179e"
             ],
             [
              0.4444444444444444,
              "#bd3786"
             ],
             [
              0.5555555555555556,
              "#d8576b"
             ],
             [
              0.6666666666666666,
              "#ed7953"
             ],
             [
              0.7777777777777778,
              "#fb9f3a"
             ],
             [
              0.8888888888888888,
              "#fdca26"
             ],
             [
              1,
              "#f0f921"
             ]
            ],
            "type": "heatmap"
           }
          ],
          "heatmapgl": [
           {
            "colorbar": {
             "outlinewidth": 0,
             "ticks": ""
            },
            "colorscale": [
             [
              0,
              "#0d0887"
             ],
             [
              0.1111111111111111,
              "#46039f"
             ],
             [
              0.2222222222222222,
              "#7201a8"
             ],
             [
              0.3333333333333333,
              "#9c179e"
             ],
             [
              0.4444444444444444,
              "#bd3786"
             ],
             [
              0.5555555555555556,
              "#d8576b"
             ],
             [
              0.6666666666666666,
              "#ed7953"
             ],
             [
              0.7777777777777778,
              "#fb9f3a"
             ],
             [
              0.8888888888888888,
              "#fdca26"
             ],
             [
              1,
              "#f0f921"
             ]
            ],
            "type": "heatmapgl"
           }
          ],
          "histogram": [
           {
            "marker": {
             "colorbar": {
              "outlinewidth": 0,
              "ticks": ""
             }
            },
            "type": "histogram"
           }
          ],
          "histogram2d": [
           {
            "colorbar": {
             "outlinewidth": 0,
             "ticks": ""
            },
            "colorscale": [
             [
              0,
              "#0d0887"
             ],
             [
              0.1111111111111111,
              "#46039f"
             ],
             [
              0.2222222222222222,
              "#7201a8"
             ],
             [
              0.3333333333333333,
              "#9c179e"
             ],
             [
              0.4444444444444444,
              "#bd3786"
             ],
             [
              0.5555555555555556,
              "#d8576b"
             ],
             [
              0.6666666666666666,
              "#ed7953"
             ],
             [
              0.7777777777777778,
              "#fb9f3a"
             ],
             [
              0.8888888888888888,
              "#fdca26"
             ],
             [
              1,
              "#f0f921"
             ]
            ],
            "type": "histogram2d"
           }
          ],
          "histogram2dcontour": [
           {
            "colorbar": {
             "outlinewidth": 0,
             "ticks": ""
            },
            "colorscale": [
             [
              0,
              "#0d0887"
             ],
             [
              0.1111111111111111,
              "#46039f"
             ],
             [
              0.2222222222222222,
              "#7201a8"
             ],
             [
              0.3333333333333333,
              "#9c179e"
             ],
             [
              0.4444444444444444,
              "#bd3786"
             ],
             [
              0.5555555555555556,
              "#d8576b"
             ],
             [
              0.6666666666666666,
              "#ed7953"
             ],
             [
              0.7777777777777778,
              "#fb9f3a"
             ],
             [
              0.8888888888888888,
              "#fdca26"
             ],
             [
              1,
              "#f0f921"
             ]
            ],
            "type": "histogram2dcontour"
           }
          ],
          "mesh3d": [
           {
            "colorbar": {
             "outlinewidth": 0,
             "ticks": ""
            },
            "type": "mesh3d"
           }
          ],
          "parcoords": [
           {
            "line": {
             "colorbar": {
              "outlinewidth": 0,
              "ticks": ""
             }
            },
            "type": "parcoords"
           }
          ],
          "pie": [
           {
            "automargin": true,
            "type": "pie"
           }
          ],
          "scatter": [
           {
            "marker": {
             "colorbar": {
              "outlinewidth": 0,
              "ticks": ""
             }
            },
            "type": "scatter"
           }
          ],
          "scatter3d": [
           {
            "line": {
             "colorbar": {
              "outlinewidth": 0,
              "ticks": ""
             }
            },
            "marker": {
             "colorbar": {
              "outlinewidth": 0,
              "ticks": ""
             }
            },
            "type": "scatter3d"
           }
          ],
          "scattercarpet": [
           {
            "marker": {
             "colorbar": {
              "outlinewidth": 0,
              "ticks": ""
             }
            },
            "type": "scattercarpet"
           }
          ],
          "scattergeo": [
           {
            "marker": {
             "colorbar": {
              "outlinewidth": 0,
              "ticks": ""
             }
            },
            "type": "scattergeo"
           }
          ],
          "scattergl": [
           {
            "marker": {
             "colorbar": {
              "outlinewidth": 0,
              "ticks": ""
             }
            },
            "type": "scattergl"
           }
          ],
          "scattermapbox": [
           {
            "marker": {
             "colorbar": {
              "outlinewidth": 0,
              "ticks": ""
             }
            },
            "type": "scattermapbox"
           }
          ],
          "scatterpolar": [
           {
            "marker": {
             "colorbar": {
              "outlinewidth": 0,
              "ticks": ""
             }
            },
            "type": "scatterpolar"
           }
          ],
          "scatterpolargl": [
           {
            "marker": {
             "colorbar": {
              "outlinewidth": 0,
              "ticks": ""
             }
            },
            "type": "scatterpolargl"
           }
          ],
          "scatterternary": [
           {
            "marker": {
             "colorbar": {
              "outlinewidth": 0,
              "ticks": ""
             }
            },
            "type": "scatterternary"
           }
          ],
          "surface": [
           {
            "colorbar": {
             "outlinewidth": 0,
             "ticks": ""
            },
            "colorscale": [
             [
              0,
              "#0d0887"
             ],
             [
              0.1111111111111111,
              "#46039f"
             ],
             [
              0.2222222222222222,
              "#7201a8"
             ],
             [
              0.3333333333333333,
              "#9c179e"
             ],
             [
              0.4444444444444444,
              "#bd3786"
             ],
             [
              0.5555555555555556,
              "#d8576b"
             ],
             [
              0.6666666666666666,
              "#ed7953"
             ],
             [
              0.7777777777777778,
              "#fb9f3a"
             ],
             [
              0.8888888888888888,
              "#fdca26"
             ],
             [
              1,
              "#f0f921"
             ]
            ],
            "type": "surface"
           }
          ],
          "table": [
           {
            "cells": {
             "fill": {
              "color": "#EBF0F8"
             },
             "line": {
              "color": "white"
             }
            },
            "header": {
             "fill": {
              "color": "#C8D4E3"
             },
             "line": {
              "color": "white"
             }
            },
            "type": "table"
           }
          ]
         },
         "layout": {
          "annotationdefaults": {
           "arrowcolor": "#2a3f5f",
           "arrowhead": 0,
           "arrowwidth": 1
          },
          "autotypenumbers": "strict",
          "coloraxis": {
           "colorbar": {
            "outlinewidth": 0,
            "ticks": ""
           }
          },
          "colorscale": {
           "diverging": [
            [
             0,
             "#8e0152"
            ],
            [
             0.1,
             "#c51b7d"
            ],
            [
             0.2,
             "#de77ae"
            ],
            [
             0.3,
             "#f1b6da"
            ],
            [
             0.4,
             "#fde0ef"
            ],
            [
             0.5,
             "#f7f7f7"
            ],
            [
             0.6,
             "#e6f5d0"
            ],
            [
             0.7,
             "#b8e186"
            ],
            [
             0.8,
             "#7fbc41"
            ],
            [
             0.9,
             "#4d9221"
            ],
            [
             1,
             "#276419"
            ]
           ],
           "sequential": [
            [
             0,
             "#0d0887"
            ],
            [
             0.1111111111111111,
             "#46039f"
            ],
            [
             0.2222222222222222,
             "#7201a8"
            ],
            [
             0.3333333333333333,
             "#9c179e"
            ],
            [
             0.4444444444444444,
             "#bd3786"
            ],
            [
             0.5555555555555556,
             "#d8576b"
            ],
            [
             0.6666666666666666,
             "#ed7953"
            ],
            [
             0.7777777777777778,
             "#fb9f3a"
            ],
            [
             0.8888888888888888,
             "#fdca26"
            ],
            [
             1,
             "#f0f921"
            ]
           ],
           "sequentialminus": [
            [
             0,
             "#0d0887"
            ],
            [
             0.1111111111111111,
             "#46039f"
            ],
            [
             0.2222222222222222,
             "#7201a8"
            ],
            [
             0.3333333333333333,
             "#9c179e"
            ],
            [
             0.4444444444444444,
             "#bd3786"
            ],
            [
             0.5555555555555556,
             "#d8576b"
            ],
            [
             0.6666666666666666,
             "#ed7953"
            ],
            [
             0.7777777777777778,
             "#fb9f3a"
            ],
            [
             0.8888888888888888,
             "#fdca26"
            ],
            [
             1,
             "#f0f921"
            ]
           ]
          },
          "colorway": [
           "#636efa",
           "#EF553B",
           "#00cc96",
           "#ab63fa",
           "#FFA15A",
           "#19d3f3",
           "#FF6692",
           "#B6E880",
           "#FF97FF",
           "#FECB52"
          ],
          "font": {
           "color": "#2a3f5f"
          },
          "geo": {
           "bgcolor": "white",
           "lakecolor": "white",
           "landcolor": "#E5ECF6",
           "showlakes": true,
           "showland": true,
           "subunitcolor": "white"
          },
          "hoverlabel": {
           "align": "left"
          },
          "hovermode": "closest",
          "mapbox": {
           "style": "light"
          },
          "paper_bgcolor": "white",
          "plot_bgcolor": "#E5ECF6",
          "polar": {
           "angularaxis": {
            "gridcolor": "white",
            "linecolor": "white",
            "ticks": ""
           },
           "bgcolor": "#E5ECF6",
           "radialaxis": {
            "gridcolor": "white",
            "linecolor": "white",
            "ticks": ""
           }
          },
          "scene": {
           "xaxis": {
            "backgroundcolor": "#E5ECF6",
            "gridcolor": "white",
            "gridwidth": 2,
            "linecolor": "white",
            "showbackground": true,
            "ticks": "",
            "zerolinecolor": "white"
           },
           "yaxis": {
            "backgroundcolor": "#E5ECF6",
            "gridcolor": "white",
            "gridwidth": 2,
            "linecolor": "white",
            "showbackground": true,
            "ticks": "",
            "zerolinecolor": "white"
           },
           "zaxis": {
            "backgroundcolor": "#E5ECF6",
            "gridcolor": "white",
            "gridwidth": 2,
            "linecolor": "white",
            "showbackground": true,
            "ticks": "",
            "zerolinecolor": "white"
           }
          },
          "shapedefaults": {
           "line": {
            "color": "#2a3f5f"
           }
          },
          "ternary": {
           "aaxis": {
            "gridcolor": "white",
            "linecolor": "white",
            "ticks": ""
           },
           "baxis": {
            "gridcolor": "white",
            "linecolor": "white",
            "ticks": ""
           },
           "bgcolor": "#E5ECF6",
           "caxis": {
            "gridcolor": "white",
            "linecolor": "white",
            "ticks": ""
           }
          },
          "title": {
           "x": 0.05
          },
          "xaxis": {
           "automargin": true,
           "gridcolor": "white",
           "linecolor": "white",
           "ticks": "",
           "title": {
            "standoff": 15
           },
           "zerolinecolor": "white",
           "zerolinewidth": 2
          },
          "yaxis": {
           "automargin": true,
           "gridcolor": "white",
           "linecolor": "white",
           "ticks": "",
           "title": {
            "standoff": 15
           },
           "zerolinecolor": "white",
           "zerolinewidth": 2
          }
         }
        },
        "width": 1000,
        "xaxis": {
         "fixedrange": true,
         "gridcolor": "#1f292f",
         "rangebreaks": [
          {
           "bounds": [
            "sat",
            "mon"
           ]
          }
         ],
         "rangeslider": {
          "visible": false
         },
         "showgrid": true
        },
        "yaxis": {
         "gridcolor": "#1f292f",
         "showgrid": true
        }
       }
      }
     },
     "metadata": {}
    }
   ],
   "source": [
    "fig = go.Figure()\n",
    "fig.add_trace(go.Candlestick(\n",
    "    x=df_plot.time, open=df_plot.mid_o, high=df_plot.mid_h, low=df_plot.mid_l, close=df_plot.mid_c,\n",
    "    line=dict(width=1), opacity=1,\n",
    "    increasing_fillcolor='#24A06B',\n",
    "    decreasing_fillcolor=\"#CC2E3C\",\n",
    "    increasing_line_color='#2EC886',  \n",
    "    decreasing_line_color='#FF3A4C'\n",
    "))\n",
    "fig.add_trace(go.Scatter(\n",
    "    x=df_buys.time,\n",
    "    y=df_buys.mid_c,\n",
    "    mode='markers',\n",
    "    marker=dict(color=\"#0ec4ce\",size=12)\n",
    "))\n",
    "fig.add_trace(go.Scatter(\n",
    "    x=df_sells.time,\n",
    "    y=df_sells.mid_c,\n",
    "    mode='markers',\n",
    "    marker=dict(color=\"#043ef9\",size=12)\n",
    "))\n",
    "fig.update_layout(width=1000,height=400,\n",
    "    margin=dict(l=10,r=10,b=10,t=10),\n",
    "    font=dict(size=10,color=\"#e1e1e1\"),\n",
    "    paper_bgcolor=\"#1e1e1e\",\n",
    "    plot_bgcolor=\"#1e1e1e\")\n",
    "fig.update_xaxes(\n",
    "    gridcolor=\"#1f292f\",\n",
    "    showgrid=True,fixedrange=True,rangeslider=dict(visible=False),\n",
    "    rangebreaks=[\n",
    "        dict(bounds=[\"sat\", \"mon\"])\n",
    "    ]\n",
    ")\n",
    "fig.update_yaxes(\n",
    "    gridcolor=\"#1f292f\",\n",
    "    showgrid=True\n",
    ")\n",
    "fig.show()"
   ]
  },
  {
   "cell_type": "code",
   "execution_count": null,
   "metadata": {},
   "outputs": [],
   "source": []
  }
 ]
}