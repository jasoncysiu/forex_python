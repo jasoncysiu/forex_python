{
 "metadata": {
  "language_info": {
   "codemirror_mode": {
    "name": "ipython",
    "version": 3
   },
   "file_extension": ".py",
   "mimetype": "text/x-python",
   "name": "python",
   "nbconvert_exporter": "python",
   "pygments_lexer": "ipython3",
   "version": "3.8.6-final"
  },
  "orig_nbformat": 2,
  "kernelspec": {
   "name": "python3",
   "display_name": "Python 3",
   "language": "python"
  }
 },
 "nbformat": 4,
 "nbformat_minor": 2,
 "cells": [
  {
   "cell_type": "code",
   "execution_count": 1,
   "metadata": {},
   "outputs": [],
   "source": [
    "import pandas as pd\n",
    "import plotly.graph_objects as go"
   ]
  },
  {
   "cell_type": "code",
   "execution_count": 2,
   "metadata": {},
   "outputs": [],
   "source": [
    "ma_test_res = pd.read_pickle(\"ma_test_res.pkl\")\n",
    "all_trades = pd.read_pickle(\"all_trades.pkl\")"
   ]
  },
  {
   "cell_type": "code",
   "execution_count": 3,
   "metadata": {},
   "outputs": [
    {
     "output_type": "execute_result",
     "data": {
      "text/plain": [
       "(67630, 11)"
      ]
     },
     "metadata": {},
     "execution_count": 3
    }
   ],
   "source": [
    "all_trades.shape"
   ]
  },
  {
   "cell_type": "code",
   "execution_count": 4,
   "metadata": {},
   "outputs": [
    {
     "output_type": "execute_result",
     "data": {
      "text/plain": [
       "(630, 8)"
      ]
     },
     "metadata": {},
     "execution_count": 4
    }
   ],
   "source": [
    "ma_test_res.shape"
   ]
  },
  {
   "cell_type": "code",
   "execution_count": 10,
   "metadata": {},
   "outputs": [
    {
     "output_type": "execute_result",
     "data": {
      "text/plain": [
       "      pair  num_trades  total_gain  mashort  malong    CROSS\n",
       "0  GBP_USD         544      1021.2        4       8   MA_4_8\n",
       "1  GBP_USD         311      -339.4        4      16  MA_4_16\n",
       "2  GBP_USD         269      -141.6        8      16  MA_8_16\n",
       "3  GBP_USD         194      -160.3        4      32  MA_4_32\n",
       "4  GBP_USD         151       416.7        8      32  MA_8_32"
      ],
      "text/html": "<div>\n<style scoped>\n    .dataframe tbody tr th:only-of-type {\n        vertical-align: middle;\n    }\n\n    .dataframe tbody tr th {\n        vertical-align: top;\n    }\n\n    .dataframe thead th {\n        text-align: right;\n    }\n</style>\n<table border=\"1\" class=\"dataframe\">\n  <thead>\n    <tr style=\"text-align: right;\">\n      <th></th>\n      <th>pair</th>\n      <th>num_trades</th>\n      <th>total_gain</th>\n      <th>mashort</th>\n      <th>malong</th>\n      <th>CROSS</th>\n    </tr>\n  </thead>\n  <tbody>\n    <tr>\n      <th>0</th>\n      <td>GBP_USD</td>\n      <td>544</td>\n      <td>1021.2</td>\n      <td>4</td>\n      <td>8</td>\n      <td>MA_4_8</td>\n    </tr>\n    <tr>\n      <th>1</th>\n      <td>GBP_USD</td>\n      <td>311</td>\n      <td>-339.4</td>\n      <td>4</td>\n      <td>16</td>\n      <td>MA_4_16</td>\n    </tr>\n    <tr>\n      <th>2</th>\n      <td>GBP_USD</td>\n      <td>269</td>\n      <td>-141.6</td>\n      <td>8</td>\n      <td>16</td>\n      <td>MA_8_16</td>\n    </tr>\n    <tr>\n      <th>3</th>\n      <td>GBP_USD</td>\n      <td>194</td>\n      <td>-160.3</td>\n      <td>4</td>\n      <td>32</td>\n      <td>MA_4_32</td>\n    </tr>\n    <tr>\n      <th>4</th>\n      <td>GBP_USD</td>\n      <td>151</td>\n      <td>416.7</td>\n      <td>8</td>\n      <td>32</td>\n      <td>MA_8_32</td>\n    </tr>\n  </tbody>\n</table>\n</div>"
     },
     "metadata": {},
     "execution_count": 10
    }
   ],
   "source": [
    "ma_test_res.head()"
   ]
  },
  {
   "cell_type": "code",
   "execution_count": 6,
   "metadata": {},
   "outputs": [
    {
     "output_type": "execute_result",
     "data": {
      "text/plain": [
       "Index(['pair', 'num_trades', 'total_gain', 'mean_gain', 'min_gain', 'max_gain',\n",
       "       'mashort', 'malong'],\n",
       "      dtype='object')"
      ]
     },
     "metadata": {},
     "execution_count": 6
    }
   ],
   "source": [
    "ma_test_res.columns"
   ]
  },
  {
   "cell_type": "code",
   "execution_count": 7,
   "metadata": {},
   "outputs": [],
   "source": [
    "ma_test_res = ma_test_res[['pair', 'num_trades', 'total_gain','mashort', 'malong']]"
   ]
  },
  {
   "cell_type": "code",
   "execution_count": 9,
   "metadata": {},
   "outputs": [],
   "source": [
    "ma_test_res[\"CROSS\"] = \"MA_\" + ma_test_res.mashort.map(str) + \"_\" + ma_test_res.malong.map(str)"
   ]
  },
  {
   "cell_type": "code",
   "execution_count": 17,
   "metadata": {},
   "outputs": [],
   "source": [
    "df_all_gains = ma_test_res.groupby(by=[\"CROSS\", \"mashort\", \"malong\"], as_index=False).sum()"
   ]
  },
  {
   "cell_type": "code",
   "execution_count": 19,
   "metadata": {},
   "outputs": [],
   "source": [
    "df_all_gains.sort_values(by=\"total_gain\", ascending=False, inplace=True)"
   ]
  },
  {
   "cell_type": "code",
   "execution_count": 20,
   "metadata": {},
   "outputs": [
    {
     "output_type": "execute_result",
     "data": {
      "text/plain": [
       "       CROSS  mashort  malong  num_trades  total_gain\n",
       "25   MA_8_16        8      16        5759      5515.2\n",
       "19    MA_4_8        4       8       11760      3634.5\n",
       "15   MA_4_16        4      16        6545      3424.4\n",
       "2   MA_16_32       16      32        2839       -75.2\n",
       "27   MA_8_32        8      32        3202     -1996.3"
      ],
      "text/html": "<div>\n<style scoped>\n    .dataframe tbody tr th:only-of-type {\n        vertical-align: middle;\n    }\n\n    .dataframe tbody tr th {\n        vertical-align: top;\n    }\n\n    .dataframe thead th {\n        text-align: right;\n    }\n</style>\n<table border=\"1\" class=\"dataframe\">\n  <thead>\n    <tr style=\"text-align: right;\">\n      <th></th>\n      <th>CROSS</th>\n      <th>mashort</th>\n      <th>malong</th>\n      <th>num_trades</th>\n      <th>total_gain</th>\n    </tr>\n  </thead>\n  <tbody>\n    <tr>\n      <th>25</th>\n      <td>MA_8_16</td>\n      <td>8</td>\n      <td>16</td>\n      <td>5759</td>\n      <td>5515.2</td>\n    </tr>\n    <tr>\n      <th>19</th>\n      <td>MA_4_8</td>\n      <td>4</td>\n      <td>8</td>\n      <td>11760</td>\n      <td>3634.5</td>\n    </tr>\n    <tr>\n      <th>15</th>\n      <td>MA_4_16</td>\n      <td>4</td>\n      <td>16</td>\n      <td>6545</td>\n      <td>3424.4</td>\n    </tr>\n    <tr>\n      <th>2</th>\n      <td>MA_16_32</td>\n      <td>16</td>\n      <td>32</td>\n      <td>2839</td>\n      <td>-75.2</td>\n    </tr>\n    <tr>\n      <th>27</th>\n      <td>MA_8_32</td>\n      <td>8</td>\n      <td>32</td>\n      <td>3202</td>\n      <td>-1996.3</td>\n    </tr>\n  </tbody>\n</table>\n</div>"
     },
     "metadata": {},
     "execution_count": 20
    }
   ],
   "source": [
    "df_all_gains.head()"
   ]
  },
  {
   "cell_type": "code",
   "execution_count": 23,
   "metadata": {},
   "outputs": [],
   "source": [
    "ma_8_16 = ma_test_res[ma_test_res.CROSS=='MA_8_16'].copy()"
   ]
  },
  {
   "cell_type": "code",
   "execution_count": 25,
   "metadata": {},
   "outputs": [],
   "source": [
    "ma_8_16.sort_values(by=\"total_gain\", ascending=False, inplace=True)"
   ]
  },
  {
   "cell_type": "code",
   "execution_count": 29,
   "metadata": {},
   "outputs": [],
   "source": [
    "total_p = len(ma_8_16.pair.unique())"
   ]
  },
  {
   "cell_type": "code",
   "execution_count": 30,
   "metadata": {},
   "outputs": [
    {
     "output_type": "execute_result",
     "data": {
      "text/plain": [
       "13"
      ]
     },
     "metadata": {},
     "execution_count": 30
    }
   ],
   "source": [
    "ma_8_16[ma_8_16.total_gain>0].shape[0]"
   ]
  },
  {
   "cell_type": "code",
   "execution_count": 32,
   "metadata": {},
   "outputs": [
    {
     "output_type": "execute_result",
     "data": {
      "text/plain": [
       "0.6190476190476191"
      ]
     },
     "metadata": {},
     "execution_count": 32
    }
   ],
   "source": [
    "13 / total_p"
   ]
  },
  {
   "cell_type": "code",
   "execution_count": 37,
   "metadata": {},
   "outputs": [
    {
     "output_type": "stream",
     "name": "stdout",
     "text": [
      "MA_8_16        13   62%\nMA_4_8         15   71%\nMA_4_16        13   62%\nMA_16_32        9   43%\nMA_8_32         8   38%\nMA_4_32         8   38%\nMA_64_128       7   33%\nMA_8_64         5   24%\nMA_64_256       4   19%\nMA_4_64         6   29%\nMA_24_32        4   19%\nMA_8_256        3   14%\nMA_4_256        4   19%\nMA_16_256       0    0%\nMA_64_96        3   14%\nMA_24_256       1    5%\nMA_32_256       0    0%\nMA_4_96         6   29%\nMA_32_96        4   19%\nMA_16_64        4   19%\nMA_8_96         5   24%\nMA_8_128        3   14%\nMA_4_128        4   19%\nMA_16_96        3   14%\nMA_32_64        4   19%\nMA_24_64        4   19%\nMA_32_128       3   14%\nMA_24_96        2   10%\nMA_24_128       2   10%\nMA_16_128       1    5%\n"
     ]
    }
   ],
   "source": [
    "for cross in df_all_gains.CROSS.unique():\n",
    "    df_temp = ma_test_res[ma_test_res.CROSS==cross]\n",
    "    total_p = df_temp.shape[0]\n",
    "    n_good = df_temp[df_temp.total_gain>0].shape[0]\n",
    "    print(f\"{cross:12} {n_good:4} {(n_good/total_p)*100:4.0f}%\")"
   ]
  },
  {
   "cell_type": "code",
   "execution_count": null,
   "metadata": {},
   "outputs": [],
   "source": []
  }
 ]
}