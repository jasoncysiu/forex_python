{
 "metadata": {
  "language_info": {
   "codemirror_mode": {
    "name": "ipython",
    "version": 3
   },
   "file_extension": ".py",
   "mimetype": "text/x-python",
   "name": "python",
   "nbconvert_exporter": "python",
   "pygments_lexer": "ipython3",
   "version": "3.9.6"
  },
  "orig_nbformat": 2,
  "kernelspec": {
   "name": "python3",
   "display_name": "Python 3.9.6 64-bit ('venv': venv)"
  },
  "interpreter": {
   "hash": "35325e08d36118397aed80a4e9ebc9d9adf6a0c7dfaf4180f6a17ddcfd3c02b1"
  }
 },
 "nbformat": 4,
 "nbformat_minor": 2,
 "cells": [
  {
   "cell_type": "code",
   "execution_count": 1,
   "source": [
    "import requests\r\n",
    "import defs"
   ],
   "outputs": [],
   "metadata": {}
  },
  {
   "cell_type": "code",
   "execution_count": 2,
   "source": [
    "#Why you need a session? \r\n",
    "# >> Imagine you are having 500 requests per second, you don't want to connect to the server for 500 times as it will slow your PC down;\r\n",
    "# instead you create a session to connect once to make an API request\r\n",
    "session = requests.Session()"
   ],
   "outputs": [],
   "metadata": {}
  },
  {
   "cell_type": "code",
   "execution_count": 3,
   "source": [
    "instrument = \"EUR_USD\"\r\n",
    "count = 10\r\n",
    "granularity = \"H1\""
   ],
   "outputs": [],
   "metadata": {}
  },
  {
   "cell_type": "code",
   "execution_count": 11,
   "source": [
    "url = f\"{defs.OANDA_URL}/instruments/{instrument}/candles\""
   ],
   "outputs": [],
   "metadata": {}
  },
  {
   "cell_type": "code",
   "execution_count": 12,
   "source": [
    "url"
   ],
   "outputs": [
    {
     "output_type": "execute_result",
     "data": {
      "text/plain": [
       "'https://api-fxpractice.oanda.com/v3/instruments/EUR_USD/candles'"
      ]
     },
     "metadata": {},
     "execution_count": 12
    }
   ],
   "metadata": {}
  },
  {
   "cell_type": "code",
   "execution_count": 6,
   "source": [
    "params = dict(\r\n",
    "    count = count,\r\n",
    "    granularity = granularity,\r\n",
    "    price = \"MBA\"\r\n",
    ")"
   ],
   "outputs": [],
   "metadata": {}
  },
  {
   "cell_type": "code",
   "execution_count": 7,
   "source": [
    "params"
   ],
   "outputs": [
    {
     "output_type": "execute_result",
     "data": {
      "text/plain": [
       "{'count': 10, 'granularity': 'H1', 'price': 'MBA'}"
      ]
     },
     "metadata": {},
     "execution_count": 7
    }
   ],
   "metadata": {}
  },
  {
   "cell_type": "code",
   "execution_count": 8,
   "source": [
    "#get the first API request; SECURE_HEADER is our Authorisation\r\n",
    "response = session.get(url, params=params, headers=defs.SECURE_HEADER)"
   ],
   "outputs": [],
   "metadata": {}
  },
  {
   "cell_type": "code",
   "execution_count": 9,
   "source": [
    "response.status_code"
   ],
   "outputs": [
    {
     "output_type": "execute_result",
     "data": {
      "text/plain": [
       "200"
      ]
     },
     "metadata": {},
     "execution_count": 9
    }
   ],
   "metadata": {}
  },
  {
   "cell_type": "code",
   "execution_count": 10,
   "source": [
    "response.json()"
   ],
   "outputs": [
    {
     "output_type": "execute_result",
     "data": {
      "text/plain": [
       "{'instrument': 'EUR_USD',\n",
       " 'granularity': 'H1',\n",
       " 'candles': [{'complete': True,\n",
       "   'volume': 2657,\n",
       "   'time': '2021-07-30T17:00:00.000000000Z',\n",
       "   'bid': {'o': '1.18585', 'h': '1.18622', 'l': '1.18548', 'c': '1.18607'},\n",
       "   'mid': {'o': '1.18592', 'h': '1.18628', 'l': '1.18555', 'c': '1.18614'},\n",
       "   'ask': {'o': '1.18598', 'h': '1.18635', 'l': '1.18562', 'c': '1.18620'}},\n",
       "  {'complete': True,\n",
       "   'volume': 2668,\n",
       "   'time': '2021-07-30T18:00:00.000000000Z',\n",
       "   'bid': {'o': '1.18608', 'h': '1.18622', 'l': '1.18531', 'c': '1.18555'},\n",
       "   'mid': {'o': '1.18615', 'h': '1.18629', 'l': '1.18538', 'c': '1.18562'},\n",
       "   'ask': {'o': '1.18622', 'h': '1.18636', 'l': '1.18545', 'c': '1.18570'}},\n",
       "  {'complete': True,\n",
       "   'volume': 2221,\n",
       "   'time': '2021-07-30T19:00:00.000000000Z',\n",
       "   'bid': {'o': '1.18554', 'h': '1.18635', 'l': '1.18541', 'c': '1.18615'},\n",
       "   'mid': {'o': '1.18561', 'h': '1.18642', 'l': '1.18548', 'c': '1.18622'},\n",
       "   'ask': {'o': '1.18568', 'h': '1.18648', 'l': '1.18556', 'c': '1.18629'}},\n",
       "  {'complete': True,\n",
       "   'volume': 1837,\n",
       "   'time': '2021-07-30T20:00:00.000000000Z',\n",
       "   'bid': {'o': '1.18614', 'h': '1.18759', 'l': '1.18598', 'c': '1.18659'},\n",
       "   'mid': {'o': '1.18621', 'h': '1.18767', 'l': '1.18604', 'c': '1.18671'},\n",
       "   'ask': {'o': '1.18628', 'h': '1.18777', 'l': '1.18611', 'c': '1.18683'}},\n",
       "  {'complete': True,\n",
       "   'volume': 47,\n",
       "   'time': '2021-08-01T21:00:00.000000000Z',\n",
       "   'bid': {'o': '1.18573', 'h': '1.18652', 'l': '1.18573', 'c': '1.18621'},\n",
       "   'mid': {'o': '1.18623', 'h': '1.18702', 'l': '1.18623', 'c': '1.18655'},\n",
       "   'ask': {'o': '1.18673', 'h': '1.18752', 'l': '1.18673', 'c': '1.18689'}},\n",
       "  {'complete': True,\n",
       "   'volume': 381,\n",
       "   'time': '2021-08-01T22:00:00.000000000Z',\n",
       "   'bid': {'o': '1.18631', 'h': '1.18688', 'l': '1.18595', 'c': '1.18675'},\n",
       "   'mid': {'o': '1.18659', 'h': '1.18697', 'l': '1.18634', 'c': '1.18683'},\n",
       "   'ask': {'o': '1.18687', 'h': '1.18713', 'l': '1.18641', 'c': '1.18691'}},\n",
       "  {'complete': True,\n",
       "   'volume': 329,\n",
       "   'time': '2021-08-01T23:00:00.000000000Z',\n",
       "   'bid': {'o': '1.18676', 'h': '1.18676', 'l': '1.18615', 'c': '1.18654'},\n",
       "   'mid': {'o': '1.18684', 'h': '1.18684', 'l': '1.18624', 'c': '1.18662'},\n",
       "   'ask': {'o': '1.18693', 'h': '1.18693', 'l': '1.18632', 'c': '1.18669'}},\n",
       "  {'complete': True,\n",
       "   'volume': 1460,\n",
       "   'time': '2021-08-02T00:00:00.000000000Z',\n",
       "   'bid': {'o': '1.18652', 'h': '1.18705', 'l': '1.18618', 'c': '1.18684'},\n",
       "   'mid': {'o': '1.18660', 'h': '1.18712', 'l': '1.18626', 'c': '1.18691'},\n",
       "   'ask': {'o': '1.18668', 'h': '1.18721', 'l': '1.18635', 'c': '1.18698'}},\n",
       "  {'complete': True,\n",
       "   'volume': 1601,\n",
       "   'time': '2021-08-02T01:00:00.000000000Z',\n",
       "   'bid': {'o': '1.18685', 'h': '1.18692', 'l': '1.18602', 'c': '1.18628'},\n",
       "   'mid': {'o': '1.18692', 'h': '1.18700', 'l': '1.18610', 'c': '1.18634'},\n",
       "   'ask': {'o': '1.18699', 'h': '1.18708', 'l': '1.18617', 'c': '1.18641'}},\n",
       "  {'complete': False,\n",
       "   'volume': 734,\n",
       "   'time': '2021-08-02T02:00:00.000000000Z',\n",
       "   'bid': {'o': '1.18627', 'h': '1.18651', 'l': '1.18582', 'c': '1.18645'},\n",
       "   'mid': {'o': '1.18634', 'h': '1.18658', 'l': '1.18590', 'c': '1.18652'},\n",
       "   'ask': {'o': '1.18640', 'h': '1.18666', 'l': '1.18598', 'c': '1.18660'}}]}"
      ]
     },
     "metadata": {},
     "execution_count": 10
    }
   ],
   "metadata": {}
  }
 ]
}