{
 "metadata": {
  "language_info": {
   "codemirror_mode": {
    "name": "ipython",
    "version": 3
   },
   "file_extension": ".py",
   "mimetype": "text/x-python",
   "name": "python",
   "nbconvert_exporter": "python",
   "pygments_lexer": "ipython3",
   "version": "3.8.6-final"
  },
  "orig_nbformat": 2,
  "kernelspec": {
   "name": "python3",
   "display_name": "Python 3",
   "language": "python"
  }
 },
 "nbformat": 4,
 "nbformat_minor": 2,
 "cells": [
  {
   "cell_type": "code",
   "execution_count": 1,
   "metadata": {},
   "outputs": [],
   "source": [
    "import pandas as pd\n",
    "import utils"
   ]
  },
  {
   "cell_type": "code",
   "execution_count": 2,
   "metadata": {},
   "outputs": [],
   "source": [
    "pair = \"EUR_USD\"\n",
    "granularity = \"H1\""
   ]
  },
  {
   "cell_type": "code",
   "execution_count": 3,
   "metadata": {},
   "outputs": [],
   "source": [
    "df = pd.read_pickle(utils.get_his_data_filename(pair, granularity))"
   ]
  },
  {
   "cell_type": "code",
   "execution_count": 12,
   "metadata": {},
   "outputs": [],
   "source": [
    "non_cols = ['time', 'volume']"
   ]
  },
  {
   "cell_type": "code",
   "execution_count": 18,
   "metadata": {},
   "outputs": [],
   "source": [
    "mod_cols = [x for x in df.columns if x not in non_cols]"
   ]
  },
  {
   "cell_type": "code",
   "execution_count": 22,
   "metadata": {},
   "outputs": [],
   "source": [
    "df[mod_cols] = df[mod_cols].apply(pd.to_numeric)"
   ]
  },
  {
   "cell_type": "code",
   "execution_count": 25,
   "metadata": {},
   "outputs": [
    {
     "output_type": "execute_result",
     "data": {
      "text/plain": [
       "             volume        mid_o        mid_h        mid_l        mid_c  \\\n",
       "count   3999.000000  3999.000000  3999.000000  3999.000000  3999.000000   \n",
       "mean    4280.808202     1.179689     1.180445     1.178944     1.179709   \n",
       "std     3428.018287     0.029423     0.029412     0.029432     0.029417   \n",
       "min       19.000000     1.117680     1.118120     1.116840     1.117660   \n",
       "25%     1513.500000     1.169255     1.170180     1.168130     1.169280   \n",
       "50%     3433.000000     1.181800     1.182570     1.181120     1.181840   \n",
       "75%     6350.000000     1.197570     1.198540     1.196575     1.197660   \n",
       "max    34173.000000     1.234000     1.234960     1.233340     1.234020   \n",
       "\n",
       "             bid_o        bid_h        bid_l        bid_c        ask_o  \\\n",
       "count  3999.000000  3999.000000  3999.000000  3999.000000  3999.000000   \n",
       "mean      1.179600     1.180365     1.178849     1.179628     1.179778   \n",
       "std       0.029427     0.029415     0.029436     0.029420     0.029420   \n",
       "min       1.117600     1.118030     1.116730     1.117590     1.117750   \n",
       "25%       1.169185     1.170110     1.168060     1.169210     1.169330   \n",
       "50%       1.181730     1.182500     1.181010     1.181770     1.181910   \n",
       "75%       1.197485     1.198475     1.196505     1.197595     1.197655   \n",
       "max       1.233920     1.234880     1.233280     1.233940     1.234080   \n",
       "\n",
       "             ask_h        ask_l        ask_c  \n",
       "count  3999.000000  3999.000000  3999.000000  \n",
       "mean      1.180539     1.179025     1.179791  \n",
       "std       0.029407     0.029429     0.029414  \n",
       "min       1.118210     1.116910     1.117730  \n",
       "25%       1.170255     1.168195     1.169345  \n",
       "50%       1.182680     1.181200     1.181920  \n",
       "75%       1.198610     1.196640     1.197730  \n",
       "max       1.235040     1.233410     1.234100  "
      ],
      "text/html": "<div>\n<style scoped>\n    .dataframe tbody tr th:only-of-type {\n        vertical-align: middle;\n    }\n\n    .dataframe tbody tr th {\n        vertical-align: top;\n    }\n\n    .dataframe thead th {\n        text-align: right;\n    }\n</style>\n<table border=\"1\" class=\"dataframe\">\n  <thead>\n    <tr style=\"text-align: right;\">\n      <th></th>\n      <th>volume</th>\n      <th>mid_o</th>\n      <th>mid_h</th>\n      <th>mid_l</th>\n      <th>mid_c</th>\n      <th>bid_o</th>\n      <th>bid_h</th>\n      <th>bid_l</th>\n      <th>bid_c</th>\n      <th>ask_o</th>\n      <th>ask_h</th>\n      <th>ask_l</th>\n      <th>ask_c</th>\n    </tr>\n  </thead>\n  <tbody>\n    <tr>\n      <th>count</th>\n      <td>3999.000000</td>\n      <td>3999.000000</td>\n      <td>3999.000000</td>\n      <td>3999.000000</td>\n      <td>3999.000000</td>\n      <td>3999.000000</td>\n      <td>3999.000000</td>\n      <td>3999.000000</td>\n      <td>3999.000000</td>\n      <td>3999.000000</td>\n      <td>3999.000000</td>\n      <td>3999.000000</td>\n      <td>3999.000000</td>\n    </tr>\n    <tr>\n      <th>mean</th>\n      <td>4280.808202</td>\n      <td>1.179689</td>\n      <td>1.180445</td>\n      <td>1.178944</td>\n      <td>1.179709</td>\n      <td>1.179600</td>\n      <td>1.180365</td>\n      <td>1.178849</td>\n      <td>1.179628</td>\n      <td>1.179778</td>\n      <td>1.180539</td>\n      <td>1.179025</td>\n      <td>1.179791</td>\n    </tr>\n    <tr>\n      <th>std</th>\n      <td>3428.018287</td>\n      <td>0.029423</td>\n      <td>0.029412</td>\n      <td>0.029432</td>\n      <td>0.029417</td>\n      <td>0.029427</td>\n      <td>0.029415</td>\n      <td>0.029436</td>\n      <td>0.029420</td>\n      <td>0.029420</td>\n      <td>0.029407</td>\n      <td>0.029429</td>\n      <td>0.029414</td>\n    </tr>\n    <tr>\n      <th>min</th>\n      <td>19.000000</td>\n      <td>1.117680</td>\n      <td>1.118120</td>\n      <td>1.116840</td>\n      <td>1.117660</td>\n      <td>1.117600</td>\n      <td>1.118030</td>\n      <td>1.116730</td>\n      <td>1.117590</td>\n      <td>1.117750</td>\n      <td>1.118210</td>\n      <td>1.116910</td>\n      <td>1.117730</td>\n    </tr>\n    <tr>\n      <th>25%</th>\n      <td>1513.500000</td>\n      <td>1.169255</td>\n      <td>1.170180</td>\n      <td>1.168130</td>\n      <td>1.169280</td>\n      <td>1.169185</td>\n      <td>1.170110</td>\n      <td>1.168060</td>\n      <td>1.169210</td>\n      <td>1.169330</td>\n      <td>1.170255</td>\n      <td>1.168195</td>\n      <td>1.169345</td>\n    </tr>\n    <tr>\n      <th>50%</th>\n      <td>3433.000000</td>\n      <td>1.181800</td>\n      <td>1.182570</td>\n      <td>1.181120</td>\n      <td>1.181840</td>\n      <td>1.181730</td>\n      <td>1.182500</td>\n      <td>1.181010</td>\n      <td>1.181770</td>\n      <td>1.181910</td>\n      <td>1.182680</td>\n      <td>1.181200</td>\n      <td>1.181920</td>\n    </tr>\n    <tr>\n      <th>75%</th>\n      <td>6350.000000</td>\n      <td>1.197570</td>\n      <td>1.198540</td>\n      <td>1.196575</td>\n      <td>1.197660</td>\n      <td>1.197485</td>\n      <td>1.198475</td>\n      <td>1.196505</td>\n      <td>1.197595</td>\n      <td>1.197655</td>\n      <td>1.198610</td>\n      <td>1.196640</td>\n      <td>1.197730</td>\n    </tr>\n    <tr>\n      <th>max</th>\n      <td>34173.000000</td>\n      <td>1.234000</td>\n      <td>1.234960</td>\n      <td>1.233340</td>\n      <td>1.234020</td>\n      <td>1.233920</td>\n      <td>1.234880</td>\n      <td>1.233280</td>\n      <td>1.233940</td>\n      <td>1.234080</td>\n      <td>1.235040</td>\n      <td>1.233410</td>\n      <td>1.234100</td>\n    </tr>\n  </tbody>\n</table>\n</div>"
     },
     "metadata": {},
     "execution_count": 25
    }
   ],
   "source": [
    "df.describe()"
   ]
  },
  {
   "cell_type": "code",
   "execution_count": null,
   "metadata": {},
   "outputs": [],
   "source": []
  }
 ]
}