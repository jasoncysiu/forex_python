{
 "metadata": {
  "language_info": {
   "codemirror_mode": {
    "name": "ipython",
    "version": 3
   },
   "file_extension": ".py",
   "mimetype": "text/x-python",
   "name": "python",
   "nbconvert_exporter": "python",
   "pygments_lexer": "ipython3",
   "version": "3.8.6-final"
  },
  "orig_nbformat": 2,
  "kernelspec": {
   "name": "python3",
   "display_name": "Python 3.8.6 64-bit ('venv')",
   "metadata": {
    "interpreter": {
     "hash": "be5e91b1e492455655c24714dfd4b9d98fd4b60ac770d810fbdc4ba1d818ed6d"
    }
   }
  }
 },
 "nbformat": 4,
 "nbformat_minor": 2,
 "cells": [
  {
   "cell_type": "code",
   "execution_count": 2,
   "metadata": {},
   "outputs": [],
   "source": [
    "import pandas as pd\n",
    "import utils\n",
    "import plotly.graph_objects as go"
   ]
  },
  {
   "cell_type": "code",
   "execution_count": 3,
   "metadata": {},
   "outputs": [],
   "source": [
    "def plot_candles(df_plot, df_markers=None):\n",
    "    fig = go.Figure()\n",
    "\n",
    "    fig.add_trace(go.Candlestick(\n",
    "        x=df_plot.time, open=df_plot.mid_o, high=df_plot.mid_h, low=df_plot.mid_l, close=df_plot.mid_c,\n",
    "        line=dict(width=1), opacity=1,\n",
    "        increasing_fillcolor='#24A06B',\n",
    "        decreasing_fillcolor=\"#CC2E3C\",\n",
    "        increasing_line_color='#2EC886',  \n",
    "        decreasing_line_color='#FF3A4C'\n",
    "    ))\n",
    "\n",
    "    if df_markers is not None:\n",
    "        fig.add_trace(go.Candlestick(\n",
    "            x=df_markers.time, open=df_markers.mid_o, high=df_markers.mid_h, low=df_markers.mid_l, close=df_markers.mid_c,\n",
    "            line=dict(width=1), opacity=1,\n",
    "            increasing_fillcolor='#3480eb',\n",
    "            decreasing_fillcolor=\"#3480eb\",\n",
    "            increasing_line_color='#3480eb',  \n",
    "            decreasing_line_color='#3480eb'\n",
    "        ))\n",
    "\n",
    "    fig.update_layout(width=1000,height=400,\n",
    "        margin=dict(l=10,r=10,b=10,t=10),\n",
    "        font=dict(size=10,color=\"#e1e1e1\"),\n",
    "        paper_bgcolor=\"#1e1e1e\",\n",
    "        plot_bgcolor=\"#1e1e1e\")\n",
    "    fig.update_xaxes(\n",
    "        gridcolor=\"#1f292f\",\n",
    "        showgrid=True,fixedrange=True,rangeslider=dict(visible=False),\n",
    "        rangebreaks=[\n",
    "            dict(bounds=[\"sat\", \"mon\"])\n",
    "        ]\n",
    "    )\n",
    "    fig.update_yaxes(\n",
    "        gridcolor=\"#1f292f\",\n",
    "        showgrid=True\n",
    "    )\n",
    "    fig.show()"
   ]
  },
  {
   "cell_type": "code",
   "execution_count": 4,
   "metadata": {},
   "outputs": [],
   "source": [
    "pair = \"USD_JPY\"\n",
    "granularity = \"H4\"\n",
    "df_raw = pd.read_pickle(utils.get_his_data_filename(pair, granularity))"
   ]
  },
  {
   "cell_type": "code",
   "execution_count": 5,
   "metadata": {},
   "outputs": [],
   "source": [
    "cols = ['time', 'mid_o', 'mid_h', 'mid_l', 'mid_c']"
   ]
  },
  {
   "cell_type": "code",
   "execution_count": 32,
   "metadata": {},
   "outputs": [],
   "source": []
  },
  {
   "cell_type": "code",
   "execution_count": 21,
   "metadata": {},
   "outputs": [],
   "source": [
    "SMALL_BODY = 0.2\n",
    "CLOSE_DISTANCE = 0.15\n",
    "DOJI_BODY = 0.05\n",
    "FULL_BODY = 0.95\n",
    "CENTER_DISTANCE_HIGH = 0.55\n",
    "CENTER_DISTANCE_LOW = 0.45\n",
    "BIG_BODY = 0.6\n",
    "ENGULFING_FACTOR = 1.1\n",
    "\n",
    "def apply_top_end_distance(row):\n",
    "    if row.DIRECTION == 1:\n",
    "        return row.mid_h - row.mid_c\n",
    "    else:\n",
    "        return row.mid_h - row.mid_o\n",
    "\n",
    "def apply_bottom_end_distance(row):\n",
    "    if row.DIRECTION == 1:\n",
    "        return row.mid_o - row.mid_l\n",
    "    else:\n",
    "        return row.mid_c - row.mid_l\n",
    "\n",
    "def apply_hammer(row):\n",
    "    if row.BODY_PERC < SMALL_BODY:\n",
    "        if row.DIST_TOP_PERC < CLOSE_DISTANCE or row.DIST_BOTTOM_PERC < CLOSE_DISTANCE:\n",
    "            return True\n",
    "    return False\n",
    "\n",
    "def apply_spinning_top(row):\n",
    "    if row.BODY_PERC < SMALL_BODY:\n",
    "        if row.DIST_TOP_PERC < CENTER_DISTANCE_HIGH and row.DIST_TOP_PERC > CENTER_DISTANCE_LOW:\n",
    "            return True\n",
    "    return False\n",
    "\n",
    "def apply_engulfing(row):\n",
    "    if row.PREV_DIRECTION != row.DIRECTION:\n",
    "        if row.PREV_BODY_PERC > BIG_BODY and row.BODY_PERC > BIG_BODY:\n",
    "            if row.BODY_RANGE > row.PREV_BODY_RANGE * ENGULFING_FACTOR:\n",
    "                return True\n",
    "    return False\n",
    "\n",
    "def apply_stats(df):\n",
    "    df['RANGE'] = df.mid_h - df.mid_l\n",
    "    df['BODY_RANGE'] = abs(df.mid_c - df.mid_o)\n",
    "    df['CENTER'] = (df.mid_h - df.mid_l) / 2 + df.mid_l\n",
    "    df['BODY_PERC'] = df.BODY_RANGE / df.RANGE\n",
    "    df['DIRECTION'] = df.mid_c - df.mid_o\n",
    "    df['DIRECTION'] = df['DIRECTION'].apply(lambda x: 1 if x >= 0 else -1)\n",
    "    df['DIST_TOP'] = df.apply(apply_top_end_distance, axis=1)\n",
    "    df['DIST_BOTTOM'] = df.apply(apply_bottom_end_distance, axis=1)\n",
    "    df['DIST_TOP_PERC'] = df.DIST_TOP / df.RANGE\n",
    "    df['DIST_BOTTOM_PERC'] = df.DIST_BOTTOM / df.RANGE\n",
    "\n",
    "    df['PREV_BODY_RANGE'] = df.BODY_RANGE.shift(1)\n",
    "    df['PREV_BODY_PERC'] = df.BODY_PERC.shift(1)\n",
    "    df['PREV_DIRECTION'] = df.DIRECTION.shift(1)\n",
    "\n",
    "    df.dropna(inplace=True)\n",
    "\n",
    "    return df\n",
    "\n",
    "def apply_patterns(df):\n",
    "    df['HAMMER'] = df.apply(apply_hammer, axis=1)\n",
    "    df['SPINNING_TOP'] = df.apply(apply_spinning_top, axis=1)\n",
    "    df['DOJI'] = df['BODY_PERC'].apply(lambda x: True if x < DOJI_BODY else False)\n",
    "    df['MARUBOZU'] = df['BODY_PERC'].apply(lambda x: True if x > FULL_BODY else False)\n",
    "    df['ENGULFING'] = df.apply(apply_engulfing, axis=1)\n",
    "    return df"
   ]
  },
  {
   "cell_type": "code",
   "execution_count": 22,
   "metadata": {},
   "outputs": [],
   "source": [
    "df = df_raw[cols].copy()\n",
    "df = apply_stats(df)\n",
    "df = apply_patterns(df)"
   ]
  },
  {
   "cell_type": "code",
   "execution_count": 23,
   "metadata": {},
   "outputs": [
    {
     "output_type": "execute_result",
     "data": {
      "text/plain": [
       "                       time    mid_o    mid_h    mid_l    mid_c  RANGE  \\\n",
       "1 2018-01-02 02:00:00+00:00  112.720  112.751  112.666  112.688  0.085   \n",
       "2 2018-01-02 06:00:00+00:00  112.691  112.700  112.249  112.252  0.451   \n",
       "3 2018-01-02 10:00:00+00:00  112.254  112.282  112.086  112.124  0.196   \n",
       "4 2018-01-02 14:00:00+00:00  112.122  112.304  112.058  112.285  0.246   \n",
       "5 2018-01-02 18:00:00+00:00  112.288  112.354  112.244  112.291  0.110   \n",
       "\n",
       "   BODY_RANGE    CENTER  BODY_PERC  DIRECTION  ...  DIST_TOP_PERC  \\\n",
       "1       0.032  112.7085   0.376471         -1  ...       0.364706   \n",
       "2       0.439  112.4745   0.973392         -1  ...       0.019956   \n",
       "3       0.130  112.1840   0.663265         -1  ...       0.142857   \n",
       "4       0.163  112.1810   0.662602          1  ...       0.077236   \n",
       "5       0.003  112.2990   0.027273          1  ...       0.572727   \n",
       "\n",
       "   DIST_BOTTOM_PERC  PREV_BODY_RANGE  PREV_BODY_PERC  PREV_DIRECTION  HAMMER  \\\n",
       "1          0.258824            0.057        0.270142             1.0   False   \n",
       "2          0.006652            0.032        0.376471            -1.0   False   \n",
       "3          0.193878            0.439        0.973392            -1.0   False   \n",
       "4          0.260163            0.130        0.663265            -1.0   False   \n",
       "5          0.400000            0.163        0.662602             1.0   False   \n",
       "\n",
       "   SPINNING_TOP   DOJI  MARUBOZU  ENGULFING  \n",
       "1         False  False     False      False  \n",
       "2         False  False      True      False  \n",
       "3         False  False     False      False  \n",
       "4         False  False     False       True  \n",
       "5         False   True     False      False  \n",
       "\n",
       "[5 rows x 22 columns]"
      ],
      "text/html": "<div>\n<style scoped>\n    .dataframe tbody tr th:only-of-type {\n        vertical-align: middle;\n    }\n\n    .dataframe tbody tr th {\n        vertical-align: top;\n    }\n\n    .dataframe thead th {\n        text-align: right;\n    }\n</style>\n<table border=\"1\" class=\"dataframe\">\n  <thead>\n    <tr style=\"text-align: right;\">\n      <th></th>\n      <th>time</th>\n      <th>mid_o</th>\n      <th>mid_h</th>\n      <th>mid_l</th>\n      <th>mid_c</th>\n      <th>RANGE</th>\n      <th>BODY_RANGE</th>\n      <th>CENTER</th>\n      <th>BODY_PERC</th>\n      <th>DIRECTION</th>\n      <th>...</th>\n      <th>DIST_TOP_PERC</th>\n      <th>DIST_BOTTOM_PERC</th>\n      <th>PREV_BODY_RANGE</th>\n      <th>PREV_BODY_PERC</th>\n      <th>PREV_DIRECTION</th>\n      <th>HAMMER</th>\n      <th>SPINNING_TOP</th>\n      <th>DOJI</th>\n      <th>MARUBOZU</th>\n      <th>ENGULFING</th>\n    </tr>\n  </thead>\n  <tbody>\n    <tr>\n      <th>1</th>\n      <td>2018-01-02 02:00:00+00:00</td>\n      <td>112.720</td>\n      <td>112.751</td>\n      <td>112.666</td>\n      <td>112.688</td>\n      <td>0.085</td>\n      <td>0.032</td>\n      <td>112.7085</td>\n      <td>0.376471</td>\n      <td>-1</td>\n      <td>...</td>\n      <td>0.364706</td>\n      <td>0.258824</td>\n      <td>0.057</td>\n      <td>0.270142</td>\n      <td>1.0</td>\n      <td>False</td>\n      <td>False</td>\n      <td>False</td>\n      <td>False</td>\n      <td>False</td>\n    </tr>\n    <tr>\n      <th>2</th>\n      <td>2018-01-02 06:00:00+00:00</td>\n      <td>112.691</td>\n      <td>112.700</td>\n      <td>112.249</td>\n      <td>112.252</td>\n      <td>0.451</td>\n      <td>0.439</td>\n      <td>112.4745</td>\n      <td>0.973392</td>\n      <td>-1</td>\n      <td>...</td>\n      <td>0.019956</td>\n      <td>0.006652</td>\n      <td>0.032</td>\n      <td>0.376471</td>\n      <td>-1.0</td>\n      <td>False</td>\n      <td>False</td>\n      <td>False</td>\n      <td>True</td>\n      <td>False</td>\n    </tr>\n    <tr>\n      <th>3</th>\n      <td>2018-01-02 10:00:00+00:00</td>\n      <td>112.254</td>\n      <td>112.282</td>\n      <td>112.086</td>\n      <td>112.124</td>\n      <td>0.196</td>\n      <td>0.130</td>\n      <td>112.1840</td>\n      <td>0.663265</td>\n      <td>-1</td>\n      <td>...</td>\n      <td>0.142857</td>\n      <td>0.193878</td>\n      <td>0.439</td>\n      <td>0.973392</td>\n      <td>-1.0</td>\n      <td>False</td>\n      <td>False</td>\n      <td>False</td>\n      <td>False</td>\n      <td>False</td>\n    </tr>\n    <tr>\n      <th>4</th>\n      <td>2018-01-02 14:00:00+00:00</td>\n      <td>112.122</td>\n      <td>112.304</td>\n      <td>112.058</td>\n      <td>112.285</td>\n      <td>0.246</td>\n      <td>0.163</td>\n      <td>112.1810</td>\n      <td>0.662602</td>\n      <td>1</td>\n      <td>...</td>\n      <td>0.077236</td>\n      <td>0.260163</td>\n      <td>0.130</td>\n      <td>0.663265</td>\n      <td>-1.0</td>\n      <td>False</td>\n      <td>False</td>\n      <td>False</td>\n      <td>False</td>\n      <td>True</td>\n    </tr>\n    <tr>\n      <th>5</th>\n      <td>2018-01-02 18:00:00+00:00</td>\n      <td>112.288</td>\n      <td>112.354</td>\n      <td>112.244</td>\n      <td>112.291</td>\n      <td>0.110</td>\n      <td>0.003</td>\n      <td>112.2990</td>\n      <td>0.027273</td>\n      <td>1</td>\n      <td>...</td>\n      <td>0.572727</td>\n      <td>0.400000</td>\n      <td>0.163</td>\n      <td>0.662602</td>\n      <td>1.0</td>\n      <td>False</td>\n      <td>False</td>\n      <td>True</td>\n      <td>False</td>\n      <td>False</td>\n    </tr>\n  </tbody>\n</table>\n<p>5 rows × 22 columns</p>\n</div>"
     },
     "metadata": {},
     "execution_count": 23
    }
   ],
   "source": [
    "df.head()"
   ]
  },
  {
   "cell_type": "code",
   "execution_count": 26,
   "metadata": {},
   "outputs": [],
   "source": [
    "df_plot = df.iloc[900:1000]\n",
    "df_markers = df_plot[(df_plot.ENGULFING==True)]"
   ]
  },
  {
   "cell_type": "code",
   "execution_count": 27,
   "metadata": {},
   "outputs": [
    {
     "output_type": "display_data",
     "data": {
      "application/vnd.plotly.v1+json": {
       "config": {
        "plotlyServerURL": "https://plot.ly"
       },
       "data": [
        {
         "close": [
          111.044,
          111.542,
          111.514,
          111.8,
          111.874,
          111.822,
          111.98,
          112.006,
          111.93,
          111.675,
          111.719,
          111.695,
          111.596,
          111.562,
          111.396,
          111.624,
          111.658,
          111.728,
          111.688,
          111.712,
          111.456,
          111.23,
          111.253,
          111.202,
          111.348,
          111.22,
          111.46,
          111.42,
          111.4,
          111.264,
          111.341,
          111.278,
          111.032,
          111.232,
          111.379,
          111.402,
          111.258,
          110.962,
          111.128,
          110.968,
          110.952,
          110.821,
          110.924,
          111.128,
          110.993,
          111.004,
          111.084,
          110.862,
          110.794,
          110.87,
          111.044,
          110.718,
          110.858,
          110.487,
          110.153,
          110.369,
          110.754,
          110.708,
          110.723,
          110.787,
          110.825,
          111.038,
          110.896,
          111.092,
          111.151,
          111.364,
          111.294,
          111.292,
          110.874,
          110.732,
          110.742,
          110.57,
          110.78,
          110.803,
          110.648,
          110.916,
          110.897,
          110.876,
          110.874,
          110.731,
          110.388,
          110.4,
          110.505,
          110.494,
          110.619,
          110.655,
          110.437,
          110.312,
          110.068,
          109.856,
          110.044,
          110.188,
          110.369,
          110.454,
          110.296,
          110.174,
          110.436,
          110.402,
          110.368,
          110.532
         ],
         "decreasing": {
          "fillcolor": "#CC2E3C",
          "line": {
           "color": "#FF3A4C"
          }
         },
         "high": [
          111.438,
          111.562,
          111.592,
          111.958,
          111.886,
          111.9,
          111.988,
          112.152,
          112.036,
          112.01,
          111.749,
          111.731,
          111.716,
          111.738,
          111.592,
          111.649,
          111.723,
          111.784,
          111.751,
          111.866,
          111.738,
          111.453,
          111.288,
          111.272,
          111.37,
          111.359,
          111.528,
          111.502,
          111.462,
          111.43,
          111.368,
          111.37,
          111.3,
          111.267,
          111.478,
          111.437,
          111.419,
          111.287,
          111.192,
          111.144,
          111.004,
          111.024,
          110.936,
          111.172,
          111.185,
          111.03,
          111.13,
          111.171,
          111.031,
          111.143,
          111.107,
          111.119,
          111.036,
          110.752,
          110.504,
          110.388,
          110.792,
          110.94,
          110.778,
          110.832,
          110.898,
          111.154,
          111.05,
          111.113,
          111.314,
          111.378,
          111.432,
          111.374,
          111.336,
          110.926,
          110.775,
          110.738,
          110.93,
          110.906,
          110.92,
          111.124,
          110.934,
          111.052,
          110.901,
          110.9,
          110.739,
          110.593,
          110.663,
          110.598,
          110.646,
          110.684,
          110.682,
          110.508,
          110.344,
          110.098,
          110.148,
          110.218,
          110.445,
          110.547,
          110.513,
          110.296,
          110.5,
          110.498,
          110.451,
          110.618
         ],
         "increasing": {
          "fillcolor": "#24A06B",
          "line": {
           "color": "#2EC886"
          }
         },
         "line": {
          "width": 1
         },
         "low": [
          110.748,
          111.04,
          111.411,
          111.5,
          111.715,
          111.706,
          111.742,
          111.908,
          111.804,
          111.636,
          111.391,
          111.598,
          111.522,
          111.54,
          111.319,
          111.338,
          111.596,
          111.616,
          111.632,
          111.644,
          111.372,
          111.101,
          111.2,
          111.157,
          111.168,
          111.202,
          111.222,
          111.338,
          111.377,
          111.234,
          111.251,
          111.246,
          110.994,
          111.032,
          111.21,
          111.302,
          111.246,
          110.838,
          110.891,
          110.91,
          110.898,
          110.778,
          110.71,
          110.916,
          110.977,
          110.855,
          110.954,
          110.849,
          110.679,
          110.611,
          110.812,
          110.511,
          110.588,
          110.45,
          110.112,
          110.148,
          110.308,
          110.614,
          110.606,
          110.589,
          110.7,
          110.798,
          110.78,
          110.756,
          111.092,
          111.134,
          111.171,
          111.218,
          110.864,
          110.433,
          110.528,
          110.478,
          110.462,
          110.68,
          110.592,
          110.559,
          110.85,
          110.822,
          110.812,
          110.68,
          110.346,
          110.316,
          110.33,
          110.414,
          110.463,
          110.546,
          110.43,
          110.264,
          110.02,
          109.784,
          109.774,
          110.014,
          110.165,
          110.306,
          110.159,
          110.028,
          110.147,
          110.324,
          110.205,
          110.316
         ],
         "opacity": 1,
         "open": [
          110.956,
          111.046,
          111.539,
          111.512,
          111.803,
          111.84,
          111.818,
          111.978,
          112.008,
          111.926,
          111.678,
          111.724,
          111.697,
          111.594,
          111.564,
          111.398,
          111.622,
          111.65,
          111.73,
          111.686,
          111.714,
          111.453,
          111.233,
          111.23,
          111.2,
          111.35,
          111.223,
          111.462,
          111.418,
          111.406,
          111.261,
          111.339,
          111.276,
          111.035,
          111.23,
          111.376,
          111.404,
          111.26,
          110.964,
          111.124,
          110.971,
          111.024,
          110.818,
          110.926,
          111.126,
          110.995,
          111.001,
          111.09,
          110.864,
          110.79,
          110.872,
          111.042,
          110.715,
          110.468,
          110.489,
          110.155,
          110.371,
          110.752,
          110.706,
          110.687,
          110.79,
          110.827,
          111.036,
          110.893,
          111.096,
          111.146,
          111.362,
          111.292,
          111.289,
          110.872,
          110.73,
          110.716,
          110.568,
          110.782,
          110.8,
          110.65,
          110.918,
          110.892,
          110.874,
          110.872,
          110.728,
          110.39,
          110.398,
          110.598,
          110.496,
          110.617,
          110.652,
          110.434,
          110.314,
          110.068,
          109.853,
          110.046,
          110.186,
          110.372,
          110.457,
          110.245,
          110.171,
          110.439,
          110.399,
          110.37
         ],
         "type": "candlestick",
         "x": [
          "2018-07-31T01:00:00+00:00",
          "2018-07-31T05:00:00+00:00",
          "2018-07-31T09:00:00+00:00",
          "2018-07-31T13:00:00+00:00",
          "2018-07-31T17:00:00+00:00",
          "2018-07-31T21:00:00+00:00",
          "2018-08-01T01:00:00+00:00",
          "2018-08-01T05:00:00+00:00",
          "2018-08-01T09:00:00+00:00",
          "2018-08-01T13:00:00+00:00",
          "2018-08-01T17:00:00+00:00",
          "2018-08-01T21:00:00+00:00",
          "2018-08-02T01:00:00+00:00",
          "2018-08-02T05:00:00+00:00",
          "2018-08-02T09:00:00+00:00",
          "2018-08-02T13:00:00+00:00",
          "2018-08-02T17:00:00+00:00",
          "2018-08-02T21:00:00+00:00",
          "2018-08-03T01:00:00+00:00",
          "2018-08-03T05:00:00+00:00",
          "2018-08-03T09:00:00+00:00",
          "2018-08-03T13:00:00+00:00",
          "2018-08-03T17:00:00+00:00",
          "2018-08-05T21:00:00+00:00",
          "2018-08-06T01:00:00+00:00",
          "2018-08-06T05:00:00+00:00",
          "2018-08-06T09:00:00+00:00",
          "2018-08-06T13:00:00+00:00",
          "2018-08-06T17:00:00+00:00",
          "2018-08-06T21:00:00+00:00",
          "2018-08-07T01:00:00+00:00",
          "2018-08-07T05:00:00+00:00",
          "2018-08-07T09:00:00+00:00",
          "2018-08-07T13:00:00+00:00",
          "2018-08-07T17:00:00+00:00",
          "2018-08-07T21:00:00+00:00",
          "2018-08-08T01:00:00+00:00",
          "2018-08-08T05:00:00+00:00",
          "2018-08-08T09:00:00+00:00",
          "2018-08-08T13:00:00+00:00",
          "2018-08-08T17:00:00+00:00",
          "2018-08-08T21:00:00+00:00",
          "2018-08-09T01:00:00+00:00",
          "2018-08-09T05:00:00+00:00",
          "2018-08-09T09:00:00+00:00",
          "2018-08-09T13:00:00+00:00",
          "2018-08-09T17:00:00+00:00",
          "2018-08-09T21:00:00+00:00",
          "2018-08-10T01:00:00+00:00",
          "2018-08-10T05:00:00+00:00",
          "2018-08-10T09:00:00+00:00",
          "2018-08-10T13:00:00+00:00",
          "2018-08-10T17:00:00+00:00",
          "2018-08-12T21:00:00+00:00",
          "2018-08-13T01:00:00+00:00",
          "2018-08-13T05:00:00+00:00",
          "2018-08-13T09:00:00+00:00",
          "2018-08-13T13:00:00+00:00",
          "2018-08-13T17:00:00+00:00",
          "2018-08-13T21:00:00+00:00",
          "2018-08-14T01:00:00+00:00",
          "2018-08-14T05:00:00+00:00",
          "2018-08-14T09:00:00+00:00",
          "2018-08-14T13:00:00+00:00",
          "2018-08-14T17:00:00+00:00",
          "2018-08-14T21:00:00+00:00",
          "2018-08-15T01:00:00+00:00",
          "2018-08-15T05:00:00+00:00",
          "2018-08-15T09:00:00+00:00",
          "2018-08-15T13:00:00+00:00",
          "2018-08-15T17:00:00+00:00",
          "2018-08-15T21:00:00+00:00",
          "2018-08-16T01:00:00+00:00",
          "2018-08-16T05:00:00+00:00",
          "2018-08-16T09:00:00+00:00",
          "2018-08-16T13:00:00+00:00",
          "2018-08-16T17:00:00+00:00",
          "2018-08-16T21:00:00+00:00",
          "2018-08-17T01:00:00+00:00",
          "2018-08-17T05:00:00+00:00",
          "2018-08-17T09:00:00+00:00",
          "2018-08-17T13:00:00+00:00",
          "2018-08-17T17:00:00+00:00",
          "2018-08-19T21:00:00+00:00",
          "2018-08-20T01:00:00+00:00",
          "2018-08-20T05:00:00+00:00",
          "2018-08-20T09:00:00+00:00",
          "2018-08-20T13:00:00+00:00",
          "2018-08-20T17:00:00+00:00",
          "2018-08-20T21:00:00+00:00",
          "2018-08-21T01:00:00+00:00",
          "2018-08-21T05:00:00+00:00",
          "2018-08-21T09:00:00+00:00",
          "2018-08-21T13:00:00+00:00",
          "2018-08-21T17:00:00+00:00",
          "2018-08-21T21:00:00+00:00",
          "2018-08-22T01:00:00+00:00",
          "2018-08-22T05:00:00+00:00",
          "2018-08-22T09:00:00+00:00",
          "2018-08-22T13:00:00+00:00"
         ]
        },
        {
         "close": [
          111.624,
          111.46
         ],
         "decreasing": {
          "fillcolor": "#3480eb",
          "line": {
           "color": "#3480eb"
          }
         },
         "high": [
          111.649,
          111.528
         ],
         "increasing": {
          "fillcolor": "#3480eb",
          "line": {
           "color": "#3480eb"
          }
         },
         "line": {
          "width": 1
         },
         "low": [
          111.338,
          111.222
         ],
         "opacity": 1,
         "open": [
          111.398,
          111.223
         ],
         "type": "candlestick",
         "x": [
          "2018-08-02T13:00:00+00:00",
          "2018-08-06T09:00:00+00:00"
         ]
        }
       ],
       "layout": {
        "font": {
         "color": "#e1e1e1",
         "size": 10
        },
        "height": 400,
        "margin": {
         "b": 10,
         "l": 10,
         "r": 10,
         "t": 10
        },
        "paper_bgcolor": "#1e1e1e",
        "plot_bgcolor": "#1e1e1e",
        "template": {
         "data": {
          "bar": [
           {
            "error_x": {
             "color": "#2a3f5f"
            },
            "error_y": {
             "color": "#2a3f5f"
            },
            "marker": {
             "line": {
              "color": "#E5ECF6",
              "width": 0.5
             }
            },
            "type": "bar"
           }
          ],
          "barpolar": [
           {
            "marker": {
             "line": {
              "color": "#E5ECF6",
              "width": 0.5
             }
            },
            "type": "barpolar"
           }
          ],
          "carpet": [
           {
            "aaxis": {
             "endlinecolor": "#2a3f5f",
             "gridcolor": "white",
             "linecolor": "white",
             "minorgridcolor": "white",
             "startlinecolor": "#2a3f5f"
            },
            "baxis": {
             "endlinecolor": "#2a3f5f",
             "gridcolor": "white",
             "linecolor": "white",
             "minorgridcolor": "white",
             "startlinecolor": "#2a3f5f"
            },
            "type": "carpet"
           }
          ],
          "choropleth": [
           {
            "colorbar": {
             "outlinewidth": 0,
             "ticks": ""
            },
            "type": "choropleth"
           }
          ],
          "contour": [
           {
            "colorbar": {
             "outlinewidth": 0,
             "ticks": ""
            },
            "colorscale": [
             [
              0,
              "#0d0887"
             ],
             [
              0.1111111111111111,
              "#46039f"
             ],
             [
              0.2222222222222222,
              "#7201a8"
             ],
             [
              0.3333333333333333,
              "#9c179e"
             ],
             [
              0.4444444444444444,
              "#bd3786"
             ],
             [
              0.5555555555555556,
              "#d8576b"
             ],
             [
              0.6666666666666666,
              "#ed7953"
             ],
             [
              0.7777777777777778,
              "#fb9f3a"
             ],
             [
              0.8888888888888888,
              "#fdca26"
             ],
             [
              1,
              "#f0f921"
             ]
            ],
            "type": "contour"
           }
          ],
          "contourcarpet": [
           {
            "colorbar": {
             "outlinewidth": 0,
             "ticks": ""
            },
            "type": "contourcarpet"
           }
          ],
          "heatmap": [
           {
            "colorbar": {
             "outlinewidth": 0,
             "ticks": ""
            },
            "colorscale": [
             [
              0,
              "#0d0887"
             ],
             [
              0.1111111111111111,
              "#46039f"
             ],
             [
              0.2222222222222222,
              "#7201a8"
             ],
             [
              0.3333333333333333,
              "#9c179e"
             ],
             [
              0.4444444444444444,
              "#bd3786"
             ],
             [
              0.5555555555555556,
              "#d8576b"
             ],
             [
              0.6666666666666666,
              "#ed7953"
             ],
             [
              0.7777777777777778,
              "#fb9f3a"
             ],
             [
              0.8888888888888888,
              "#fdca26"
             ],
             [
              1,
              "#f0f921"
             ]
            ],
            "type": "heatmap"
           }
          ],
          "heatmapgl": [
           {
            "colorbar": {
             "outlinewidth": 0,
             "ticks": ""
            },
            "colorscale": [
             [
              0,
              "#0d0887"
             ],
             [
              0.1111111111111111,
              "#46039f"
             ],
             [
              0.2222222222222222,
              "#7201a8"
             ],
             [
              0.3333333333333333,
              "#9c179e"
             ],
             [
              0.4444444444444444,
              "#bd3786"
             ],
             [
              0.5555555555555556,
              "#d8576b"
             ],
             [
              0.6666666666666666,
              "#ed7953"
             ],
             [
              0.7777777777777778,
              "#fb9f3a"
             ],
             [
              0.8888888888888888,
              "#fdca26"
             ],
             [
              1,
              "#f0f921"
             ]
            ],
            "type": "heatmapgl"
           }
          ],
          "histogram": [
           {
            "marker": {
             "colorbar": {
              "outlinewidth": 0,
              "ticks": ""
             }
            },
            "type": "histogram"
           }
          ],
          "histogram2d": [
           {
            "colorbar": {
             "outlinewidth": 0,
             "ticks": ""
            },
            "colorscale": [
             [
              0,
              "#0d0887"
             ],
             [
              0.1111111111111111,
              "#46039f"
             ],
             [
              0.2222222222222222,
              "#7201a8"
             ],
             [
              0.3333333333333333,
              "#9c179e"
             ],
             [
              0.4444444444444444,
              "#bd3786"
             ],
             [
              0.5555555555555556,
              "#d8576b"
             ],
             [
              0.6666666666666666,
              "#ed7953"
             ],
             [
              0.7777777777777778,
              "#fb9f3a"
             ],
             [
              0.8888888888888888,
              "#fdca26"
             ],
             [
              1,
              "#f0f921"
             ]
            ],
            "type": "histogram2d"
           }
          ],
          "histogram2dcontour": [
           {
            "colorbar": {
             "outlinewidth": 0,
             "ticks": ""
            },
            "colorscale": [
             [
              0,
              "#0d0887"
             ],
             [
              0.1111111111111111,
              "#46039f"
             ],
             [
              0.2222222222222222,
              "#7201a8"
             ],
             [
              0.3333333333333333,
              "#9c179e"
             ],
             [
              0.4444444444444444,
              "#bd3786"
             ],
             [
              0.5555555555555556,
              "#d8576b"
             ],
             [
              0.6666666666666666,
              "#ed7953"
             ],
             [
              0.7777777777777778,
              "#fb9f3a"
             ],
             [
              0.8888888888888888,
              "#fdca26"
             ],
             [
              1,
              "#f0f921"
             ]
            ],
            "type": "histogram2dcontour"
           }
          ],
          "mesh3d": [
           {
            "colorbar": {
             "outlinewidth": 0,
             "ticks": ""
            },
            "type": "mesh3d"
           }
          ],
          "parcoords": [
           {
            "line": {
             "colorbar": {
              "outlinewidth": 0,
              "ticks": ""
             }
            },
            "type": "parcoords"
           }
          ],
          "pie": [
           {
            "automargin": true,
            "type": "pie"
           }
          ],
          "scatter": [
           {
            "marker": {
             "colorbar": {
              "outlinewidth": 0,
              "ticks": ""
             }
            },
            "type": "scatter"
           }
          ],
          "scatter3d": [
           {
            "line": {
             "colorbar": {
              "outlinewidth": 0,
              "ticks": ""
             }
            },
            "marker": {
             "colorbar": {
              "outlinewidth": 0,
              "ticks": ""
             }
            },
            "type": "scatter3d"
           }
          ],
          "scattercarpet": [
           {
            "marker": {
             "colorbar": {
              "outlinewidth": 0,
              "ticks": ""
             }
            },
            "type": "scattercarpet"
           }
          ],
          "scattergeo": [
           {
            "marker": {
             "colorbar": {
              "outlinewidth": 0,
              "ticks": ""
             }
            },
            "type": "scattergeo"
           }
          ],
          "scattergl": [
           {
            "marker": {
             "colorbar": {
              "outlinewidth": 0,
              "ticks": ""
             }
            },
            "type": "scattergl"
           }
          ],
          "scattermapbox": [
           {
            "marker": {
             "colorbar": {
              "outlinewidth": 0,
              "ticks": ""
             }
            },
            "type": "scattermapbox"
           }
          ],
          "scatterpolar": [
           {
            "marker": {
             "colorbar": {
              "outlinewidth": 0,
              "ticks": ""
             }
            },
            "type": "scatterpolar"
           }
          ],
          "scatterpolargl": [
           {
            "marker": {
             "colorbar": {
              "outlinewidth": 0,
              "ticks": ""
             }
            },
            "type": "scatterpolargl"
           }
          ],
          "scatterternary": [
           {
            "marker": {
             "colorbar": {
              "outlinewidth": 0,
              "ticks": ""
             }
            },
            "type": "scatterternary"
           }
          ],
          "surface": [
           {
            "colorbar": {
             "outlinewidth": 0,
             "ticks": ""
            },
            "colorscale": [
             [
              0,
              "#0d0887"
             ],
             [
              0.1111111111111111,
              "#46039f"
             ],
             [
              0.2222222222222222,
              "#7201a8"
             ],
             [
              0.3333333333333333,
              "#9c179e"
             ],
             [
              0.4444444444444444,
              "#bd3786"
             ],
             [
              0.5555555555555556,
              "#d8576b"
             ],
             [
              0.6666666666666666,
              "#ed7953"
             ],
             [
              0.7777777777777778,
              "#fb9f3a"
             ],
             [
              0.8888888888888888,
              "#fdca26"
             ],
             [
              1,
              "#f0f921"
             ]
            ],
            "type": "surface"
           }
          ],
          "table": [
           {
            "cells": {
             "fill": {
              "color": "#EBF0F8"
             },
             "line": {
              "color": "white"
             }
            },
            "header": {
             "fill": {
              "color": "#C8D4E3"
             },
             "line": {
              "color": "white"
             }
            },
            "type": "table"
           }
          ]
         },
         "layout": {
          "annotationdefaults": {
           "arrowcolor": "#2a3f5f",
           "arrowhead": 0,
           "arrowwidth": 1
          },
          "autotypenumbers": "strict",
          "coloraxis": {
           "colorbar": {
            "outlinewidth": 0,
            "ticks": ""
           }
          },
          "colorscale": {
           "diverging": [
            [
             0,
             "#8e0152"
            ],
            [
             0.1,
             "#c51b7d"
            ],
            [
             0.2,
             "#de77ae"
            ],
            [
             0.3,
             "#f1b6da"
            ],
            [
             0.4,
             "#fde0ef"
            ],
            [
             0.5,
             "#f7f7f7"
            ],
            [
             0.6,
             "#e6f5d0"
            ],
            [
             0.7,
             "#b8e186"
            ],
            [
             0.8,
             "#7fbc41"
            ],
            [
             0.9,
             "#4d9221"
            ],
            [
             1,
             "#276419"
            ]
           ],
           "sequential": [
            [
             0,
             "#0d0887"
            ],
            [
             0.1111111111111111,
             "#46039f"
            ],
            [
             0.2222222222222222,
             "#7201a8"
            ],
            [
             0.3333333333333333,
             "#9c179e"
            ],
            [
             0.4444444444444444,
             "#bd3786"
            ],
            [
             0.5555555555555556,
             "#d8576b"
            ],
            [
             0.6666666666666666,
             "#ed7953"
            ],
            [
             0.7777777777777778,
             "#fb9f3a"
            ],
            [
             0.8888888888888888,
             "#fdca26"
            ],
            [
             1,
             "#f0f921"
            ]
           ],
           "sequentialminus": [
            [
             0,
             "#0d0887"
            ],
            [
             0.1111111111111111,
             "#46039f"
            ],
            [
             0.2222222222222222,
             "#7201a8"
            ],
            [
             0.3333333333333333,
             "#9c179e"
            ],
            [
             0.4444444444444444,
             "#bd3786"
            ],
            [
             0.5555555555555556,
             "#d8576b"
            ],
            [
             0.6666666666666666,
             "#ed7953"
            ],
            [
             0.7777777777777778,
             "#fb9f3a"
            ],
            [
             0.8888888888888888,
             "#fdca26"
            ],
            [
             1,
             "#f0f921"
            ]
           ]
          },
          "colorway": [
           "#636efa",
           "#EF553B",
           "#00cc96",
           "#ab63fa",
           "#FFA15A",
           "#19d3f3",
           "#FF6692",
           "#B6E880",
           "#FF97FF",
           "#FECB52"
          ],
          "font": {
           "color": "#2a3f5f"
          },
          "geo": {
           "bgcolor": "white",
           "lakecolor": "white",
           "landcolor": "#E5ECF6",
           "showlakes": true,
           "showland": true,
           "subunitcolor": "white"
          },
          "hoverlabel": {
           "align": "left"
          },
          "hovermode": "closest",
          "mapbox": {
           "style": "light"
          },
          "paper_bgcolor": "white",
          "plot_bgcolor": "#E5ECF6",
          "polar": {
           "angularaxis": {
            "gridcolor": "white",
            "linecolor": "white",
            "ticks": ""
           },
           "bgcolor": "#E5ECF6",
           "radialaxis": {
            "gridcolor": "white",
            "linecolor": "white",
            "ticks": ""
           }
          },
          "scene": {
           "xaxis": {
            "backgroundcolor": "#E5ECF6",
            "gridcolor": "white",
            "gridwidth": 2,
            "linecolor": "white",
            "showbackground": true,
            "ticks": "",
            "zerolinecolor": "white"
           },
           "yaxis": {
            "backgroundcolor": "#E5ECF6",
            "gridcolor": "white",
            "gridwidth": 2,
            "linecolor": "white",
            "showbackground": true,
            "ticks": "",
            "zerolinecolor": "white"
           },
           "zaxis": {
            "backgroundcolor": "#E5ECF6",
            "gridcolor": "white",
            "gridwidth": 2,
            "linecolor": "white",
            "showbackground": true,
            "ticks": "",
            "zerolinecolor": "white"
           }
          },
          "shapedefaults": {
           "line": {
            "color": "#2a3f5f"
           }
          },
          "ternary": {
           "aaxis": {
            "gridcolor": "white",
            "linecolor": "white",
            "ticks": ""
           },
           "baxis": {
            "gridcolor": "white",
            "linecolor": "white",
            "ticks": ""
           },
           "bgcolor": "#E5ECF6",
           "caxis": {
            "gridcolor": "white",
            "linecolor": "white",
            "ticks": ""
           }
          },
          "title": {
           "x": 0.05
          },
          "xaxis": {
           "automargin": true,
           "gridcolor": "white",
           "linecolor": "white",
           "ticks": "",
           "title": {
            "standoff": 15
           },
           "zerolinecolor": "white",
           "zerolinewidth": 2
          },
          "yaxis": {
           "automargin": true,
           "gridcolor": "white",
           "linecolor": "white",
           "ticks": "",
           "title": {
            "standoff": 15
           },
           "zerolinecolor": "white",
           "zerolinewidth": 2
          }
         }
        },
        "width": 1000,
        "xaxis": {
         "fixedrange": true,
         "gridcolor": "#1f292f",
         "rangebreaks": [
          {
           "bounds": [
            "sat",
            "mon"
           ]
          }
         ],
         "rangeslider": {
          "visible": false
         },
         "showgrid": true
        },
        "yaxis": {
         "gridcolor": "#1f292f",
         "showgrid": true
        }
       }
      }
     },
     "metadata": {}
    }
   ],
   "source": [
    "plot_candles(df_plot, df_markers)"
   ]
  },
  {
   "cell_type": "code",
   "execution_count": null,
   "metadata": {},
   "outputs": [],
   "source": []
  },
  {
   "cell_type": "code",
   "execution_count": null,
   "metadata": {},
   "outputs": [],
   "source": []
  }
 ]
}