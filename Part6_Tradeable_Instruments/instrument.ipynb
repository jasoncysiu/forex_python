{
 "metadata": {
  "language_info": {
   "codemirror_mode": {
    "name": "ipython",
    "version": 3
   },
   "file_extension": ".py",
   "mimetype": "text/x-python",
   "name": "python",
   "nbconvert_exporter": "python",
   "pygments_lexer": "ipython3",
   "version": "3.9.6"
  },
  "orig_nbformat": 2,
  "kernelspec": {
   "name": "python3",
   "display_name": "Python 3.9.6 64-bit ('venv': venv)"
  },
  "interpreter": {
   "hash": "35325e08d36118397aed80a4e9ebc9d9adf6a0c7dfaf4180f6a17ddcfd3c02b1"
  }
 },
 "nbformat": 4,
 "nbformat_minor": 2,
 "cells": [
  {
   "cell_type": "code",
   "execution_count": 1,
   "source": [
    "import requests\r\n",
    "import defs\r\n",
    "import pandas as pd"
   ],
   "outputs": [],
   "metadata": {}
  },
  {
   "cell_type": "code",
   "execution_count": 2,
   "source": [
    "session = requests.Session()"
   ],
   "outputs": [],
   "metadata": {}
  },
  {
   "cell_type": "code",
   "execution_count": 3,
   "source": [
    "url = f\"{defs.OANDA_URL}/accounts/{defs.ACCOUNT_ID}/instruments\""
   ],
   "outputs": [],
   "metadata": {}
  },
  {
   "cell_type": "code",
   "execution_count": 4,
   "source": [
    "url"
   ],
   "outputs": [
    {
     "output_type": "execute_result",
     "data": {
      "text/plain": [
       "'https://api-fxpractice.oanda.com/v3/accounts/101-011-20161521-001/instruments'"
      ]
     },
     "metadata": {},
     "execution_count": 4
    }
   ],
   "metadata": {}
  },
  {
   "cell_type": "code",
   "execution_count": 5,
   "source": [
    "response = session.get(url, params=None, headers=defs.SECURE_HEADER)"
   ],
   "outputs": [],
   "metadata": {}
  },
  {
   "cell_type": "code",
   "execution_count": 6,
   "source": [
    "response.status_code"
   ],
   "outputs": [
    {
     "output_type": "execute_result",
     "data": {
      "text/plain": [
       "200"
      ]
     },
     "metadata": {},
     "execution_count": 6
    }
   ],
   "metadata": {}
  },
  {
   "cell_type": "code",
   "execution_count": 7,
   "source": [
    "data = response.json()"
   ],
   "outputs": [],
   "metadata": {}
  },
  {
   "cell_type": "code",
   "execution_count": 8,
   "source": [
    "data.keys()"
   ],
   "outputs": [
    {
     "output_type": "execute_result",
     "data": {
      "text/plain": [
       "dict_keys(['instruments', 'lastTransactionID'])"
      ]
     },
     "metadata": {},
     "execution_count": 8
    }
   ],
   "metadata": {}
  },
  {
   "cell_type": "code",
   "execution_count": 9,
   "source": [
    "#get the list of instruments\r\n",
    "instruments = data['instruments']"
   ],
   "outputs": [],
   "metadata": {}
  },
  {
   "cell_type": "code",
   "execution_count": 10,
   "source": [
    "instruments[0].keys()"
   ],
   "outputs": [
    {
     "output_type": "execute_result",
     "data": {
      "text/plain": [
       "dict_keys(['name', 'type', 'displayName', 'pipLocation', 'displayPrecision', 'tradeUnitsPrecision', 'minimumTradeSize', 'maximumTrailingStopDistance', 'minimumTrailingStopDistance', 'maximumPositionSize', 'maximumOrderUnits', 'marginRate', 'guaranteedStopLossOrderMode', 'tags', 'financing'])"
      ]
     },
     "metadata": {},
     "execution_count": 10
    }
   ],
   "metadata": {}
  },
  {
   "cell_type": "code",
   "execution_count": 11,
   "source": [
    "#get all the position of instruments\r\n",
    "instrument_data = []\r\n",
    "for item in instruments:\r\n",
    "    new_ob = dict(\r\n",
    "        name = item['name'],\r\n",
    "        type = item['type'],\r\n",
    "        displayName = item['displayName'],\r\n",
    "        pipLocation = item['pipLocation'],\r\n",
    "        marginRate = item['marginRate']\r\n",
    "    )\r\n",
    "    instrument_data.append(new_ob)"
   ],
   "outputs": [],
   "metadata": {}
  },
  {
   "cell_type": "code",
   "execution_count": 12,
   "source": [
    "for item in instrument_data[:3]:\r\n",
    "    print(item)"
   ],
   "outputs": [
    {
     "output_type": "stream",
     "name": "stdout",
     "text": [
      "{'name': 'USB05Y_USD', 'type': 'CFD', 'displayName': 'US 5Y T-Note', 'pipLocation': -2, 'marginRate': '0.2'}\n",
      "{'name': 'ZAR_JPY', 'type': 'CURRENCY', 'displayName': 'ZAR/JPY', 'pipLocation': -2, 'marginRate': '0.05'}\n",
      "{'name': 'HK33_HKD', 'type': 'CFD', 'displayName': 'Hong Kong 33', 'pipLocation': 0, 'marginRate': '0.1'}\n"
     ]
    }
   ],
   "metadata": {}
  },
  {
   "cell_type": "code",
   "execution_count": 13,
   "source": [
    "instrument_df = pd.DataFrame.from_dict(instrument_data)"
   ],
   "outputs": [],
   "metadata": {}
  },
  {
   "cell_type": "code",
   "execution_count": 14,
   "source": [
    "instrument_df"
   ],
   "outputs": [
    {
     "output_type": "execute_result",
     "data": {
      "text/plain": [
       "           name      type   displayName  pipLocation marginRate\n",
       "0    USB05Y_USD       CFD  US 5Y T-Note           -2        0.2\n",
       "1       ZAR_JPY  CURRENCY       ZAR/JPY           -2       0.05\n",
       "2      HK33_HKD       CFD  Hong Kong 33            0        0.1\n",
       "3       EUR_HUF  CURRENCY       EUR/HUF           -2       0.05\n",
       "4      FR40_EUR       CFD     France 40            0       0.05\n",
       "..          ...       ...           ...          ...        ...\n",
       "119    DE30_EUR       CFD    Germany 30            0       0.05\n",
       "120     EUR_NOK  CURRENCY       EUR/NOK           -4       0.05\n",
       "121     XAU_EUR     METAL      Gold/EUR           -2       0.05\n",
       "122     XPT_USD     METAL      Platinum           -2        0.1\n",
       "123     XAU_USD     METAL          Gold           -2       0.05\n",
       "\n",
       "[124 rows x 5 columns]"
      ],
      "text/html": [
       "<div>\n",
       "<style scoped>\n",
       "    .dataframe tbody tr th:only-of-type {\n",
       "        vertical-align: middle;\n",
       "    }\n",
       "\n",
       "    .dataframe tbody tr th {\n",
       "        vertical-align: top;\n",
       "    }\n",
       "\n",
       "    .dataframe thead th {\n",
       "        text-align: right;\n",
       "    }\n",
       "</style>\n",
       "<table border=\"1\" class=\"dataframe\">\n",
       "  <thead>\n",
       "    <tr style=\"text-align: right;\">\n",
       "      <th></th>\n",
       "      <th>name</th>\n",
       "      <th>type</th>\n",
       "      <th>displayName</th>\n",
       "      <th>pipLocation</th>\n",
       "      <th>marginRate</th>\n",
       "    </tr>\n",
       "  </thead>\n",
       "  <tbody>\n",
       "    <tr>\n",
       "      <th>0</th>\n",
       "      <td>USB05Y_USD</td>\n",
       "      <td>CFD</td>\n",
       "      <td>US 5Y T-Note</td>\n",
       "      <td>-2</td>\n",
       "      <td>0.2</td>\n",
       "    </tr>\n",
       "    <tr>\n",
       "      <th>1</th>\n",
       "      <td>ZAR_JPY</td>\n",
       "      <td>CURRENCY</td>\n",
       "      <td>ZAR/JPY</td>\n",
       "      <td>-2</td>\n",
       "      <td>0.05</td>\n",
       "    </tr>\n",
       "    <tr>\n",
       "      <th>2</th>\n",
       "      <td>HK33_HKD</td>\n",
       "      <td>CFD</td>\n",
       "      <td>Hong Kong 33</td>\n",
       "      <td>0</td>\n",
       "      <td>0.1</td>\n",
       "    </tr>\n",
       "    <tr>\n",
       "      <th>3</th>\n",
       "      <td>EUR_HUF</td>\n",
       "      <td>CURRENCY</td>\n",
       "      <td>EUR/HUF</td>\n",
       "      <td>-2</td>\n",
       "      <td>0.05</td>\n",
       "    </tr>\n",
       "    <tr>\n",
       "      <th>4</th>\n",
       "      <td>FR40_EUR</td>\n",
       "      <td>CFD</td>\n",
       "      <td>France 40</td>\n",
       "      <td>0</td>\n",
       "      <td>0.05</td>\n",
       "    </tr>\n",
       "    <tr>\n",
       "      <th>...</th>\n",
       "      <td>...</td>\n",
       "      <td>...</td>\n",
       "      <td>...</td>\n",
       "      <td>...</td>\n",
       "      <td>...</td>\n",
       "    </tr>\n",
       "    <tr>\n",
       "      <th>119</th>\n",
       "      <td>DE30_EUR</td>\n",
       "      <td>CFD</td>\n",
       "      <td>Germany 30</td>\n",
       "      <td>0</td>\n",
       "      <td>0.05</td>\n",
       "    </tr>\n",
       "    <tr>\n",
       "      <th>120</th>\n",
       "      <td>EUR_NOK</td>\n",
       "      <td>CURRENCY</td>\n",
       "      <td>EUR/NOK</td>\n",
       "      <td>-4</td>\n",
       "      <td>0.05</td>\n",
       "    </tr>\n",
       "    <tr>\n",
       "      <th>121</th>\n",
       "      <td>XAU_EUR</td>\n",
       "      <td>METAL</td>\n",
       "      <td>Gold/EUR</td>\n",
       "      <td>-2</td>\n",
       "      <td>0.05</td>\n",
       "    </tr>\n",
       "    <tr>\n",
       "      <th>122</th>\n",
       "      <td>XPT_USD</td>\n",
       "      <td>METAL</td>\n",
       "      <td>Platinum</td>\n",
       "      <td>-2</td>\n",
       "      <td>0.1</td>\n",
       "    </tr>\n",
       "    <tr>\n",
       "      <th>123</th>\n",
       "      <td>XAU_USD</td>\n",
       "      <td>METAL</td>\n",
       "      <td>Gold</td>\n",
       "      <td>-2</td>\n",
       "      <td>0.05</td>\n",
       "    </tr>\n",
       "  </tbody>\n",
       "</table>\n",
       "<p>124 rows × 5 columns</p>\n",
       "</div>"
      ]
     },
     "metadata": {},
     "execution_count": 14
    }
   ],
   "metadata": {}
  },
  {
   "cell_type": "code",
   "execution_count": 15,
   "source": [
    "#what is pickle?\r\n",
    "#>> it is a binary-zip format file; that is provided by Pandas.\r\n",
    "# smaller size of saving than csv\r\n",
    "instrument_df.to_pickle(\"instruments.pkl\")"
   ],
   "outputs": [],
   "metadata": {}
  },
  {
   "cell_type": "code",
   "execution_count": 16,
   "source": [
    "new_table = pd.read_pickle(\"instruments.pkl\")"
   ],
   "outputs": [],
   "metadata": {}
  },
  {
   "cell_type": "code",
   "execution_count": 17,
   "source": [
    "new_table"
   ],
   "outputs": [
    {
     "output_type": "execute_result",
     "data": {
      "text/plain": [
       "           name      type   displayName  pipLocation marginRate\n",
       "0    USB05Y_USD       CFD  US 5Y T-Note           -2        0.2\n",
       "1       ZAR_JPY  CURRENCY       ZAR/JPY           -2       0.05\n",
       "2      HK33_HKD       CFD  Hong Kong 33            0        0.1\n",
       "3       EUR_HUF  CURRENCY       EUR/HUF           -2       0.05\n",
       "4      FR40_EUR       CFD     France 40            0       0.05\n",
       "..          ...       ...           ...          ...        ...\n",
       "119    DE30_EUR       CFD    Germany 30            0       0.05\n",
       "120     EUR_NOK  CURRENCY       EUR/NOK           -4       0.05\n",
       "121     XAU_EUR     METAL      Gold/EUR           -2       0.05\n",
       "122     XPT_USD     METAL      Platinum           -2        0.1\n",
       "123     XAU_USD     METAL          Gold           -2       0.05\n",
       "\n",
       "[124 rows x 5 columns]"
      ],
      "text/html": [
       "<div>\n",
       "<style scoped>\n",
       "    .dataframe tbody tr th:only-of-type {\n",
       "        vertical-align: middle;\n",
       "    }\n",
       "\n",
       "    .dataframe tbody tr th {\n",
       "        vertical-align: top;\n",
       "    }\n",
       "\n",
       "    .dataframe thead th {\n",
       "        text-align: right;\n",
       "    }\n",
       "</style>\n",
       "<table border=\"1\" class=\"dataframe\">\n",
       "  <thead>\n",
       "    <tr style=\"text-align: right;\">\n",
       "      <th></th>\n",
       "      <th>name</th>\n",
       "      <th>type</th>\n",
       "      <th>displayName</th>\n",
       "      <th>pipLocation</th>\n",
       "      <th>marginRate</th>\n",
       "    </tr>\n",
       "  </thead>\n",
       "  <tbody>\n",
       "    <tr>\n",
       "      <th>0</th>\n",
       "      <td>USB05Y_USD</td>\n",
       "      <td>CFD</td>\n",
       "      <td>US 5Y T-Note</td>\n",
       "      <td>-2</td>\n",
       "      <td>0.2</td>\n",
       "    </tr>\n",
       "    <tr>\n",
       "      <th>1</th>\n",
       "      <td>ZAR_JPY</td>\n",
       "      <td>CURRENCY</td>\n",
       "      <td>ZAR/JPY</td>\n",
       "      <td>-2</td>\n",
       "      <td>0.05</td>\n",
       "    </tr>\n",
       "    <tr>\n",
       "      <th>2</th>\n",
       "      <td>HK33_HKD</td>\n",
       "      <td>CFD</td>\n",
       "      <td>Hong Kong 33</td>\n",
       "      <td>0</td>\n",
       "      <td>0.1</td>\n",
       "    </tr>\n",
       "    <tr>\n",
       "      <th>3</th>\n",
       "      <td>EUR_HUF</td>\n",
       "      <td>CURRENCY</td>\n",
       "      <td>EUR/HUF</td>\n",
       "      <td>-2</td>\n",
       "      <td>0.05</td>\n",
       "    </tr>\n",
       "    <tr>\n",
       "      <th>4</th>\n",
       "      <td>FR40_EUR</td>\n",
       "      <td>CFD</td>\n",
       "      <td>France 40</td>\n",
       "      <td>0</td>\n",
       "      <td>0.05</td>\n",
       "    </tr>\n",
       "    <tr>\n",
       "      <th>...</th>\n",
       "      <td>...</td>\n",
       "      <td>...</td>\n",
       "      <td>...</td>\n",
       "      <td>...</td>\n",
       "      <td>...</td>\n",
       "    </tr>\n",
       "    <tr>\n",
       "      <th>119</th>\n",
       "      <td>DE30_EUR</td>\n",
       "      <td>CFD</td>\n",
       "      <td>Germany 30</td>\n",
       "      <td>0</td>\n",
       "      <td>0.05</td>\n",
       "    </tr>\n",
       "    <tr>\n",
       "      <th>120</th>\n",
       "      <td>EUR_NOK</td>\n",
       "      <td>CURRENCY</td>\n",
       "      <td>EUR/NOK</td>\n",
       "      <td>-4</td>\n",
       "      <td>0.05</td>\n",
       "    </tr>\n",
       "    <tr>\n",
       "      <th>121</th>\n",
       "      <td>XAU_EUR</td>\n",
       "      <td>METAL</td>\n",
       "      <td>Gold/EUR</td>\n",
       "      <td>-2</td>\n",
       "      <td>0.05</td>\n",
       "    </tr>\n",
       "    <tr>\n",
       "      <th>122</th>\n",
       "      <td>XPT_USD</td>\n",
       "      <td>METAL</td>\n",
       "      <td>Platinum</td>\n",
       "      <td>-2</td>\n",
       "      <td>0.1</td>\n",
       "    </tr>\n",
       "    <tr>\n",
       "      <th>123</th>\n",
       "      <td>XAU_USD</td>\n",
       "      <td>METAL</td>\n",
       "      <td>Gold</td>\n",
       "      <td>-2</td>\n",
       "      <td>0.05</td>\n",
       "    </tr>\n",
       "  </tbody>\n",
       "</table>\n",
       "<p>124 rows × 5 columns</p>\n",
       "</div>"
      ]
     },
     "metadata": {},
     "execution_count": 17
    }
   ],
   "metadata": {}
  },
  {
   "cell_type": "code",
   "execution_count": null,
   "source": [],
   "outputs": [],
   "metadata": {}
  }
 ]
}