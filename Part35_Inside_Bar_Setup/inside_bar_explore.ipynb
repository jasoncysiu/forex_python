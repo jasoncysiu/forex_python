{
 "metadata": {
  "language_info": {
   "codemirror_mode": {
    "name": "ipython",
    "version": 3
   },
   "file_extension": ".py",
   "mimetype": "text/x-python",
   "name": "python",
   "nbconvert_exporter": "python",
   "pygments_lexer": "ipython3",
   "version": "3.8.6-final"
  },
  "orig_nbformat": 2,
  "kernelspec": {
   "name": "python3",
   "display_name": "Python 3",
   "language": "python"
  }
 },
 "nbformat": 4,
 "nbformat_minor": 2,
 "cells": [
  {
   "cell_type": "code",
   "execution_count": 1,
   "metadata": {},
   "outputs": [],
   "source": [
    "import pandas as pd\n",
    "import plotly.graph_objects as go\n",
    "import utils"
   ]
  },
  {
   "cell_type": "code",
   "execution_count": 2,
   "metadata": {},
   "outputs": [],
   "source": [
    "pair = \"USD_JPY\"\n",
    "granularity = \"H4\"\n",
    "df_raw = pd.read_pickle(utils.get_his_data_filename(pair, granularity))"
   ]
  },
  {
   "cell_type": "code",
   "execution_count": 3,
   "metadata": {},
   "outputs": [],
   "source": [
    "non_cols = ['time', 'volume']\n",
    "mod_cols = [x for x in df_raw.columns if x not in non_cols]\n",
    "df_raw[mod_cols] = df_raw[mod_cols].apply(pd.to_numeric)"
   ]
  },
  {
   "cell_type": "code",
   "execution_count": 18,
   "metadata": {},
   "outputs": [
    {
     "output_type": "execute_result",
     "data": {
      "text/plain": [
       "                             time  volume    mid_o    mid_h    mid_l    mid_c  \\\n",
       "0  2018-01-01T22:00:00.000000000Z    2968  112.666  112.793  112.582  112.723   \n",
       "1  2018-01-02T02:00:00.000000000Z    1009  112.720  112.751  112.666  112.688   \n",
       "2  2018-01-02T06:00:00.000000000Z    2226  112.691  112.700  112.249  112.252   \n",
       "3  2018-01-02T10:00:00.000000000Z    2056  112.254  112.282  112.086  112.124   \n",
       "4  2018-01-02T14:00:00.000000000Z    3781  112.122  112.304  112.058  112.285   \n",
       "\n",
       "     bid_o    bid_h    bid_l    bid_c    ask_o    ask_h    ask_l    ask_c  \n",
       "0  112.626  112.786  112.559  112.716  112.706  112.800  112.601  112.730  \n",
       "1  112.712  112.744  112.657  112.683  112.728  112.758  112.674  112.694  \n",
       "2  112.684  112.694  112.242  112.245  112.698  112.705  112.256  112.258  \n",
       "3  112.247  112.275  112.079  112.119  112.260  112.288  112.092  112.130  \n",
       "4  112.114  112.297  112.051  112.278  112.129  112.311  112.065  112.292  "
      ],
      "text/html": "<div>\n<style scoped>\n    .dataframe tbody tr th:only-of-type {\n        vertical-align: middle;\n    }\n\n    .dataframe tbody tr th {\n        vertical-align: top;\n    }\n\n    .dataframe thead th {\n        text-align: right;\n    }\n</style>\n<table border=\"1\" class=\"dataframe\">\n  <thead>\n    <tr style=\"text-align: right;\">\n      <th></th>\n      <th>time</th>\n      <th>volume</th>\n      <th>mid_o</th>\n      <th>mid_h</th>\n      <th>mid_l</th>\n      <th>mid_c</th>\n      <th>bid_o</th>\n      <th>bid_h</th>\n      <th>bid_l</th>\n      <th>bid_c</th>\n      <th>ask_o</th>\n      <th>ask_h</th>\n      <th>ask_l</th>\n      <th>ask_c</th>\n    </tr>\n  </thead>\n  <tbody>\n    <tr>\n      <th>0</th>\n      <td>2018-01-01T22:00:00.000000000Z</td>\n      <td>2968</td>\n      <td>112.666</td>\n      <td>112.793</td>\n      <td>112.582</td>\n      <td>112.723</td>\n      <td>112.626</td>\n      <td>112.786</td>\n      <td>112.559</td>\n      <td>112.716</td>\n      <td>112.706</td>\n      <td>112.800</td>\n      <td>112.601</td>\n      <td>112.730</td>\n    </tr>\n    <tr>\n      <th>1</th>\n      <td>2018-01-02T02:00:00.000000000Z</td>\n      <td>1009</td>\n      <td>112.720</td>\n      <td>112.751</td>\n      <td>112.666</td>\n      <td>112.688</td>\n      <td>112.712</td>\n      <td>112.744</td>\n      <td>112.657</td>\n      <td>112.683</td>\n      <td>112.728</td>\n      <td>112.758</td>\n      <td>112.674</td>\n      <td>112.694</td>\n    </tr>\n    <tr>\n      <th>2</th>\n      <td>2018-01-02T06:00:00.000000000Z</td>\n      <td>2226</td>\n      <td>112.691</td>\n      <td>112.700</td>\n      <td>112.249</td>\n      <td>112.252</td>\n      <td>112.684</td>\n      <td>112.694</td>\n      <td>112.242</td>\n      <td>112.245</td>\n      <td>112.698</td>\n      <td>112.705</td>\n      <td>112.256</td>\n      <td>112.258</td>\n    </tr>\n    <tr>\n      <th>3</th>\n      <td>2018-01-02T10:00:00.000000000Z</td>\n      <td>2056</td>\n      <td>112.254</td>\n      <td>112.282</td>\n      <td>112.086</td>\n      <td>112.124</td>\n      <td>112.247</td>\n      <td>112.275</td>\n      <td>112.079</td>\n      <td>112.119</td>\n      <td>112.260</td>\n      <td>112.288</td>\n      <td>112.092</td>\n      <td>112.130</td>\n    </tr>\n    <tr>\n      <th>4</th>\n      <td>2018-01-02T14:00:00.000000000Z</td>\n      <td>3781</td>\n      <td>112.122</td>\n      <td>112.304</td>\n      <td>112.058</td>\n      <td>112.285</td>\n      <td>112.114</td>\n      <td>112.297</td>\n      <td>112.051</td>\n      <td>112.278</td>\n      <td>112.129</td>\n      <td>112.311</td>\n      <td>112.065</td>\n      <td>112.292</td>\n    </tr>\n  </tbody>\n</table>\n</div>"
     },
     "metadata": {},
     "execution_count": 18
    }
   ],
   "source": [
    "df_raw.head()"
   ]
  },
  {
   "cell_type": "code",
   "execution_count": 19,
   "metadata": {},
   "outputs": [
    {
     "output_type": "execute_result",
     "data": {
      "text/plain": [
       "Index(['time', 'volume', 'mid_o', 'mid_h', 'mid_l', 'mid_c', 'bid_o', 'bid_h',\n",
       "       'bid_l', 'bid_c', 'ask_o', 'ask_h', 'ask_l', 'ask_c'],\n",
       "      dtype='object')"
      ]
     },
     "metadata": {},
     "execution_count": 19
    }
   ],
   "source": [
    "df_raw.columns"
   ]
  },
  {
   "cell_type": "code",
   "execution_count": 21,
   "metadata": {},
   "outputs": [],
   "source": []
  },
  {
   "cell_type": "code",
   "execution_count": 29,
   "metadata": {},
   "outputs": [
    {
     "output_type": "execute_result",
     "data": {
      "text/plain": [
       "                             time    mid_o    mid_h    mid_l    mid_c  \\\n",
       "1  2018-01-02T02:00:00.000000000Z  112.720  112.751  112.666  112.688   \n",
       "2  2018-01-02T06:00:00.000000000Z  112.691  112.700  112.249  112.252   \n",
       "3  2018-01-02T10:00:00.000000000Z  112.254  112.282  112.086  112.124   \n",
       "4  2018-01-02T14:00:00.000000000Z  112.122  112.304  112.058  112.285   \n",
       "5  2018-01-02T18:00:00.000000000Z  112.288  112.354  112.244  112.291   \n",
       "\n",
       "     bid_c    ask_c  RANGE  mid_h_prev  mid_l_prev  RANGE_prev  DIRECTION  \\\n",
       "1  112.683  112.694  0.085     112.793     112.582       0.211         -1   \n",
       "2  112.245  112.258  0.451     112.751     112.666       0.085         -1   \n",
       "3  112.119  112.130  0.196     112.700     112.249       0.451         -1   \n",
       "4  112.278  112.292  0.246     112.282     112.086       0.196          1   \n",
       "5  112.262  112.320  0.110     112.304     112.058       0.246          1   \n",
       "\n",
       "   DIRECTION_prev  \n",
       "1               1  \n",
       "2              -1  \n",
       "3              -1  \n",
       "4              -1  \n",
       "5               1  "
      ],
      "text/html": "<div>\n<style scoped>\n    .dataframe tbody tr th:only-of-type {\n        vertical-align: middle;\n    }\n\n    .dataframe tbody tr th {\n        vertical-align: top;\n    }\n\n    .dataframe thead th {\n        text-align: right;\n    }\n</style>\n<table border=\"1\" class=\"dataframe\">\n  <thead>\n    <tr style=\"text-align: right;\">\n      <th></th>\n      <th>time</th>\n      <th>mid_o</th>\n      <th>mid_h</th>\n      <th>mid_l</th>\n      <th>mid_c</th>\n      <th>bid_c</th>\n      <th>ask_c</th>\n      <th>RANGE</th>\n      <th>mid_h_prev</th>\n      <th>mid_l_prev</th>\n      <th>RANGE_prev</th>\n      <th>DIRECTION</th>\n      <th>DIRECTION_prev</th>\n    </tr>\n  </thead>\n  <tbody>\n    <tr>\n      <th>1</th>\n      <td>2018-01-02T02:00:00.000000000Z</td>\n      <td>112.720</td>\n      <td>112.751</td>\n      <td>112.666</td>\n      <td>112.688</td>\n      <td>112.683</td>\n      <td>112.694</td>\n      <td>0.085</td>\n      <td>112.793</td>\n      <td>112.582</td>\n      <td>0.211</td>\n      <td>-1</td>\n      <td>1</td>\n    </tr>\n    <tr>\n      <th>2</th>\n      <td>2018-01-02T06:00:00.000000000Z</td>\n      <td>112.691</td>\n      <td>112.700</td>\n      <td>112.249</td>\n      <td>112.252</td>\n      <td>112.245</td>\n      <td>112.258</td>\n      <td>0.451</td>\n      <td>112.751</td>\n      <td>112.666</td>\n      <td>0.085</td>\n      <td>-1</td>\n      <td>-1</td>\n    </tr>\n    <tr>\n      <th>3</th>\n      <td>2018-01-02T10:00:00.000000000Z</td>\n      <td>112.254</td>\n      <td>112.282</td>\n      <td>112.086</td>\n      <td>112.124</td>\n      <td>112.119</td>\n      <td>112.130</td>\n      <td>0.196</td>\n      <td>112.700</td>\n      <td>112.249</td>\n      <td>0.451</td>\n      <td>-1</td>\n      <td>-1</td>\n    </tr>\n    <tr>\n      <th>4</th>\n      <td>2018-01-02T14:00:00.000000000Z</td>\n      <td>112.122</td>\n      <td>112.304</td>\n      <td>112.058</td>\n      <td>112.285</td>\n      <td>112.278</td>\n      <td>112.292</td>\n      <td>0.246</td>\n      <td>112.282</td>\n      <td>112.086</td>\n      <td>0.196</td>\n      <td>1</td>\n      <td>-1</td>\n    </tr>\n    <tr>\n      <th>5</th>\n      <td>2018-01-02T18:00:00.000000000Z</td>\n      <td>112.288</td>\n      <td>112.354</td>\n      <td>112.244</td>\n      <td>112.291</td>\n      <td>112.262</td>\n      <td>112.320</td>\n      <td>0.110</td>\n      <td>112.304</td>\n      <td>112.058</td>\n      <td>0.246</td>\n      <td>1</td>\n      <td>1</td>\n    </tr>\n  </tbody>\n</table>\n</div>"
     },
     "metadata": {},
     "execution_count": 29
    }
   ],
   "source": [
    "df.head()"
   ]
  },
  {
   "cell_type": "code",
   "execution_count": 30,
   "metadata": {},
   "outputs": [],
   "source": [
    "def direction(row):\n",
    "    if row.mid_c > row.mid_o:\n",
    "        return 1\n",
    "    return -1\n",
    "\n",
    "def get_signal(row):\n",
    "    if row.mid_h_prev > row.mid_h and row.mid_l_prev < row.mid_l:\n",
    "        return row.DIRECTION_prev\n",
    "    return 0"
   ]
  },
  {
   "cell_type": "code",
   "execution_count": 31,
   "metadata": {},
   "outputs": [],
   "source": [
    "df = df_raw[['time','mid_o', 'mid_h', 'mid_l', 'mid_c', 'bid_c', 'ask_c']].copy()\n",
    "df['RANGE'] = df.mid_h - df.mid_l\n",
    "df['mid_h_prev'] = df.mid_h.shift(1)\n",
    "df['mid_l_prev'] = df.mid_l.shift(1)\n",
    "df['RANGE_prev'] = df.RANGE.shift(1)\n",
    "df['DIRECTION'] = df.apply(direction, axis=1)\n",
    "df['DIRECTION_prev'] = df.DIRECTION.shift(1).fillna(0).astype(int)\n",
    "df.dropna(inplace=True)\n",
    "df['SIGNAL'] = df.apply(get_signal, axis=1)\n",
    "df.reset_index(drop=True, inplace=True)"
   ]
  },
  {
   "cell_type": "code",
   "execution_count": 33,
   "metadata": {},
   "outputs": [
    {
     "output_type": "execute_result",
     "data": {
      "text/plain": [
       "                             time    mid_o    mid_h    mid_l    mid_c  \\\n",
       "0  2018-01-02T02:00:00.000000000Z  112.720  112.751  112.666  112.688   \n",
       "1  2018-01-02T06:00:00.000000000Z  112.691  112.700  112.249  112.252   \n",
       "2  2018-01-02T10:00:00.000000000Z  112.254  112.282  112.086  112.124   \n",
       "3  2018-01-02T14:00:00.000000000Z  112.122  112.304  112.058  112.285   \n",
       "4  2018-01-02T18:00:00.000000000Z  112.288  112.354  112.244  112.291   \n",
       "\n",
       "     bid_c    ask_c  RANGE  mid_h_prev  mid_l_prev  RANGE_prev  DIRECTION  \\\n",
       "0  112.683  112.694  0.085     112.793     112.582       0.211         -1   \n",
       "1  112.245  112.258  0.451     112.751     112.666       0.085         -1   \n",
       "2  112.119  112.130  0.196     112.700     112.249       0.451         -1   \n",
       "3  112.278  112.292  0.246     112.282     112.086       0.196          1   \n",
       "4  112.262  112.320  0.110     112.304     112.058       0.246          1   \n",
       "\n",
       "   DIRECTION_prev  SIGNAL  \n",
       "0               1       1  \n",
       "1              -1       0  \n",
       "2              -1       0  \n",
       "3              -1       0  \n",
       "4               1       0  "
      ],
      "text/html": "<div>\n<style scoped>\n    .dataframe tbody tr th:only-of-type {\n        vertical-align: middle;\n    }\n\n    .dataframe tbody tr th {\n        vertical-align: top;\n    }\n\n    .dataframe thead th {\n        text-align: right;\n    }\n</style>\n<table border=\"1\" class=\"dataframe\">\n  <thead>\n    <tr style=\"text-align: right;\">\n      <th></th>\n      <th>time</th>\n      <th>mid_o</th>\n      <th>mid_h</th>\n      <th>mid_l</th>\n      <th>mid_c</th>\n      <th>bid_c</th>\n      <th>ask_c</th>\n      <th>RANGE</th>\n      <th>mid_h_prev</th>\n      <th>mid_l_prev</th>\n      <th>RANGE_prev</th>\n      <th>DIRECTION</th>\n      <th>DIRECTION_prev</th>\n      <th>SIGNAL</th>\n    </tr>\n  </thead>\n  <tbody>\n    <tr>\n      <th>0</th>\n      <td>2018-01-02T02:00:00.000000000Z</td>\n      <td>112.720</td>\n      <td>112.751</td>\n      <td>112.666</td>\n      <td>112.688</td>\n      <td>112.683</td>\n      <td>112.694</td>\n      <td>0.085</td>\n      <td>112.793</td>\n      <td>112.582</td>\n      <td>0.211</td>\n      <td>-1</td>\n      <td>1</td>\n      <td>1</td>\n    </tr>\n    <tr>\n      <th>1</th>\n      <td>2018-01-02T06:00:00.000000000Z</td>\n      <td>112.691</td>\n      <td>112.700</td>\n      <td>112.249</td>\n      <td>112.252</td>\n      <td>112.245</td>\n      <td>112.258</td>\n      <td>0.451</td>\n      <td>112.751</td>\n      <td>112.666</td>\n      <td>0.085</td>\n      <td>-1</td>\n      <td>-1</td>\n      <td>0</td>\n    </tr>\n    <tr>\n      <th>2</th>\n      <td>2018-01-02T10:00:00.000000000Z</td>\n      <td>112.254</td>\n      <td>112.282</td>\n      <td>112.086</td>\n      <td>112.124</td>\n      <td>112.119</td>\n      <td>112.130</td>\n      <td>0.196</td>\n      <td>112.700</td>\n      <td>112.249</td>\n      <td>0.451</td>\n      <td>-1</td>\n      <td>-1</td>\n      <td>0</td>\n    </tr>\n    <tr>\n      <th>3</th>\n      <td>2018-01-02T14:00:00.000000000Z</td>\n      <td>112.122</td>\n      <td>112.304</td>\n      <td>112.058</td>\n      <td>112.285</td>\n      <td>112.278</td>\n      <td>112.292</td>\n      <td>0.246</td>\n      <td>112.282</td>\n      <td>112.086</td>\n      <td>0.196</td>\n      <td>1</td>\n      <td>-1</td>\n      <td>0</td>\n    </tr>\n    <tr>\n      <th>4</th>\n      <td>2018-01-02T18:00:00.000000000Z</td>\n      <td>112.288</td>\n      <td>112.354</td>\n      <td>112.244</td>\n      <td>112.291</td>\n      <td>112.262</td>\n      <td>112.320</td>\n      <td>0.110</td>\n      <td>112.304</td>\n      <td>112.058</td>\n      <td>0.246</td>\n      <td>1</td>\n      <td>1</td>\n      <td>0</td>\n    </tr>\n  </tbody>\n</table>\n</div>"
     },
     "metadata": {},
     "execution_count": 33
    }
   ],
   "source": [
    "df.head()"
   ]
  },
  {
   "cell_type": "code",
   "execution_count": 34,
   "metadata": {},
   "outputs": [
    {
     "output_type": "execute_result",
     "data": {
      "text/plain": [
       "(830, 14)"
      ]
     },
     "metadata": {},
     "execution_count": 34
    }
   ],
   "source": [
    "df[df.SIGNAL!=0].shape"
   ]
  },
  {
   "cell_type": "code",
   "execution_count": 35,
   "metadata": {},
   "outputs": [
    {
     "output_type": "execute_result",
     "data": {
      "text/plain": [
       "(4685, 14)"
      ]
     },
     "metadata": {},
     "execution_count": 35
    }
   ],
   "source": [
    "df.shape"
   ]
  },
  {
   "cell_type": "code",
   "execution_count": null,
   "metadata": {},
   "outputs": [],
   "source": []
  }
 ]
}