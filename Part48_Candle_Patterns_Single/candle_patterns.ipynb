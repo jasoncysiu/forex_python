{
 "metadata": {
  "language_info": {
   "codemirror_mode": {
    "name": "ipython",
    "version": 3
   },
   "file_extension": ".py",
   "mimetype": "text/x-python",
   "name": "python",
   "nbconvert_exporter": "python",
   "pygments_lexer": "ipython3",
   "version": "3.8.6-final"
  },
  "orig_nbformat": 2,
  "kernelspec": {
   "name": "python3",
   "display_name": "Python 3.8.6 64-bit ('venv')",
   "metadata": {
    "interpreter": {
     "hash": "be5e91b1e492455655c24714dfd4b9d98fd4b60ac770d810fbdc4ba1d818ed6d"
    }
   }
  }
 },
 "nbformat": 4,
 "nbformat_minor": 2,
 "cells": [
  {
   "cell_type": "code",
   "execution_count": 1,
   "metadata": {},
   "outputs": [],
   "source": [
    "import pandas as pd\n",
    "import utils\n",
    "import plotly.graph_objects as go"
   ]
  },
  {
   "cell_type": "code",
   "execution_count": 2,
   "metadata": {},
   "outputs": [],
   "source": [
    "def plot_candles(df_plot):\n",
    "    fig = go.Figure()\n",
    "    fig.add_trace(go.Candlestick(\n",
    "        x=df_plot.time, open=df_plot.mid_o, high=df_plot.mid_h, low=df_plot.mid_l, close=df_plot.mid_c,\n",
    "        line=dict(width=1), opacity=1,\n",
    "        increasing_fillcolor='#24A06B',\n",
    "        decreasing_fillcolor=\"#CC2E3C\",\n",
    "        increasing_line_color='#2EC886',  \n",
    "        decreasing_line_color='#FF3A4C'\n",
    "    ))\n",
    "    fig.update_layout(width=1000,height=400,\n",
    "        margin=dict(l=10,r=10,b=10,t=10),\n",
    "        font=dict(size=10,color=\"#e1e1e1\"),\n",
    "        paper_bgcolor=\"#1e1e1e\",\n",
    "        plot_bgcolor=\"#1e1e1e\")\n",
    "    fig.update_xaxes(\n",
    "        gridcolor=\"#1f292f\",\n",
    "        showgrid=True,fixedrange=True,rangeslider=dict(visible=False),\n",
    "        rangebreaks=[\n",
    "            dict(bounds=[\"sat\", \"mon\"])\n",
    "        ]\n",
    "    )\n",
    "    fig.update_yaxes(\n",
    "        gridcolor=\"#1f292f\",\n",
    "        showgrid=True\n",
    "    )\n",
    "    fig.show()"
   ]
  },
  {
   "cell_type": "code",
   "execution_count": 3,
   "metadata": {},
   "outputs": [],
   "source": [
    "pair = \"USD_JPY\"\n",
    "granularity = \"H4\"\n",
    "df_raw = pd.read_pickle(utils.get_his_data_filename(pair, granularity))"
   ]
  },
  {
   "cell_type": "code",
   "execution_count": 4,
   "metadata": {},
   "outputs": [],
   "source": [
    "cols = ['time', 'mid_o', 'mid_h', 'mid_l', 'mid_c']"
   ]
  },
  {
   "cell_type": "code",
   "execution_count": 18,
   "metadata": {},
   "outputs": [],
   "source": [
    "df = df_raw[cols].copy()"
   ]
  },
  {
   "cell_type": "code",
   "execution_count": 22,
   "metadata": {},
   "outputs": [],
   "source": [
    "def apply_top_end_distance(row):\n",
    "    if row.DIRECTION == 1:\n",
    "        return row.mid_h - row.mid_c\n",
    "    else:\n",
    "        return row.mid_h - row.mid_o\n",
    "\n",
    "def apply_bottom_end_distance(row):\n",
    "    if row.DIRECTION == 1:\n",
    "        return row.mid_o - row.mid_l\n",
    "    else:\n",
    "        return row.mid_c - row.mid_l\n",
    "\n",
    "def apply_stats(df):\n",
    "    df['RANGE'] = df.mid_h - df.mid_l\n",
    "    df['BODY_RANGE'] = abs(df.mid_c - df.mid_o)\n",
    "    df['CENTER'] = (df.mid_h - df.mid_l) / 2 + df.mid_l\n",
    "    df['BODY_PERC'] = df.BODY_RANGE / df.RANGE\n",
    "    df['DIRECTION'] = df.mid_c - df.mid_o\n",
    "    df['DIRECTION'] = df['DIRECTION'].apply(lambda x: 1 if x >= 0 else -1)\n",
    "    df['DIST_TOP'] = df.apply(apply_top_end_distance, axis=1)\n",
    "    df['DIST_BOTTOM'] = df.apply(apply_bottom_end_distance, axis=1)\n",
    "    df['DIST_TOP_PERC'] = df.DIST_TOP / df.RANGE\n",
    "    df['DIST_BOTTOM_PERC'] = df.DIST_BOTTOM / df.RANGE\n",
    "    return df"
   ]
  },
  {
   "cell_type": "code",
   "execution_count": 23,
   "metadata": {},
   "outputs": [],
   "source": [
    "df = apply_stats(df)"
   ]
  },
  {
   "cell_type": "code",
   "execution_count": 24,
   "metadata": {},
   "outputs": [
    {
     "output_type": "execute_result",
     "data": {
      "text/plain": [
       "                       time    mid_o    mid_h    mid_l    mid_c  RANGE  \\\n",
       "0 2018-01-01 22:00:00+00:00  112.666  112.793  112.582  112.723  0.211   \n",
       "1 2018-01-02 02:00:00+00:00  112.720  112.751  112.666  112.688  0.085   \n",
       "2 2018-01-02 06:00:00+00:00  112.691  112.700  112.249  112.252  0.451   \n",
       "3 2018-01-02 10:00:00+00:00  112.254  112.282  112.086  112.124  0.196   \n",
       "4 2018-01-02 14:00:00+00:00  112.122  112.304  112.058  112.285  0.246   \n",
       "\n",
       "   BODY_RANGE    CENTER  BODY_PERC  DIRECTION  DIST_TOP  DIST_BOTTOM  \\\n",
       "0       0.057  112.6875   0.270142          1     0.070        0.084   \n",
       "1       0.032  112.7085   0.376471         -1     0.031        0.022   \n",
       "2       0.439  112.4745   0.973392         -1     0.009        0.003   \n",
       "3       0.130  112.1840   0.663265         -1     0.028        0.038   \n",
       "4       0.163  112.1810   0.662602          1     0.019        0.064   \n",
       "\n",
       "   DIST_TOP_PERC  DIST_BOTTOM_PERC  \n",
       "0       0.331754          0.398104  \n",
       "1       0.364706          0.258824  \n",
       "2       0.019956          0.006652  \n",
       "3       0.142857          0.193878  \n",
       "4       0.077236          0.260163  "
      ],
      "text/html": "<div>\n<style scoped>\n    .dataframe tbody tr th:only-of-type {\n        vertical-align: middle;\n    }\n\n    .dataframe tbody tr th {\n        vertical-align: top;\n    }\n\n    .dataframe thead th {\n        text-align: right;\n    }\n</style>\n<table border=\"1\" class=\"dataframe\">\n  <thead>\n    <tr style=\"text-align: right;\">\n      <th></th>\n      <th>time</th>\n      <th>mid_o</th>\n      <th>mid_h</th>\n      <th>mid_l</th>\n      <th>mid_c</th>\n      <th>RANGE</th>\n      <th>BODY_RANGE</th>\n      <th>CENTER</th>\n      <th>BODY_PERC</th>\n      <th>DIRECTION</th>\n      <th>DIST_TOP</th>\n      <th>DIST_BOTTOM</th>\n      <th>DIST_TOP_PERC</th>\n      <th>DIST_BOTTOM_PERC</th>\n    </tr>\n  </thead>\n  <tbody>\n    <tr>\n      <th>0</th>\n      <td>2018-01-01 22:00:00+00:00</td>\n      <td>112.666</td>\n      <td>112.793</td>\n      <td>112.582</td>\n      <td>112.723</td>\n      <td>0.211</td>\n      <td>0.057</td>\n      <td>112.6875</td>\n      <td>0.270142</td>\n      <td>1</td>\n      <td>0.070</td>\n      <td>0.084</td>\n      <td>0.331754</td>\n      <td>0.398104</td>\n    </tr>\n    <tr>\n      <th>1</th>\n      <td>2018-01-02 02:00:00+00:00</td>\n      <td>112.720</td>\n      <td>112.751</td>\n      <td>112.666</td>\n      <td>112.688</td>\n      <td>0.085</td>\n      <td>0.032</td>\n      <td>112.7085</td>\n      <td>0.376471</td>\n      <td>-1</td>\n      <td>0.031</td>\n      <td>0.022</td>\n      <td>0.364706</td>\n      <td>0.258824</td>\n    </tr>\n    <tr>\n      <th>2</th>\n      <td>2018-01-02 06:00:00+00:00</td>\n      <td>112.691</td>\n      <td>112.700</td>\n      <td>112.249</td>\n      <td>112.252</td>\n      <td>0.451</td>\n      <td>0.439</td>\n      <td>112.4745</td>\n      <td>0.973392</td>\n      <td>-1</td>\n      <td>0.009</td>\n      <td>0.003</td>\n      <td>0.019956</td>\n      <td>0.006652</td>\n    </tr>\n    <tr>\n      <th>3</th>\n      <td>2018-01-02 10:00:00+00:00</td>\n      <td>112.254</td>\n      <td>112.282</td>\n      <td>112.086</td>\n      <td>112.124</td>\n      <td>0.196</td>\n      <td>0.130</td>\n      <td>112.1840</td>\n      <td>0.663265</td>\n      <td>-1</td>\n      <td>0.028</td>\n      <td>0.038</td>\n      <td>0.142857</td>\n      <td>0.193878</td>\n    </tr>\n    <tr>\n      <th>4</th>\n      <td>2018-01-02 14:00:00+00:00</td>\n      <td>112.122</td>\n      <td>112.304</td>\n      <td>112.058</td>\n      <td>112.285</td>\n      <td>0.246</td>\n      <td>0.163</td>\n      <td>112.1810</td>\n      <td>0.662602</td>\n      <td>1</td>\n      <td>0.019</td>\n      <td>0.064</td>\n      <td>0.077236</td>\n      <td>0.260163</td>\n    </tr>\n  </tbody>\n</table>\n</div>"
     },
     "metadata": {},
     "execution_count": 24
    }
   ],
   "source": [
    "df.head()"
   ]
  },
  {
   "cell_type": "code",
   "execution_count": null,
   "metadata": {},
   "outputs": [],
   "source": []
  }
 ]
}