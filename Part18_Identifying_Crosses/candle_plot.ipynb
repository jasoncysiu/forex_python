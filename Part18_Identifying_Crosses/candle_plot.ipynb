{
 "metadata": {
  "language_info": {
   "codemirror_mode": {
    "name": "ipython",
    "version": 3
   },
   "file_extension": ".py",
   "mimetype": "text/x-python",
   "name": "python",
   "nbconvert_exporter": "python",
   "pygments_lexer": "ipython3",
   "version": "3.8.6-final"
  },
  "orig_nbformat": 2,
  "kernelspec": {
   "name": "python3",
   "display_name": "Python 3",
   "language": "python"
  }
 },
 "nbformat": 4,
 "nbformat_minor": 2,
 "cells": [
  {
   "cell_type": "code",
   "execution_count": 15,
   "metadata": {},
   "outputs": [],
   "source": [
    "import pandas as pd\n",
    "import utils\n",
    "import plotly.graph_objects as go"
   ]
  },
  {
   "cell_type": "code",
   "execution_count": 16,
   "metadata": {},
   "outputs": [],
   "source": [
    "pair = \"EUR_USD\"\n",
    "granularity = \"H1\"\n",
    "ma_list = [16,64]"
   ]
  },
  {
   "cell_type": "code",
   "execution_count": 42,
   "metadata": {},
   "outputs": [],
   "source": [
    "df = pd.read_pickle(utils.get_his_data_filename(pair, granularity))"
   ]
  },
  {
   "cell_type": "code",
   "execution_count": 18,
   "metadata": {},
   "outputs": [],
   "source": [
    "non_cols = ['time', 'volume']\n",
    "mod_cols = [x for x in df.columns if x not in non_cols]\n",
    "df[mod_cols] = df[mod_cols].apply(pd.to_numeric)"
   ]
  },
  {
   "cell_type": "code",
   "execution_count": 19,
   "metadata": {},
   "outputs": [],
   "source": [
    "df_ma = df[['time', 'mid_o', 'mid_h', 'mid_l', 'mid_c']].copy()"
   ]
  },
  {
   "cell_type": "code",
   "execution_count": 20,
   "metadata": {},
   "outputs": [],
   "source": [
    "for ma in ma_list:  \n",
    "    df_ma[f'MA_{ma}'] = df_ma.mid_c.rolling(window=ma).mean()"
   ]
  },
  {
   "cell_type": "code",
   "execution_count": 21,
   "metadata": {},
   "outputs": [],
   "source": [
    "df_ma.dropna(inplace=True)"
   ]
  },
  {
   "cell_type": "code",
   "execution_count": 44,
   "metadata": {},
   "outputs": [],
   "source": [
    "df_ma.reset_index(drop=True, inplace=True)"
   ]
  },
  {
   "cell_type": "code",
   "execution_count": 45,
   "metadata": {},
   "outputs": [
    {
     "output_type": "execute_result",
     "data": {
      "text/plain": [
       "                             time    mid_o    mid_h    mid_l    mid_c  \\\n",
       "0  2020-06-11T10:00:00.000000000Z  1.13835  1.13854  1.13702  1.13724   \n",
       "1  2020-06-11T11:00:00.000000000Z  1.13726  1.13750  1.13534  1.13558   \n",
       "2  2020-06-11T12:00:00.000000000Z  1.13558  1.13586  1.13365  1.13567   \n",
       "3  2020-06-11T13:00:00.000000000Z  1.13568  1.13788  1.13508  1.13779   \n",
       "4  2020-06-11T14:00:00.000000000Z  1.13780  1.14036  1.13720  1.13813   \n",
       "\n",
       "      MA_16     MA_64      DIFF  DIFF_PREV  IS_TRADE  \n",
       "0  1.137317  1.133934  0.003383        NaN     False  \n",
       "1  1.137107  1.134026  0.003081   0.003383     False  \n",
       "2  1.136992  1.134123  0.002868   0.003081     False  \n",
       "3  1.137001  1.134258  0.002743   0.002868     False  \n",
       "4  1.137024  1.134394  0.002631   0.002743     False  "
      ],
      "text/html": "<div>\n<style scoped>\n    .dataframe tbody tr th:only-of-type {\n        vertical-align: middle;\n    }\n\n    .dataframe tbody tr th {\n        vertical-align: top;\n    }\n\n    .dataframe thead th {\n        text-align: right;\n    }\n</style>\n<table border=\"1\" class=\"dataframe\">\n  <thead>\n    <tr style=\"text-align: right;\">\n      <th></th>\n      <th>time</th>\n      <th>mid_o</th>\n      <th>mid_h</th>\n      <th>mid_l</th>\n      <th>mid_c</th>\n      <th>MA_16</th>\n      <th>MA_64</th>\n      <th>DIFF</th>\n      <th>DIFF_PREV</th>\n      <th>IS_TRADE</th>\n    </tr>\n  </thead>\n  <tbody>\n    <tr>\n      <th>0</th>\n      <td>2020-06-11T10:00:00.000000000Z</td>\n      <td>1.13835</td>\n      <td>1.13854</td>\n      <td>1.13702</td>\n      <td>1.13724</td>\n      <td>1.137317</td>\n      <td>1.133934</td>\n      <td>0.003383</td>\n      <td>NaN</td>\n      <td>False</td>\n    </tr>\n    <tr>\n      <th>1</th>\n      <td>2020-06-11T11:00:00.000000000Z</td>\n      <td>1.13726</td>\n      <td>1.13750</td>\n      <td>1.13534</td>\n      <td>1.13558</td>\n      <td>1.137107</td>\n      <td>1.134026</td>\n      <td>0.003081</td>\n      <td>0.003383</td>\n      <td>False</td>\n    </tr>\n    <tr>\n      <th>2</th>\n      <td>2020-06-11T12:00:00.000000000Z</td>\n      <td>1.13558</td>\n      <td>1.13586</td>\n      <td>1.13365</td>\n      <td>1.13567</td>\n      <td>1.136992</td>\n      <td>1.134123</td>\n      <td>0.002868</td>\n      <td>0.003081</td>\n      <td>False</td>\n    </tr>\n    <tr>\n      <th>3</th>\n      <td>2020-06-11T13:00:00.000000000Z</td>\n      <td>1.13568</td>\n      <td>1.13788</td>\n      <td>1.13508</td>\n      <td>1.13779</td>\n      <td>1.137001</td>\n      <td>1.134258</td>\n      <td>0.002743</td>\n      <td>0.002868</td>\n      <td>False</td>\n    </tr>\n    <tr>\n      <th>4</th>\n      <td>2020-06-11T14:00:00.000000000Z</td>\n      <td>1.13780</td>\n      <td>1.14036</td>\n      <td>1.13720</td>\n      <td>1.13813</td>\n      <td>1.137024</td>\n      <td>1.134394</td>\n      <td>0.002631</td>\n      <td>0.002743</td>\n      <td>False</td>\n    </tr>\n  </tbody>\n</table>\n</div>"
     },
     "metadata": {},
     "execution_count": 45
    }
   ],
   "source": [
    "df_ma.head()"
   ]
  },
  {
   "cell_type": "code",
   "execution_count": 23,
   "metadata": {},
   "outputs": [],
   "source": [
    "df_ma['DIFF'] = df_ma.MA_16 - df_ma.MA_64"
   ]
  },
  {
   "cell_type": "code",
   "execution_count": 25,
   "metadata": {},
   "outputs": [],
   "source": [
    "df_ma['DIFF_PREV'] = df_ma.DIFF.shift(1)"
   ]
  },
  {
   "cell_type": "code",
   "execution_count": 27,
   "metadata": {},
   "outputs": [],
   "source": [
    "def is_trade(row):\n",
    "    if row.DIFF >= 0 and row.DIFF_PREV < 0:\n",
    "        return True\n",
    "    if row.DIFF <= 0 and row.DIFF_PREV > 0:\n",
    "        return True\n",
    "    return False"
   ]
  },
  {
   "cell_type": "code",
   "execution_count": 28,
   "metadata": {},
   "outputs": [],
   "source": [
    "df_ma['IS_TRADE'] = df_ma.apply(is_trade, axis=1)"
   ]
  },
  {
   "cell_type": "code",
   "execution_count": 46,
   "metadata": {},
   "outputs": [],
   "source": [
    "df_trades = df_ma[df_ma.IS_TRADE==True].copy()"
   ]
  },
  {
   "cell_type": "code",
   "execution_count": 47,
   "metadata": {},
   "outputs": [
    {
     "output_type": "execute_result",
     "data": {
      "text/plain": [
       "                               time    mid_o    mid_h    mid_l    mid_c  \\\n",
       "12   2020-06-11T22:00:00.000000000Z  1.12936  1.12988  1.12874  1.12988   \n",
       "62   2020-06-16T00:00:00.000000000Z  1.13378  1.13400  1.13304  1.13337   \n",
       "84   2020-06-16T22:00:00.000000000Z  1.12620  1.12624  1.12535  1.12593   \n",
       "174  2020-06-22T16:00:00.000000000Z  1.12600  1.12640  1.12572  1.12611   \n",
       "227  2020-06-24T21:00:00.000000000Z  1.12528  1.12570  1.12516  1.12550   \n",
       "\n",
       "        MA_16     MA_64      DIFF  DIFF_PREV  IS_TRADE  \n",
       "12   1.134564  1.134750 -0.000186   0.000247      True  \n",
       "62   1.129281  1.129236  0.000046  -0.000461      True  \n",
       "84   1.128306  1.128339 -0.000033   0.000441      True  \n",
       "174  1.121703  1.121438  0.000265  -0.000208      True  \n",
       "227  1.127857  1.127885 -0.000027   0.000437      True  "
      ],
      "text/html": "<div>\n<style scoped>\n    .dataframe tbody tr th:only-of-type {\n        vertical-align: middle;\n    }\n\n    .dataframe tbody tr th {\n        vertical-align: top;\n    }\n\n    .dataframe thead th {\n        text-align: right;\n    }\n</style>\n<table border=\"1\" class=\"dataframe\">\n  <thead>\n    <tr style=\"text-align: right;\">\n      <th></th>\n      <th>time</th>\n      <th>mid_o</th>\n      <th>mid_h</th>\n      <th>mid_l</th>\n      <th>mid_c</th>\n      <th>MA_16</th>\n      <th>MA_64</th>\n      <th>DIFF</th>\n      <th>DIFF_PREV</th>\n      <th>IS_TRADE</th>\n    </tr>\n  </thead>\n  <tbody>\n    <tr>\n      <th>12</th>\n      <td>2020-06-11T22:00:00.000000000Z</td>\n      <td>1.12936</td>\n      <td>1.12988</td>\n      <td>1.12874</td>\n      <td>1.12988</td>\n      <td>1.134564</td>\n      <td>1.134750</td>\n      <td>-0.000186</td>\n      <td>0.000247</td>\n      <td>True</td>\n    </tr>\n    <tr>\n      <th>62</th>\n      <td>2020-06-16T00:00:00.000000000Z</td>\n      <td>1.13378</td>\n      <td>1.13400</td>\n      <td>1.13304</td>\n      <td>1.13337</td>\n      <td>1.129281</td>\n      <td>1.129236</td>\n      <td>0.000046</td>\n      <td>-0.000461</td>\n      <td>True</td>\n    </tr>\n    <tr>\n      <th>84</th>\n      <td>2020-06-16T22:00:00.000000000Z</td>\n      <td>1.12620</td>\n      <td>1.12624</td>\n      <td>1.12535</td>\n      <td>1.12593</td>\n      <td>1.128306</td>\n      <td>1.128339</td>\n      <td>-0.000033</td>\n      <td>0.000441</td>\n      <td>True</td>\n    </tr>\n    <tr>\n      <th>174</th>\n      <td>2020-06-22T16:00:00.000000000Z</td>\n      <td>1.12600</td>\n      <td>1.12640</td>\n      <td>1.12572</td>\n      <td>1.12611</td>\n      <td>1.121703</td>\n      <td>1.121438</td>\n      <td>0.000265</td>\n      <td>-0.000208</td>\n      <td>True</td>\n    </tr>\n    <tr>\n      <th>227</th>\n      <td>2020-06-24T21:00:00.000000000Z</td>\n      <td>1.12528</td>\n      <td>1.12570</td>\n      <td>1.12516</td>\n      <td>1.12550</td>\n      <td>1.127857</td>\n      <td>1.127885</td>\n      <td>-0.000027</td>\n      <td>0.000437</td>\n      <td>True</td>\n    </tr>\n  </tbody>\n</table>\n</div>"
     },
     "metadata": {},
     "execution_count": 47
    }
   ],
   "source": [
    "df_trades.head()"
   ]
  },
  {
   "cell_type": "code",
   "execution_count": null,
   "metadata": {},
   "outputs": [],
   "source": []
  },
  {
   "cell_type": "code",
   "execution_count": 48,
   "metadata": {},
   "outputs": [],
   "source": [
    "df_plot = df_ma.iloc[0:24].copy()"
   ]
  },
  {
   "cell_type": "code",
   "execution_count": 49,
   "metadata": {},
   "outputs": [
    {
     "output_type": "execute_result",
     "data": {
      "text/plain": [
       "(24, 10)"
      ]
     },
     "metadata": {},
     "execution_count": 49
    }
   ],
   "source": [
    "df_plot.shape"
   ]
  },
  {
   "cell_type": "code",
   "execution_count": 50,
   "metadata": {},
   "outputs": [
    {
     "output_type": "display_data",
     "data": {
      "application/vnd.plotly.v1+json": {
       "config": {
        "plotlyServerURL": "https://plot.ly"
       },
       "data": [
        {
         "close": [
          1.13724,
          1.13558,
          1.13567,
          1.13779,
          1.13813,
          1.13788,
          1.13618,
          1.13184,
          1.1301,
          1.12993,
          1.12981,
          1.12933,
          1.12988,
          1.1288,
          1.1283,
          1.12884,
          1.1289,
          1.12938,
          1.12972,
          1.13111,
          1.13044,
          1.13218,
          1.13248,
          1.13219
         ],
         "decreasing": {
          "fillcolor": "#CC2E3C",
          "line": {
           "color": "#FF3A4C"
          }
         },
         "high": [
          1.13854,
          1.1375,
          1.13586,
          1.13788,
          1.14036,
          1.13984,
          1.13837,
          1.13616,
          1.13259,
          1.13146,
          1.13031,
          1.13024,
          1.12988,
          1.13,
          1.12943,
          1.12895,
          1.12978,
          1.12978,
          1.1298,
          1.13138,
          1.13162,
          1.13219,
          1.13406,
          1.13268
         ],
         "increasing": {
          "fillcolor": "#24A06B",
          "line": {
           "color": "#2EC886"
          }
         },
         "line": {
          "width": 1
         },
         "low": [
          1.13702,
          1.13534,
          1.13365,
          1.13508,
          1.1372,
          1.13625,
          1.13616,
          1.13078,
          1.12978,
          1.12924,
          1.12886,
          1.12928,
          1.12874,
          1.12876,
          1.12803,
          1.12765,
          1.12856,
          1.12875,
          1.12913,
          1.12933,
          1.1297,
          1.12972,
          1.13202,
          1.13102
         ],
         "opacity": 1,
         "open": [
          1.13835,
          1.13726,
          1.13558,
          1.13568,
          1.1378,
          1.13814,
          1.13786,
          1.13616,
          1.13182,
          1.13009,
          1.12992,
          1.12956,
          1.12936,
          1.12987,
          1.12881,
          1.12828,
          1.12886,
          1.12888,
          1.12939,
          1.1297,
          1.1311,
          1.13043,
          1.13216,
          1.13248
         ],
         "type": "candlestick",
         "x": [
          "2020-06-11T10:00:00.000000000Z",
          "2020-06-11T11:00:00.000000000Z",
          "2020-06-11T12:00:00.000000000Z",
          "2020-06-11T13:00:00.000000000Z",
          "2020-06-11T14:00:00.000000000Z",
          "2020-06-11T15:00:00.000000000Z",
          "2020-06-11T16:00:00.000000000Z",
          "2020-06-11T17:00:00.000000000Z",
          "2020-06-11T18:00:00.000000000Z",
          "2020-06-11T19:00:00.000000000Z",
          "2020-06-11T20:00:00.000000000Z",
          "2020-06-11T21:00:00.000000000Z",
          "2020-06-11T22:00:00.000000000Z",
          "2020-06-11T23:00:00.000000000Z",
          "2020-06-12T00:00:00.000000000Z",
          "2020-06-12T01:00:00.000000000Z",
          "2020-06-12T02:00:00.000000000Z",
          "2020-06-12T03:00:00.000000000Z",
          "2020-06-12T04:00:00.000000000Z",
          "2020-06-12T05:00:00.000000000Z",
          "2020-06-12T06:00:00.000000000Z",
          "2020-06-12T07:00:00.000000000Z",
          "2020-06-12T08:00:00.000000000Z",
          "2020-06-12T09:00:00.000000000Z"
         ]
        },
        {
         "line": {
          "shape": "spline",
          "width": 2
         },
         "name": "MA_16",
         "type": "scatter",
         "x": [
          "2020-06-11T10:00:00.000000000Z",
          "2020-06-11T11:00:00.000000000Z",
          "2020-06-11T12:00:00.000000000Z",
          "2020-06-11T13:00:00.000000000Z",
          "2020-06-11T14:00:00.000000000Z",
          "2020-06-11T15:00:00.000000000Z",
          "2020-06-11T16:00:00.000000000Z",
          "2020-06-11T17:00:00.000000000Z",
          "2020-06-11T18:00:00.000000000Z",
          "2020-06-11T19:00:00.000000000Z",
          "2020-06-11T20:00:00.000000000Z",
          "2020-06-11T21:00:00.000000000Z",
          "2020-06-11T22:00:00.000000000Z",
          "2020-06-11T23:00:00.000000000Z",
          "2020-06-12T00:00:00.000000000Z",
          "2020-06-12T01:00:00.000000000Z",
          "2020-06-12T02:00:00.000000000Z",
          "2020-06-12T03:00:00.000000000Z",
          "2020-06-12T04:00:00.000000000Z",
          "2020-06-12T05:00:00.000000000Z",
          "2020-06-12T06:00:00.000000000Z",
          "2020-06-12T07:00:00.000000000Z",
          "2020-06-12T08:00:00.000000000Z",
          "2020-06-12T09:00:00.000000000Z"
         ],
         "y": [
          1.137316875,
          1.137106875,
          1.1369918749999999,
          1.13700125,
          1.137024375,
          1.137098125,
          1.136943125,
          1.1364975,
          1.13595625,
          1.1355943750000002,
          1.135263125,
          1.13494875,
          1.1345637499999999,
          1.1340925000000002,
          1.1334250000000001,
          1.13283125,
          1.13231,
          1.1319225,
          1.131550625,
          1.131133125,
          1.1306525,
          1.13029625,
          1.130065,
          1.130086875
         ]
        },
        {
         "line": {
          "shape": "spline",
          "width": 2
         },
         "name": "MA_64",
         "type": "scatter",
         "x": [
          "2020-06-11T10:00:00.000000000Z",
          "2020-06-11T11:00:00.000000000Z",
          "2020-06-11T12:00:00.000000000Z",
          "2020-06-11T13:00:00.000000000Z",
          "2020-06-11T14:00:00.000000000Z",
          "2020-06-11T15:00:00.000000000Z",
          "2020-06-11T16:00:00.000000000Z",
          "2020-06-11T17:00:00.000000000Z",
          "2020-06-11T18:00:00.000000000Z",
          "2020-06-11T19:00:00.000000000Z",
          "2020-06-11T20:00:00.000000000Z",
          "2020-06-11T21:00:00.000000000Z",
          "2020-06-11T22:00:00.000000000Z",
          "2020-06-11T23:00:00.000000000Z",
          "2020-06-12T00:00:00.000000000Z",
          "2020-06-12T01:00:00.000000000Z",
          "2020-06-12T02:00:00.000000000Z",
          "2020-06-12T03:00:00.000000000Z",
          "2020-06-12T04:00:00.000000000Z",
          "2020-06-12T05:00:00.000000000Z",
          "2020-06-12T06:00:00.000000000Z",
          "2020-06-12T07:00:00.000000000Z",
          "2020-06-12T08:00:00.000000000Z",
          "2020-06-12T09:00:00.000000000Z"
         ],
         "y": [
          1.13393421875,
          1.1340257812499999,
          1.1341234375,
          1.13425828125,
          1.13439375,
          1.13451,
          1.1345996875000002,
          1.13464046875,
          1.13466140625,
          1.13467984375,
          1.1346993749999998,
          1.1347018750000002,
          1.1347500000000001,
          1.1347828125000001,
          1.13481625,
          1.1348496875,
          1.134860625,
          1.1348790625,
          1.1348753125,
          1.1348162499999999,
          1.1347387500000001,
          1.13469875,
          1.1346706249999998,
          1.13463359375
         ]
        }
       ],
       "layout": {
        "font": {
         "color": "#e1e1e1",
         "size": 10
        },
        "height": 400,
        "margin": {
         "b": 10,
         "l": 10,
         "r": 10,
         "t": 10
        },
        "paper_bgcolor": "#1e1e1e",
        "plot_bgcolor": "#1e1e1e",
        "template": {
         "data": {
          "bar": [
           {
            "error_x": {
             "color": "#2a3f5f"
            },
            "error_y": {
             "color": "#2a3f5f"
            },
            "marker": {
             "line": {
              "color": "#E5ECF6",
              "width": 0.5
             }
            },
            "type": "bar"
           }
          ],
          "barpolar": [
           {
            "marker": {
             "line": {
              "color": "#E5ECF6",
              "width": 0.5
             }
            },
            "type": "barpolar"
           }
          ],
          "carpet": [
           {
            "aaxis": {
             "endlinecolor": "#2a3f5f",
             "gridcolor": "white",
             "linecolor": "white",
             "minorgridcolor": "white",
             "startlinecolor": "#2a3f5f"
            },
            "baxis": {
             "endlinecolor": "#2a3f5f",
             "gridcolor": "white",
             "linecolor": "white",
             "minorgridcolor": "white",
             "startlinecolor": "#2a3f5f"
            },
            "type": "carpet"
           }
          ],
          "choropleth": [
           {
            "colorbar": {
             "outlinewidth": 0,
             "ticks": ""
            },
            "type": "choropleth"
           }
          ],
          "contour": [
           {
            "colorbar": {
             "outlinewidth": 0,
             "ticks": ""
            },
            "colorscale": [
             [
              0,
              "#0d0887"
             ],
             [
              0.1111111111111111,
              "#46039f"
             ],
             [
              0.2222222222222222,
              "#7201a8"
             ],
             [
              0.3333333333333333,
              "#9c179e"
             ],
             [
              0.4444444444444444,
              "#bd3786"
             ],
             [
              0.5555555555555556,
              "#d8576b"
             ],
             [
              0.6666666666666666,
              "#ed7953"
             ],
             [
              0.7777777777777778,
              "#fb9f3a"
             ],
             [
              0.8888888888888888,
              "#fdca26"
             ],
             [
              1,
              "#f0f921"
             ]
            ],
            "type": "contour"
           }
          ],
          "contourcarpet": [
           {
            "colorbar": {
             "outlinewidth": 0,
             "ticks": ""
            },
            "type": "contourcarpet"
           }
          ],
          "heatmap": [
           {
            "colorbar": {
             "outlinewidth": 0,
             "ticks": ""
            },
            "colorscale": [
             [
              0,
              "#0d0887"
             ],
             [
              0.1111111111111111,
              "#46039f"
             ],
             [
              0.2222222222222222,
              "#7201a8"
             ],
             [
              0.3333333333333333,
              "#9c179e"
             ],
             [
              0.4444444444444444,
              "#bd3786"
             ],
             [
              0.5555555555555556,
              "#d8576b"
             ],
             [
              0.6666666666666666,
              "#ed7953"
             ],
             [
              0.7777777777777778,
              "#fb9f3a"
             ],
             [
              0.8888888888888888,
              "#fdca26"
             ],
             [
              1,
              "#f0f921"
             ]
            ],
            "type": "heatmap"
           }
          ],
          "heatmapgl": [
           {
            "colorbar": {
             "outlinewidth": 0,
             "ticks": ""
            },
            "colorscale": [
             [
              0,
              "#0d0887"
             ],
             [
              0.1111111111111111,
              "#46039f"
             ],
             [
              0.2222222222222222,
              "#7201a8"
             ],
             [
              0.3333333333333333,
              "#9c179e"
             ],
             [
              0.4444444444444444,
              "#bd3786"
             ],
             [
              0.5555555555555556,
              "#d8576b"
             ],
             [
              0.6666666666666666,
              "#ed7953"
             ],
             [
              0.7777777777777778,
              "#fb9f3a"
             ],
             [
              0.8888888888888888,
              "#fdca26"
             ],
             [
              1,
              "#f0f921"
             ]
            ],
            "type": "heatmapgl"
           }
          ],
          "histogram": [
           {
            "marker": {
             "colorbar": {
              "outlinewidth": 0,
              "ticks": ""
             }
            },
            "type": "histogram"
           }
          ],
          "histogram2d": [
           {
            "colorbar": {
             "outlinewidth": 0,
             "ticks": ""
            },
            "colorscale": [
             [
              0,
              "#0d0887"
             ],
             [
              0.1111111111111111,
              "#46039f"
             ],
             [
              0.2222222222222222,
              "#7201a8"
             ],
             [
              0.3333333333333333,
              "#9c179e"
             ],
             [
              0.4444444444444444,
              "#bd3786"
             ],
             [
              0.5555555555555556,
              "#d8576b"
             ],
             [
              0.6666666666666666,
              "#ed7953"
             ],
             [
              0.7777777777777778,
              "#fb9f3a"
             ],
             [
              0.8888888888888888,
              "#fdca26"
             ],
             [
              1,
              "#f0f921"
             ]
            ],
            "type": "histogram2d"
           }
          ],
          "histogram2dcontour": [
           {
            "colorbar": {
             "outlinewidth": 0,
             "ticks": ""
            },
            "colorscale": [
             [
              0,
              "#0d0887"
             ],
             [
              0.1111111111111111,
              "#46039f"
             ],
             [
              0.2222222222222222,
              "#7201a8"
             ],
             [
              0.3333333333333333,
              "#9c179e"
             ],
             [
              0.4444444444444444,
              "#bd3786"
             ],
             [
              0.5555555555555556,
              "#d8576b"
             ],
             [
              0.6666666666666666,
              "#ed7953"
             ],
             [
              0.7777777777777778,
              "#fb9f3a"
             ],
             [
              0.8888888888888888,
              "#fdca26"
             ],
             [
              1,
              "#f0f921"
             ]
            ],
            "type": "histogram2dcontour"
           }
          ],
          "mesh3d": [
           {
            "colorbar": {
             "outlinewidth": 0,
             "ticks": ""
            },
            "type": "mesh3d"
           }
          ],
          "parcoords": [
           {
            "line": {
             "colorbar": {
              "outlinewidth": 0,
              "ticks": ""
             }
            },
            "type": "parcoords"
           }
          ],
          "pie": [
           {
            "automargin": true,
            "type": "pie"
           }
          ],
          "scatter": [
           {
            "marker": {
             "colorbar": {
              "outlinewidth": 0,
              "ticks": ""
             }
            },
            "type": "scatter"
           }
          ],
          "scatter3d": [
           {
            "line": {
             "colorbar": {
              "outlinewidth": 0,
              "ticks": ""
             }
            },
            "marker": {
             "colorbar": {
              "outlinewidth": 0,
              "ticks": ""
             }
            },
            "type": "scatter3d"
           }
          ],
          "scattercarpet": [
           {
            "marker": {
             "colorbar": {
              "outlinewidth": 0,
              "ticks": ""
             }
            },
            "type": "scattercarpet"
           }
          ],
          "scattergeo": [
           {
            "marker": {
             "colorbar": {
              "outlinewidth": 0,
              "ticks": ""
             }
            },
            "type": "scattergeo"
           }
          ],
          "scattergl": [
           {
            "marker": {
             "colorbar": {
              "outlinewidth": 0,
              "ticks": ""
             }
            },
            "type": "scattergl"
           }
          ],
          "scattermapbox": [
           {
            "marker": {
             "colorbar": {
              "outlinewidth": 0,
              "ticks": ""
             }
            },
            "type": "scattermapbox"
           }
          ],
          "scatterpolar": [
           {
            "marker": {
             "colorbar": {
              "outlinewidth": 0,
              "ticks": ""
             }
            },
            "type": "scatterpolar"
           }
          ],
          "scatterpolargl": [
           {
            "marker": {
             "colorbar": {
              "outlinewidth": 0,
              "ticks": ""
             }
            },
            "type": "scatterpolargl"
           }
          ],
          "scatterternary": [
           {
            "marker": {
             "colorbar": {
              "outlinewidth": 0,
              "ticks": ""
             }
            },
            "type": "scatterternary"
           }
          ],
          "surface": [
           {
            "colorbar": {
             "outlinewidth": 0,
             "ticks": ""
            },
            "colorscale": [
             [
              0,
              "#0d0887"
             ],
             [
              0.1111111111111111,
              "#46039f"
             ],
             [
              0.2222222222222222,
              "#7201a8"
             ],
             [
              0.3333333333333333,
              "#9c179e"
             ],
             [
              0.4444444444444444,
              "#bd3786"
             ],
             [
              0.5555555555555556,
              "#d8576b"
             ],
             [
              0.6666666666666666,
              "#ed7953"
             ],
             [
              0.7777777777777778,
              "#fb9f3a"
             ],
             [
              0.8888888888888888,
              "#fdca26"
             ],
             [
              1,
              "#f0f921"
             ]
            ],
            "type": "surface"
           }
          ],
          "table": [
           {
            "cells": {
             "fill": {
              "color": "#EBF0F8"
             },
             "line": {
              "color": "white"
             }
            },
            "header": {
             "fill": {
              "color": "#C8D4E3"
             },
             "line": {
              "color": "white"
             }
            },
            "type": "table"
           }
          ]
         },
         "layout": {
          "annotationdefaults": {
           "arrowcolor": "#2a3f5f",
           "arrowhead": 0,
           "arrowwidth": 1
          },
          "autotypenumbers": "strict",
          "coloraxis": {
           "colorbar": {
            "outlinewidth": 0,
            "ticks": ""
           }
          },
          "colorscale": {
           "diverging": [
            [
             0,
             "#8e0152"
            ],
            [
             0.1,
             "#c51b7d"
            ],
            [
             0.2,
             "#de77ae"
            ],
            [
             0.3,
             "#f1b6da"
            ],
            [
             0.4,
             "#fde0ef"
            ],
            [
             0.5,
             "#f7f7f7"
            ],
            [
             0.6,
             "#e6f5d0"
            ],
            [
             0.7,
             "#b8e186"
            ],
            [
             0.8,
             "#7fbc41"
            ],
            [
             0.9,
             "#4d9221"
            ],
            [
             1,
             "#276419"
            ]
           ],
           "sequential": [
            [
             0,
             "#0d0887"
            ],
            [
             0.1111111111111111,
             "#46039f"
            ],
            [
             0.2222222222222222,
             "#7201a8"
            ],
            [
             0.3333333333333333,
             "#9c179e"
            ],
            [
             0.4444444444444444,
             "#bd3786"
            ],
            [
             0.5555555555555556,
             "#d8576b"
            ],
            [
             0.6666666666666666,
             "#ed7953"
            ],
            [
             0.7777777777777778,
             "#fb9f3a"
            ],
            [
             0.8888888888888888,
             "#fdca26"
            ],
            [
             1,
             "#f0f921"
            ]
           ],
           "sequentialminus": [
            [
             0,
             "#0d0887"
            ],
            [
             0.1111111111111111,
             "#46039f"
            ],
            [
             0.2222222222222222,
             "#7201a8"
            ],
            [
             0.3333333333333333,
             "#9c179e"
            ],
            [
             0.4444444444444444,
             "#bd3786"
            ],
            [
             0.5555555555555556,
             "#d8576b"
            ],
            [
             0.6666666666666666,
             "#ed7953"
            ],
            [
             0.7777777777777778,
             "#fb9f3a"
            ],
            [
             0.8888888888888888,
             "#fdca26"
            ],
            [
             1,
             "#f0f921"
            ]
           ]
          },
          "colorway": [
           "#636efa",
           "#EF553B",
           "#00cc96",
           "#ab63fa",
           "#FFA15A",
           "#19d3f3",
           "#FF6692",
           "#B6E880",
           "#FF97FF",
           "#FECB52"
          ],
          "font": {
           "color": "#2a3f5f"
          },
          "geo": {
           "bgcolor": "white",
           "lakecolor": "white",
           "landcolor": "#E5ECF6",
           "showlakes": true,
           "showland": true,
           "subunitcolor": "white"
          },
          "hoverlabel": {
           "align": "left"
          },
          "hovermode": "closest",
          "mapbox": {
           "style": "light"
          },
          "paper_bgcolor": "white",
          "plot_bgcolor": "#E5ECF6",
          "polar": {
           "angularaxis": {
            "gridcolor": "white",
            "linecolor": "white",
            "ticks": ""
           },
           "bgcolor": "#E5ECF6",
           "radialaxis": {
            "gridcolor": "white",
            "linecolor": "white",
            "ticks": ""
           }
          },
          "scene": {
           "xaxis": {
            "backgroundcolor": "#E5ECF6",
            "gridcolor": "white",
            "gridwidth": 2,
            "linecolor": "white",
            "showbackground": true,
            "ticks": "",
            "zerolinecolor": "white"
           },
           "yaxis": {
            "backgroundcolor": "#E5ECF6",
            "gridcolor": "white",
            "gridwidth": 2,
            "linecolor": "white",
            "showbackground": true,
            "ticks": "",
            "zerolinecolor": "white"
           },
           "zaxis": {
            "backgroundcolor": "#E5ECF6",
            "gridcolor": "white",
            "gridwidth": 2,
            "linecolor": "white",
            "showbackground": true,
            "ticks": "",
            "zerolinecolor": "white"
           }
          },
          "shapedefaults": {
           "line": {
            "color": "#2a3f5f"
           }
          },
          "ternary": {
           "aaxis": {
            "gridcolor": "white",
            "linecolor": "white",
            "ticks": ""
           },
           "baxis": {
            "gridcolor": "white",
            "linecolor": "white",
            "ticks": ""
           },
           "bgcolor": "#E5ECF6",
           "caxis": {
            "gridcolor": "white",
            "linecolor": "white",
            "ticks": ""
           }
          },
          "title": {
           "x": 0.05
          },
          "xaxis": {
           "automargin": true,
           "gridcolor": "white",
           "linecolor": "white",
           "ticks": "",
           "title": {
            "standoff": 15
           },
           "zerolinecolor": "white",
           "zerolinewidth": 2
          },
          "yaxis": {
           "automargin": true,
           "gridcolor": "white",
           "linecolor": "white",
           "ticks": "",
           "title": {
            "standoff": 15
           },
           "zerolinecolor": "white",
           "zerolinewidth": 2
          }
         }
        },
        "width": 1000,
        "xaxis": {
         "fixedrange": true,
         "gridcolor": "#1f292f",
         "rangeslider": {
          "visible": false
         },
         "showgrid": true
        },
        "yaxis": {
         "gridcolor": "#1f292f",
         "showgrid": true
        }
       }
      }
     },
     "metadata": {}
    }
   ],
   "source": [
    "fig = go.Figure()\n",
    "fig.add_trace(go.Candlestick(\n",
    "    x=df_plot.time, open=df_plot.mid_o, high=df_plot.mid_h, low=df_plot.mid_l, close=df_plot.mid_c,\n",
    "    line=dict(width=1), opacity=1,\n",
    "    increasing_fillcolor='#24A06B',\n",
    "    decreasing_fillcolor=\"#CC2E3C\",\n",
    "    increasing_line_color='#2EC886',  \n",
    "    decreasing_line_color='#FF3A4C'\n",
    "))\n",
    "for ma in ma_list:  \n",
    "    col = f\"MA_{ma}\"\n",
    "    fig.add_trace(go.Scatter(x=df_plot.time, \n",
    "        y=df_plot[col],\n",
    "        line=dict(width=2),\n",
    "        line_shape='spline',\n",
    "        name=col\n",
    "        ))\n",
    "fig.update_layout(width=1000,height=400,\n",
    "    margin=dict(l=10,r=10,b=10,t=10),\n",
    "    font=dict(size=10,color=\"#e1e1e1\"),\n",
    "    paper_bgcolor=\"#1e1e1e\",\n",
    "    plot_bgcolor=\"#1e1e1e\")\n",
    "fig.update_xaxes(\n",
    "    gridcolor=\"#1f292f\",\n",
    "    showgrid=True,fixedrange=True,rangeslider=dict(visible=False)\n",
    ")\n",
    "fig.update_yaxes(\n",
    "    gridcolor=\"#1f292f\",\n",
    "    showgrid=True\n",
    ")\n",
    "fig.show()"
   ]
  },
  {
   "cell_type": "code",
   "execution_count": null,
   "metadata": {},
   "outputs": [],
   "source": []
  }
 ]
}