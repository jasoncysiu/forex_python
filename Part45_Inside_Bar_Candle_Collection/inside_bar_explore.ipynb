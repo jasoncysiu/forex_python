{
 "metadata": {
  "language_info": {
   "codemirror_mode": {
    "name": "ipython",
    "version": 3
   },
   "file_extension": ".py",
   "mimetype": "text/x-python",
   "name": "python",
   "nbconvert_exporter": "python",
   "pygments_lexer": "ipython3",
   "version": "3.8.6-final"
  },
  "orig_nbformat": 2,
  "kernelspec": {
   "name": "python3",
   "display_name": "Python 3",
   "language": "python"
  }
 },
 "nbformat": 4,
 "nbformat_minor": 2,
 "cells": [
  {
   "cell_type": "code",
   "execution_count": 9,
   "metadata": {},
   "outputs": [],
   "source": [
    "import pandas as pd\n",
    "import plotly.graph_objects as go\n",
    "import utils"
   ]
  },
  {
   "cell_type": "code",
   "execution_count": 10,
   "metadata": {},
   "outputs": [],
   "source": [
    "plot_cols = ['ENTRY', 'STOPLOSS', 'TAKEPROFIT']\n",
    "plot_colours = ['#043ef9', '#eb5334', '#34eb37']\n",
    "def plot_candles(df_plot):\n",
    "    fig = go.Figure()\n",
    "    fig.add_trace(go.Candlestick(\n",
    "        x=df_plot.time, open=df_plot.mid_o, high=df_plot.mid_h, low=df_plot.mid_l, close=df_plot.mid_c,\n",
    "        line=dict(width=1), opacity=1,\n",
    "        increasing_fillcolor='#24A06B',\n",
    "        decreasing_fillcolor=\"#CC2E3C\",\n",
    "        increasing_line_color='#2EC886',  \n",
    "        decreasing_line_color='#FF3A4C'\n",
    "    ))\n",
    "    for i in range(0, 3):\n",
    "        fig.add_trace(go.Scatter(\n",
    "            x=df_buys.time,\n",
    "            y=df_buys[plot_cols[i]],\n",
    "            mode='markers',\n",
    "            marker=dict(color=plot_colours[i],size=12)\n",
    "        ))\n",
    "    for i in range(0, 3):\n",
    "        fig.add_trace(go.Scatter(\n",
    "            x=df_sells.time,\n",
    "            y=df_sells[plot_cols[i]],\n",
    "            mode='markers',\n",
    "            marker=dict(color=plot_colours[i],size=12)\n",
    "        ))\n",
    "    fig.update_layout(width=1000,height=400,\n",
    "        margin=dict(l=10,r=10,b=10,t=10),\n",
    "        font=dict(size=10,color=\"#e1e1e1\"),\n",
    "        paper_bgcolor=\"#1e1e1e\",\n",
    "        plot_bgcolor=\"#1e1e1e\")\n",
    "    fig.update_xaxes(\n",
    "        gridcolor=\"#1f292f\",\n",
    "        showgrid=True,fixedrange=True,rangeslider=dict(visible=False),\n",
    "        rangebreaks=[\n",
    "            dict(bounds=[\"sat\", \"mon\"])\n",
    "        ]\n",
    "    )\n",
    "    fig.update_yaxes(\n",
    "        gridcolor=\"#1f292f\",\n",
    "        showgrid=True\n",
    "    )\n",
    "    fig.show()"
   ]
  },
  {
   "cell_type": "code",
   "execution_count": 11,
   "metadata": {},
   "outputs": [],
   "source": [
    "pair = \"USD_JPY\"\n",
    "granularity = \"H4\"\n",
    "df_raw = pd.read_pickle(utils.get_his_data_filename(pair, granularity))"
   ]
  },
  {
   "cell_type": "code",
   "execution_count": 12,
   "metadata": {},
   "outputs": [],
   "source": [
    "non_cols = ['time', 'volume']\n",
    "mod_cols = [x for x in df_raw.columns if x not in non_cols]\n",
    "df_raw[mod_cols] = df_raw[mod_cols].apply(pd.to_numeric)"
   ]
  },
  {
   "cell_type": "code",
   "execution_count": 13,
   "metadata": {},
   "outputs": [
    {
     "output_type": "execute_result",
     "data": {
      "text/plain": [
       "                             time  volume    mid_o    mid_h    mid_l    mid_c  \\\n",
       "0  2018-01-01T22:00:00.000000000Z    2968  112.666  112.793  112.582  112.723   \n",
       "1  2018-01-02T02:00:00.000000000Z    1009  112.720  112.751  112.666  112.688   \n",
       "2  2018-01-02T06:00:00.000000000Z    2226  112.691  112.700  112.249  112.252   \n",
       "3  2018-01-02T10:00:00.000000000Z    2056  112.254  112.282  112.086  112.124   \n",
       "4  2018-01-02T14:00:00.000000000Z    3781  112.122  112.304  112.058  112.285   \n",
       "\n",
       "     bid_o    bid_h    bid_l    bid_c    ask_o    ask_h    ask_l    ask_c  \n",
       "0  112.626  112.786  112.559  112.716  112.706  112.800  112.601  112.730  \n",
       "1  112.712  112.744  112.657  112.683  112.728  112.758  112.674  112.694  \n",
       "2  112.684  112.694  112.242  112.245  112.698  112.705  112.256  112.258  \n",
       "3  112.247  112.275  112.079  112.119  112.260  112.288  112.092  112.130  \n",
       "4  112.114  112.297  112.051  112.278  112.129  112.311  112.065  112.292  "
      ],
      "text/html": "<div>\n<style scoped>\n    .dataframe tbody tr th:only-of-type {\n        vertical-align: middle;\n    }\n\n    .dataframe tbody tr th {\n        vertical-align: top;\n    }\n\n    .dataframe thead th {\n        text-align: right;\n    }\n</style>\n<table border=\"1\" class=\"dataframe\">\n  <thead>\n    <tr style=\"text-align: right;\">\n      <th></th>\n      <th>time</th>\n      <th>volume</th>\n      <th>mid_o</th>\n      <th>mid_h</th>\n      <th>mid_l</th>\n      <th>mid_c</th>\n      <th>bid_o</th>\n      <th>bid_h</th>\n      <th>bid_l</th>\n      <th>bid_c</th>\n      <th>ask_o</th>\n      <th>ask_h</th>\n      <th>ask_l</th>\n      <th>ask_c</th>\n    </tr>\n  </thead>\n  <tbody>\n    <tr>\n      <th>0</th>\n      <td>2018-01-01T22:00:00.000000000Z</td>\n      <td>2968</td>\n      <td>112.666</td>\n      <td>112.793</td>\n      <td>112.582</td>\n      <td>112.723</td>\n      <td>112.626</td>\n      <td>112.786</td>\n      <td>112.559</td>\n      <td>112.716</td>\n      <td>112.706</td>\n      <td>112.800</td>\n      <td>112.601</td>\n      <td>112.730</td>\n    </tr>\n    <tr>\n      <th>1</th>\n      <td>2018-01-02T02:00:00.000000000Z</td>\n      <td>1009</td>\n      <td>112.720</td>\n      <td>112.751</td>\n      <td>112.666</td>\n      <td>112.688</td>\n      <td>112.712</td>\n      <td>112.744</td>\n      <td>112.657</td>\n      <td>112.683</td>\n      <td>112.728</td>\n      <td>112.758</td>\n      <td>112.674</td>\n      <td>112.694</td>\n    </tr>\n    <tr>\n      <th>2</th>\n      <td>2018-01-02T06:00:00.000000000Z</td>\n      <td>2226</td>\n      <td>112.691</td>\n      <td>112.700</td>\n      <td>112.249</td>\n      <td>112.252</td>\n      <td>112.684</td>\n      <td>112.694</td>\n      <td>112.242</td>\n      <td>112.245</td>\n      <td>112.698</td>\n      <td>112.705</td>\n      <td>112.256</td>\n      <td>112.258</td>\n    </tr>\n    <tr>\n      <th>3</th>\n      <td>2018-01-02T10:00:00.000000000Z</td>\n      <td>2056</td>\n      <td>112.254</td>\n      <td>112.282</td>\n      <td>112.086</td>\n      <td>112.124</td>\n      <td>112.247</td>\n      <td>112.275</td>\n      <td>112.079</td>\n      <td>112.119</td>\n      <td>112.260</td>\n      <td>112.288</td>\n      <td>112.092</td>\n      <td>112.130</td>\n    </tr>\n    <tr>\n      <th>4</th>\n      <td>2018-01-02T14:00:00.000000000Z</td>\n      <td>3781</td>\n      <td>112.122</td>\n      <td>112.304</td>\n      <td>112.058</td>\n      <td>112.285</td>\n      <td>112.114</td>\n      <td>112.297</td>\n      <td>112.051</td>\n      <td>112.278</td>\n      <td>112.129</td>\n      <td>112.311</td>\n      <td>112.065</td>\n      <td>112.292</td>\n    </tr>\n  </tbody>\n</table>\n</div>"
     },
     "metadata": {},
     "execution_count": 13
    }
   ],
   "source": [
    "df_raw.head()"
   ]
  },
  {
   "cell_type": "code",
   "execution_count": 14,
   "metadata": {},
   "outputs": [],
   "source": [
    "SLOSS = 0.4\n",
    "TPROFIT = 0.8\n",
    "ENTRY_PRC = 0.1\n",
    "\n",
    "def direction(row):\n",
    "    if row.mid_c > row.mid_o:\n",
    "        return 1\n",
    "    return -1\n",
    "\n",
    "def get_signal(row):\n",
    "    if row.mid_h_prev > row.mid_h and row.mid_l_prev < row.mid_l:\n",
    "        return row.DIRECTION_prev\n",
    "    return 0\n",
    "\n",
    "def get_entry_stop(row):\n",
    "    if row.SIGNAL == 1:\n",
    "        return (row.RANGE_prev * ENTRY_PRC) + row.ask_h_prev\n",
    "    elif row.SIGNAL == -1:\n",
    "        return row.bid_l_prev - (row.RANGE_prev * ENTRY_PRC)\n",
    "    else:\n",
    "        return 0\n",
    "\n",
    "def get_stop_loss(row):\n",
    "    if row.SIGNAL == 1:\n",
    "        return row.ENTRY - (row.RANGE_prev * SLOSS)\n",
    "    elif row.SIGNAL == -1:\n",
    "        return row.ENTRY + (row.RANGE_prev * SLOSS)\n",
    "    else:\n",
    "        return 0\n",
    "\n",
    "\n",
    "def get_take_profit(row):\n",
    "    if row.SIGNAL == 1:\n",
    "        return row.ENTRY + (row.RANGE_prev * TPROFIT)\n",
    "    elif row.SIGNAL == -1:\n",
    "        return row.ENTRY - (row.RANGE_prev * TPROFIT)\n",
    "    else:\n",
    "        return 0"
   ]
  },
  {
   "cell_type": "code",
   "execution_count": 15,
   "metadata": {},
   "outputs": [],
   "source": [
    "df = df_raw.copy()\n",
    "df['RANGE'] = df.mid_h - df.mid_l\n",
    "df['mid_h_prev'] = df.mid_h.shift(1)\n",
    "df['mid_l_prev'] = df.mid_l.shift(1)\n",
    "df['ask_h_prev'] = df.ask_h.shift(1)\n",
    "df['bid_l_prev'] = df.bid_l.shift(1)\n",
    "df['RANGE_prev'] = df.RANGE.shift(1)\n",
    "df['DIRECTION'] = df.apply(direction, axis=1)\n",
    "df['DIRECTION_prev'] = df.DIRECTION.shift(1).fillna(0).astype(int)\n",
    "df.dropna(inplace=True)\n",
    "df['SIGNAL'] = df.apply(get_signal, axis=1)\n",
    "df.reset_index(drop=True, inplace=True)"
   ]
  },
  {
   "cell_type": "code",
   "execution_count": 16,
   "metadata": {},
   "outputs": [],
   "source": [
    "df['ENTRY'] = df.apply(get_entry_stop, axis=1)\n",
    "df['STOPLOSS'] = df.apply(get_stop_loss, axis=1)\n",
    "df['TAKEPROFIT'] = df.apply(get_take_profit, axis=1)"
   ]
  },
  {
   "cell_type": "code",
   "execution_count": 17,
   "metadata": {},
   "outputs": [],
   "source": [
    "df[df.SIGNAL!=0].to_pickle(\"USD_JPY_H4_trades.pkl\")"
   ]
  },
  {
   "cell_type": "code",
   "execution_count": null,
   "metadata": {},
   "outputs": [],
   "source": []
  },
  {
   "cell_type": "code",
   "execution_count": null,
   "metadata": {},
   "outputs": [],
   "source": [
    "class Trade():\n",
    "    def __init__(self, row):\n",
    "        self.candle_date = row.time\n",
    "        self.direction = row.SIGNAL\n",
    "        self.entry = row.ENTRY\n",
    "        self.TP = row.TAKEPROFIT\n",
    "        self.SL = row.STOPLOSS\n",
    "        self.running = False\n",
    "        self.result = None\n",
    "        self.stopped = None\n",
    "\n",
    "    def update(self, row):\n",
    "        if self.running == True:\n",
    "            self.update_result(row)\n",
    "        else:\n",
    "            self.check_entry(row)    \n",
    "    \n",
    "    def check_entry(self, row):\n",
    "        if self.direction == 1 and row.mid_c >= self.entry or self.direction == -1 and row.mid_c <= self.entry:\n",
    "            self.index = row.name\n",
    "            self.opened = row.time\n",
    "            self.running = True\n",
    "\n",
    "    def update_result(self, row):\n",
    "        if self.direction == 1:\n",
    "            if row.mid_c >= self.TP:\n",
    "                self.result = 2.0\n",
    "            elif row.mid_c <= self.SL:\n",
    "                self.result = -1.0\n",
    "        else:\n",
    "            if row.mid_c <= self.TP:\n",
    "                self.result = 2.0            \n",
    "            elif row.mid_c >= self.SL:\n",
    "                self.result = -1.0   \n",
    "        \n",
    "        if self.result is not None:\n",
    "            self.running = False\n",
    "            self.stopped = row.time\n"
   ]
  },
  {
   "cell_type": "code",
   "execution_count": null,
   "metadata": {},
   "outputs": [],
   "source": [
    "open_trades = []\n",
    "closed_trades = []\n",
    "\n",
    "for index, row in df.iterrows():\n",
    "    for ot in open_trades:\n",
    "        ot.update(row)\n",
    "        if ot.stopped is not None:\n",
    "            closed_trades.append(ot)\n",
    "    \n",
    "    open_trades = [x for x in open_trades if x.stopped is None]\n",
    "\n",
    "    if row.SIGNAL != 0:\n",
    "        open_trades = [x for x in open_trades if x.running == True]\n",
    "        open_trades.append(Trade(row))\n"
   ]
  },
  {
   "cell_type": "code",
   "execution_count": null,
   "metadata": {},
   "outputs": [],
   "source": [
    "df_trades = pd.DataFrame.from_dict([vars(x) for x in closed_trades])"
   ]
  },
  {
   "cell_type": "code",
   "execution_count": null,
   "metadata": {},
   "outputs": [],
   "source": []
  },
  {
   "cell_type": "code",
   "execution_count": null,
   "metadata": {},
   "outputs": [],
   "source": [
    "df[df.SIGNAL!=0].head()"
   ]
  },
  {
   "cell_type": "code",
   "execution_count": null,
   "metadata": {},
   "outputs": [],
   "source": [
    "df_plot = df.iloc[0:60]\n",
    "df_buys = df_plot[df_plot.SIGNAL == 1]\n",
    "df_sells = df_plot[df_plot.SIGNAL == -1]"
   ]
  },
  {
   "cell_type": "code",
   "execution_count": null,
   "metadata": {},
   "outputs": [],
   "source": [
    "df_trades.result.sum()"
   ]
  },
  {
   "cell_type": "code",
   "execution_count": null,
   "metadata": {},
   "outputs": [],
   "source": [
    "plot_candles(df_plot)"
   ]
  },
  {
   "cell_type": "code",
   "execution_count": null,
   "metadata": {},
   "outputs": [],
   "source": []
  }
 ]
}